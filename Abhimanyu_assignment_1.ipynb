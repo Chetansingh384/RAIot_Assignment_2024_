{
 "cells": [
  {
   "cell_type": "markdown",
   "metadata": {},
   "source": [
    "# Lesson 1.2: Python Basics\n",
    "## Topics Covered:\n",
    "- Syntax and Semantics\n",
    "- Variables and Data Types\n",
    "- Basic Operators (Arithmetic, Comparison, Logical)\n"
   ]
  },
  {
   "cell_type": "markdown",
   "metadata": {},
   "source": [
    "## 1. Syntax and Semantics\n",
    "\n",
    "**Question 1:** Write a Python program to print \"Hello, World!\"."
   ]
  },
  {
   "cell_type": "code",
   "execution_count": null,
   "metadata": {},
   "outputs": [],
   "source": [
    "# Your code here\n",
    "print(\"Hello, World!\")"
   ]
  },
  {
   "cell_type": "markdown",
   "metadata": {},
   "source": [
    "**Question 2:** Write a Python program that takes a user input and prints it."
   ]
  },
  {
   "cell_type": "code",
   "execution_count": null,
   "metadata": {},
   "outputs": [],
   "source": [
    "# Your code here\n",
    "c=input()\n",
    "print(c)"
   ]
  },
  {
   "cell_type": "markdown",
   "metadata": {},
   "source": [
    "**Question 3:** Write a Python program to check if a number is positive, negative, or zero."
   ]
  },
  {
   "cell_type": "code",
   "execution_count": null,
   "metadata": {},
   "outputs": [],
   "source": [
    "# Your code here\n",
    "num= input()\n",
    "if(num > 0):\n",
    "    print(\"Positive\")\n",
    "elif(num <0):\n",
    "    print(\"Negative\")\n",
    "else:\n",
    "    print(\"Zero\")\n",
    "        "
   ]
  },
  {
   "cell_type": "markdown",
   "metadata": {},
   "source": [
    "**Question 4:** Write a Python program to find the largest of three numbers."
   ]
  },
  {
   "cell_type": "code",
   "execution_count": null,
   "metadata": {},
   "outputs": [],
   "source": [
    "# Your code here\n",
    "num1= input()\n",
    "num2= input()\n",
    "num3= input()\n",
    "if(num1>num2 and num1>num3):\n",
    "    print(num1,\"is the graetest number\")\n",
    "elif(num2>num1 and num2 > num3):\n",
    "    print(num2,\"is the graetest number\")\n",
    "else:\n",
    "    printf(num3,\"is the graetest number\")"
   ]
  },
  {
   "cell_type": "markdown",
   "metadata": {},
   "source": [
    "**Question 5:** Write a Python program to calculate the factorial of a number."
   ]
  },
  {
   "cell_type": "code",
   "execution_count": 14,
   "metadata": {},
   "outputs": [
    {
     "name": "stdout",
     "output_type": "stream",
     "text": [
      "1\n"
     ]
    }
   ],
   "source": [
    "# Your code here\n",
    "num = int(input())\n",
    "fact=num\n",
    "if(num==1 or num==0):\n",
    "    print(1)\n",
    "else:\n",
    "    for i in range(1,num):\n",
    "        fact= fact*(num-i)\n",
    "    print(fact)\n"
   ]
  },
  {
   "cell_type": "markdown",
   "metadata": {},
   "source": [
    "## 2. Variables and Data Types\n",
    "\n",
    "**Question 6:** Create variables of different data types: integer, float, string, and boolean. Print their values and types."
   ]
  },
  {
   "cell_type": "code",
   "execution_count": 15,
   "metadata": {},
   "outputs": [
    {
     "name": "stdout",
     "output_type": "stream",
     "text": [
      "4\n",
      "<class 'int'>\n",
      "3.2\n",
      "<class 'float'>\n",
      "abhi singh\n",
      "<class 'str'>\n",
      "True\n",
      "<class 'bool'>\n"
     ]
    }
   ],
   "source": [
    "# Your code here\n",
    "num_int=int(input())\n",
    "num_float=float(input())\n",
    "string_input=input()\n",
    "bool = bool(input())\n",
    "print(num_int)\n",
    "print(type(num_int))\n",
    "\n",
    "print(num_float)\n",
    "print(type(num_float))\n",
    "\n",
    "print(string_input)\n",
    "print(type(string_input))\n",
    "\n",
    "print(bool)\n",
    "print(type(bool))"
   ]
  },
  {
   "cell_type": "markdown",
   "metadata": {},
   "source": [
    "**Question 7:** Write a Python program to swap the values of two variables."
   ]
  },
  {
   "cell_type": "code",
   "execution_count": 16,
   "metadata": {},
   "outputs": [
    {
     "name": "stdout",
     "output_type": "stream",
     "text": [
      "4 5\n",
      "5 4\n"
     ]
    }
   ],
   "source": [
    "# Your code here\n",
    "num1= int(input())\n",
    "num2= int(input())\n",
    "print(num1,num2)\n",
    "num1=num1+num2\n",
    "num2=num1-num2\n",
    "num1 = num1-num2\n",
    "print(num1,num2)"
   ]
  },
  {
   "cell_type": "markdown",
   "metadata": {},
   "source": [
    "**Question 8:** Write a Python program to convert Celsius to Fahrenheit."
   ]
  },
  {
   "cell_type": "code",
   "execution_count": null,
   "metadata": {},
   "outputs": [],
   "source": [
    "# Your code here\n",
    "Degree_C=float(input())\n",
    "Degree_F= (Degree_C*9/5)+32\n",
    "print(Degree_F)"
   ]
  },
  {
   "cell_type": "markdown",
   "metadata": {},
   "source": [
    "**Question 9:** Write a Python program to concatenate two strings."
   ]
  },
  {
   "cell_type": "code",
   "execution_count": 17,
   "metadata": {},
   "outputs": [
    {
     "name": "stdout",
     "output_type": "stream",
     "text": [
      "helloWorld\n"
     ]
    }
   ],
   "source": [
    "# Your code here\n",
    "string_1 = input()\n",
    "string_2 =input()\n",
    "print(string_1+string_2)"
   ]
  },
  {
   "cell_type": "markdown",
   "metadata": {},
   "source": [
    "**Question 10:** Write a Python program to check if a variable is of a specific data type."
   ]
  },
  {
   "cell_type": "code",
   "execution_count": null,
   "metadata": {},
   "outputs": [
    {
     "name": "stdout",
     "output_type": "stream",
     "text": [
      "The variable is not iteger\n"
     ]
    }
   ],
   "source": [
    "variable =123\n",
    "if(isinstance(variable,int)):\n",
    "    print(\"The varialble is integer\")\n",
    "else:\n",
    "    print(\"The variable is not iteger\")"
   ]
  },
  {
   "cell_type": "markdown",
   "metadata": {},
   "source": [
    "## 3. Basic Operators (Arithmetic, Comparison, Logical)\n",
    "\n",
    "**Question 11:** Write a Python program to perform arithmetic operations: addition, subtraction, multiplication, and division."
   ]
  },
  {
   "cell_type": "code",
   "execution_count": 18,
   "metadata": {},
   "outputs": [
    {
     "name": "stdout",
     "output_type": "stream",
     "text": [
      "6.8\n",
      "-2.2\n",
      "10.35\n",
      "0.5111111111111111\n"
     ]
    }
   ],
   "source": [
    "# Your code here\n",
    "num1= float(input())\n",
    "num2= float(input())\n",
    "add= num1+num2\n",
    "sub= num1-num2\n",
    "mul= num1*num2\n",
    "div= num1/num2\n",
    "print(add)\n",
    "print(sub)\n",
    "print(mul)\n",
    "print(div)\n",
    "\n"
   ]
  },
  {
   "cell_type": "markdown",
   "metadata": {},
   "source": [
    "**Question 12:** Write a Python program to demonstrate comparison operators: equal to, not equal to, greater than, less than."
   ]
  },
  {
   "cell_type": "code",
   "execution_count": 23,
   "metadata": {},
   "outputs": [
    {
     "name": "stdout",
     "output_type": "stream",
     "text": [
      "3 is greater\n",
      "Not Equal\n"
     ]
    }
   ],
   "source": [
    "# Your code here\n",
    "num1= int(input())\n",
    "num2= int(input())\n",
    "if(num1>num2):\n",
    "    print(num1 ,\"is greater\")\n",
    "elif(num1<num2):\n",
    "    print(num2,\"is greater\")\n",
    "elif(num1==num2):\n",
    "    print(\"Equal\")\n",
    "if(num1 != num2):\n",
    "    print(\"Not Equal\")\n"
   ]
  },
  {
   "cell_type": "markdown",
   "metadata": {},
   "source": [
    "**Question 13:** Write a Python program to demonstrate logical operators: and, or, not."
   ]
  },
  {
   "cell_type": "code",
   "execution_count": 36,
   "metadata": {},
   "outputs": [
    {
     "name": "stdout",
     "output_type": "stream",
     "text": [
      "one of this is true\n",
      "num1 is true and num2 is false\n"
     ]
    }
   ],
   "source": [
    "# Your code here\n",
    "num1= (input())\n",
    "num2= (input())\n",
    "if(num1==\"true\" and num2==\"true\"):\n",
    "    print(\"Both true\")\n",
    "elif(num1==\"true\" or num2==\"true\"):\n",
    "    print(\"one of this is true\")\n",
    "if(num1==\"true\" and not num2==\"true\"):\n",
    "    print(\"num1 is true and num2 is false\")\n",
    "if(num2==\"true\" and not num1==\"true\"):\n",
    "    print(\"num2 is true and num1 is false\")\n"
   ]
  },
  {
   "cell_type": "markdown",
   "metadata": {},
   "source": [
    "**Question 14:** Write a Python program to calculate the square of a number."
   ]
  },
  {
   "cell_type": "code",
   "execution_count": 2,
   "metadata": {},
   "outputs": [
    {
     "name": "stdout",
     "output_type": "stream",
     "text": [
      "144\n"
     ]
    }
   ],
   "source": [
    "# Your code here\n",
    "number = int(input())\n",
    "square = number *number\n",
    "print (square)"
   ]
  },
  {
   "cell_type": "markdown",
   "metadata": {},
   "source": [
    "**Question 15:** Write a Python program to check if a number is even or odd."
   ]
  },
  {
   "cell_type": "code",
   "execution_count": 13,
   "metadata": {},
   "outputs": [
    {
     "name": "stdout",
     "output_type": "stream",
     "text": [
      "number is neither even nor odd\n"
     ]
    }
   ],
   "source": [
    "# Your code here\n",
    "number=int(input())\n",
    "if(number%2==0 and number !=0 ):\n",
    "    print (\"number is even\")\n",
    "elif(number==1 or number==0):\n",
    "    print(\"number is neither even nor odd\")\n",
    "else:\n",
    "    print(\"the number is odd\")"
   ]
  },
  {
   "cell_type": "markdown",
   "metadata": {},
   "source": [
    "**Question 16:** Write a Python program to find the sum of the first n natural numbers."
   ]
  },
  {
   "cell_type": "code",
   "execution_count": 17,
   "metadata": {},
   "outputs": [
    {
     "name": "stdout",
     "output_type": "stream",
     "text": [
      "55\n"
     ]
    }
   ],
   "source": [
    "# Your code here\n",
    "number = int(input())\n",
    "sum= number*(number+1)/2\n",
    "print(int(sum))"
   ]
  },
  {
   "cell_type": "markdown",
   "metadata": {},
   "source": [
    "**Question 17:** Write a Python program to check if a year is a leap year."
   ]
  },
  {
   "cell_type": "code",
   "execution_count": 20,
   "metadata": {},
   "outputs": [
    {
     "name": "stdout",
     "output_type": "stream",
     "text": [
      "not leap year\n"
     ]
    }
   ],
   "source": [
    "# Your code here\n",
    "year=int(input())\n",
    "if(year%4==0 and year%100!=0 or year%400==0):\n",
    "    print ('Leap year')\n",
    "else:\n",
    "    print('not leap year')\n"
   ]
  },
  {
   "cell_type": "markdown",
   "metadata": {},
   "source": [
    "**Question 18:** Write a Python program to reverse a string."
   ]
  },
  {
   "cell_type": "code",
   "execution_count": 21,
   "metadata": {},
   "outputs": [
    {
     "name": "stdout",
     "output_type": "stream",
     "text": [
      "alleh\n"
     ]
    }
   ],
   "source": [
    "# Your code here\n",
    "string_input= input()\n",
    "reverse = string_input[::-1]\n",
    "print(reverse)"
   ]
  },
  {
   "cell_type": "markdown",
   "metadata": {},
   "source": [
    "**Question 19:** Write a Python program to check if a string is a palindrome."
   ]
  },
  {
   "cell_type": "code",
   "execution_count": 24,
   "metadata": {},
   "outputs": [
    {
     "name": "stdout",
     "output_type": "stream",
     "text": [
      "it is a palindrome\n"
     ]
    }
   ],
   "source": [
    "# Your code \n",
    "string_in = input()\n",
    "reverse= string_in [::-1]\n",
    "if(string_in==reverse):\n",
    "    print('it is a palindrome')\n",
    "else:\n",
    "    print('not a palindrome')\n"
   ]
  },
  {
   "cell_type": "markdown",
   "metadata": {},
   "source": [
    "**Question 20:** Write a Python program to sort a list of numbers in ascending order."
   ]
  },
  {
   "cell_type": "code",
   "execution_count": 28,
   "metadata": {},
   "outputs": [
    {
     "name": "stdout",
     "output_type": "stream",
     "text": [
      "['1', '2', '3', '4', '5']\n"
     ]
    }
   ],
   "source": [
    "# Your code here\n",
    "ls=(input().split())\n",
    "ls.sort()\n",
    "print(ls)"
   ]
  }
 ],
 "metadata": {
  "kernelspec": {
   "display_name": "Python 3",
   "language": "python",
   "name": "python3"
  },
  "language_info": {
   "codemirror_mode": {
    "name": "ipython",
    "version": 3
   },
   "file_extension": ".py",
   "mimetype": "text/x-python",
   "name": "python",
   "nbconvert_exporter": "python",
   "pygments_lexer": "ipython3",
   "version": "3.12.7"
  }
 },
 "nbformat": 4,
 "nbformat_minor": 4
}
