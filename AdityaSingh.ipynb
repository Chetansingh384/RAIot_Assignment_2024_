{
 "cells": [
  {
   "cell_type": "markdown",
   "metadata": {},
   "source": [
    "# Lesson 1.2: Python Basics\n",
    "## Topics Covered:\n",
    "- Syntax and Semantics\n",
    "- Variables and Data Types\n",
    "- Basic Operators (Arithmetic, Comparison, Logical)\n"
   ]
  },
  {
   "cell_type": "markdown",
   "metadata": {},
   "source": [
    "## 1. Syntax and Semantics\n",
    "\n",
    "**Question 1:** Write a Python program to print \"Hello, World!\"."
   ]
  },
  {
   "cell_type": "code",
   "execution_count": 1,
   "metadata": {},
   "outputs": [
    {
     "name": "stdout",
     "output_type": "stream",
     "text": [
      "Hello, World!\n"
     ]
    }
   ],
   "source": [
    "print(\"Hello, World!\")"
   ]
  },
  {
   "cell_type": "markdown",
   "metadata": {},
   "source": [
    "**Question 2:** Write a Python program that takes a user input and prints it."
   ]
  },
  {
   "cell_type": "code",
   "execution_count": 7,
   "metadata": {},
   "outputs": [
    {
     "name": "stdout",
     "output_type": "stream",
     "text": [
      "HEllo\n"
     ]
    }
   ],
   "source": [
    "print(input(\"Enter the input to be printed: \"))"
   ]
  },
  {
   "cell_type": "markdown",
   "metadata": {},
   "source": [
    "**Question 3:** Write a Python program to check if a number is positive, negative, or zero."
   ]
  },
  {
   "cell_type": "code",
   "execution_count": 9,
   "metadata": {},
   "outputs": [
    {
     "name": "stdout",
     "output_type": "stream",
     "text": [
      "The number is greater than 0.\n"
     ]
    }
   ],
   "source": [
    "num = float(input(\"The number to be checked is: \"))\n",
    "\n",
    "if num == 0:\n",
    "    print(f\"The number is 0.\")\n",
    "\n",
    "elif num < 0:\n",
    "    print(f\"The number is smaller than 0.\")\n",
    "\n",
    "elif num > 0:\n",
    "    print(f\"The number is greater than 0.\")\n",
    "\n",
    "else:\n",
    "    print(\"Enter a valid choice.\")"
   ]
  },
  {
   "cell_type": "markdown",
   "metadata": {},
   "source": [
    "**Question 4:** Write a Python program to find the largest of three numbers."
   ]
  },
  {
   "cell_type": "code",
   "execution_count": 3,
   "metadata": {},
   "outputs": [
    {
     "name": "stdout",
     "output_type": "stream",
     "text": [
      "The largest number among the above is 65.\n"
     ]
    }
   ],
   "source": [
    "num1 = int(input(\"Enter first number: \"))\n",
    "num2 = int(input(\"Enter second number: \"))\n",
    "num3 = int(input(\"Enter third number: \"))\n",
    "\n",
    "print(f\"The largest number among the above is {max(num1,num2,num3)}.\")"
   ]
  },
  {
   "cell_type": "markdown",
   "metadata": {},
   "source": [
    "**Question 5:** Write a Python program to calculate the factorial of a number."
   ]
  },
  {
   "cell_type": "code",
   "execution_count": null,
   "metadata": {},
   "outputs": [],
   "source": [
    "number = int(input(\"Enter the number to find factorial: \"))\n",
    "ans = 1 \n",
    "\n",
    "if number < 0:\n",
    "    print(f\"Enter a valid number.\")\n",
    "\n",
    "else:\n",
    "    for i in range(1, number + 1):\n",
    "        ans = ans * i\n",
    "\n",
    "    print(f\"The value of {number}! is {ans}.\")\n"
   ]
  },
  {
   "cell_type": "markdown",
   "metadata": {},
   "source": [
    "## 2. Variables and Data Types\n",
    "\n",
    "**Question 6:** Create variables of different data types: integer, float, string, and boolean. Print their values and types."
   ]
  },
  {
   "cell_type": "code",
   "execution_count": 27,
   "metadata": {},
   "outputs": [
    {
     "name": "stdout",
     "output_type": "stream",
     "text": [
      "The value of integer is 25 and its type is <class 'int'>.\n",
      "The value of float is 3256.23 and its type is <class 'float'>.\n",
      "The value of string is qwertyuiop and its type is <class 'str'>.\n",
      "The value of bool is True and its type is <class 'bool'>.\n"
     ]
    }
   ],
   "source": [
    "Int = int(input(\"Enter integer: \"))\n",
    "Float = float(input(\"Enter float: \"))\n",
    "Str = input(\"Enter string: \")\n",
    "Bool = bool(input(\"Enter boolean value: \"))\n",
    "\n",
    "\n",
    "print(f\"The value of integer is {Int} and its type is {type(Int)}.\")\n",
    "print(f\"The value of float is {Float} and its type is {type(Float)}.\")\n",
    "print(f\"The value of string is {Str} and its type is {type(Str)}.\")\n",
    "print(f\"The value of bool is {Bool} and its type is {type(Bool)}.\")"
   ]
  },
  {
   "cell_type": "markdown",
   "metadata": {},
   "source": [
    "**Question 7:** Write a Python program to swap the values of two variables."
   ]
  },
  {
   "cell_type": "code",
   "execution_count": 20,
   "metadata": {},
   "outputs": [
    {
     "name": "stdout",
     "output_type": "stream",
     "text": [
      "The value before exchanging was 25 and 36.\n",
      "The value after exchanging was 36 and 25.\n"
     ]
    }
   ],
   "source": [
    "a = int(input(\"Enter first value: \"))\n",
    "b = int(input(\"Enter second value: \"))\n",
    "\n",
    "print(f\"The value before exchanging was {a} and {b}.\")\n",
    "\n",
    "a , b = b , a\n",
    "\n",
    "print(f\"The value after exchanging was {a} and {b}.\")"
   ]
  },
  {
   "cell_type": "markdown",
   "metadata": {},
   "source": [
    "**Question 8:** Write a Python program to convert Celsius to Fahrenheit."
   ]
  },
  {
   "cell_type": "code",
   "execution_count": 14,
   "metadata": {},
   "outputs": [
    {
     "name": "stdout",
     "output_type": "stream",
     "text": [
      "The temperature 56C is 132.8F.\n"
     ]
    }
   ],
   "source": [
    "Temp_C = int(input(\"The temperature to be converted to Fahrenheit is: \"))\n",
    "\n",
    "Temp_F = (Temp_C * 9 / 5) + 32\n",
    "\n",
    "print(f\"The temperature {Temp_C}C is {Temp_F}F.\")\n"
   ]
  },
  {
   "cell_type": "markdown",
   "metadata": {},
   "source": [
    "**Question 9:** Write a Python program to concatenate two strings."
   ]
  },
  {
   "cell_type": "code",
   "execution_count": 34,
   "metadata": {},
   "outputs": [
    {
     "name": "stdout",
     "output_type": "stream",
     "text": [
      "The concatenated string are Hello,World.\n"
     ]
    }
   ],
   "source": [
    "str1 = input(\"Input string 1: \")\n",
    "str2 = input(\"Input string 2: \")\n",
    "\n",
    "print(f\"The concatenated string are {str1}{str2}.\")"
   ]
  },
  {
   "cell_type": "markdown",
   "metadata": {},
   "source": [
    "**Question 10:** Write a Python program to check if a variable is of a specific data type."
   ]
  },
  {
   "cell_type": "code",
   "execution_count": 12,
   "metadata": {},
   "outputs": [
    {
     "name": "stdout",
     "output_type": "stream",
     "text": [
      "The variable is a float.\n"
     ]
    }
   ],
   "source": [
    "var = input(\"Enter the variable for which you need to check input for: \")\n",
    "\n",
    "choice = input(\"For what data type would you want to check for (integer/string(in '')/float/bool(True and False)) (Enter first 3 letters): \").strip().lower()\n",
    "\n",
    "if choice == \"int\":\n",
    "    print(\"The variable is an integer.\" if ((type(eval(var))) == int) else \"The variable is not an integer.\")\n",
    "\n",
    "elif choice == \"flo\":\n",
    "    print(\"The variable is a float.\" if ((type(eval(var))) == float) else \"The variable is not a float.\")\n",
    "\n",
    "elif choice == \"str\":\n",
    "    print(\"The variable is a string.\" if ((type(eval(var))) == str) else \"The variable is not a string.\")\n",
    "\n",
    "elif choice == \"boo\":\n",
    "    print(\"The variable is a boolean value.\" if ((type(eval(var))) == bool) else \"The variable is not a boolean value.\")\n",
    "\n",
    "else:\n",
    "    print(\"Enter a valid choice.\")"
   ]
  },
  {
   "cell_type": "markdown",
   "metadata": {},
   "source": [
    "## 3. Basic Operators (Arithmetic, Comparison, Logical)\n",
    "\n",
    "**Question 11:** Write a Python program to perform arithmetic operations: addition, subtraction, multiplication, and division."
   ]
  },
  {
   "cell_type": "code",
   "execution_count": 30,
   "metadata": {},
   "outputs": [
    {
     "name": "stdout",
     "output_type": "stream",
     "text": [
      "56 * 36 = 2016\n"
     ]
    }
   ],
   "source": [
    "a = int(input(\"Input first number: \"))\n",
    "b = int(input(\"Input second number: \"))\n",
    "\n",
    "choice = input(\"What operation would you like to do?(addition/subtraction/multiplication/division)(enter first 3 letters) : \")\n",
    "\n",
    "if choice == \"add\":\n",
    "    print(f\"{a} + {b} = {a + b}\")\n",
    "elif choice == \"sub\":\n",
    "    print(f\"{a} - {b} = {a - b}\")\n",
    "elif choice == \"mul\":\n",
    "    print(f\"{a} * {b} = {a * b}\")\n",
    "elif choice == \"div\":\n",
    "    print(f\"{a} / {b} = {a / b}\")\n",
    "else:\n",
    "    print(\"Enter a valid choice.\")"
   ]
  },
  {
   "cell_type": "markdown",
   "metadata": {},
   "source": [
    "**Question 12:** Write a Python program to demonstrate comparison operators: equal to, not equal to, greater than, less than."
   ]
  },
  {
   "cell_type": "code",
   "execution_count": 31,
   "metadata": {},
   "outputs": [
    {
     "name": "stdout",
     "output_type": "stream",
     "text": [
      "5 == 63: False\n",
      "5 != 63: True\n",
      "5 > 63: False\n",
      "5 < 63: True\n"
     ]
    }
   ],
   "source": [
    "a = int(input(\"Enter the first value: \"))\n",
    "b = int(input(\"Enter the second value: \"))\n",
    "\n",
    "print(f\"{a} == {b}: {a == b}\")\n",
    "print(f\"{a} != {b}: {a != b}\")\n",
    "print(f\"{a} > {b}: {a > b}\")\n",
    "print(f\"{a} < {b}: {a < b}\")"
   ]
  },
  {
   "cell_type": "markdown",
   "metadata": {},
   "source": [
    "**Question 13:** Write a Python program to demonstrate logical operators: and, or, not."
   ]
  },
  {
   "cell_type": "code",
   "execution_count": 33,
   "metadata": {},
   "outputs": [
    {
     "name": "stdout",
     "output_type": "stream",
     "text": [
      "56 > 0 and -96 > 0: False\n",
      "56 > 0 or -96 > 0: True\n",
      "56 is greater than 0: False\n"
     ]
    }
   ],
   "source": [
    "a = int(input(\"Enter the first value: \"))\n",
    "b = int(input(\"Enter the second value: \"))\n",
    "\n",
    "print(f\"{a} > 0 and {b} > 0: {a > 0 and b > 0}\")\n",
    "print(f\"{a} > 0 or {b} > 0: {a > 0 or b > 0}\")\n",
    "print(f\"{a} is greater than 0: {not(a > 0)}\")"
   ]
  },
  {
   "cell_type": "markdown",
   "metadata": {},
   "source": [
    "**Question 14:** Write a Python program to calculate the square of a number."
   ]
  },
  {
   "cell_type": "code",
   "execution_count": 17,
   "metadata": {},
   "outputs": [
    {
     "name": "stdout",
     "output_type": "stream",
     "text": [
      "The square of 56 is 3136.\n"
     ]
    }
   ],
   "source": [
    "s = int(input(\"Enter the number you need to fidn the square of: \"))\n",
    "\n",
    "print(f\"The square of {s} is {s*s}.\")"
   ]
  },
  {
   "cell_type": "markdown",
   "metadata": {},
   "source": [
    "**Question 15:** Write a Python program to check if a number is even or odd."
   ]
  },
  {
   "cell_type": "code",
   "execution_count": null,
   "metadata": {},
   "outputs": [
    {
     "name": "stdout",
     "output_type": "stream",
     "text": [
      "The number is odd.\n"
     ]
    }
   ],
   "source": [
    "print(\"The number is odd.\" if ((int(input(\"The number to check for even or odd: \")))) % 2 != 0 else \"The number is even.\")"
   ]
  },
  {
   "cell_type": "markdown",
   "metadata": {},
   "source": [
    "**Question 16:** Write a Python program to find the sum of the first n natural numbers."
   ]
  },
  {
   "cell_type": "code",
   "execution_count": 6,
   "metadata": {},
   "outputs": [
    {
     "name": "stdout",
     "output_type": "stream",
     "text": [
      "The sum of first 10 is 55.\n"
     ]
    }
   ],
   "source": [
    "number = int(input(\"Find the sum of first how many number? : \"))\n",
    "ans = 0 \n",
    "\n",
    "if number < 0:\n",
    "    print(f\"Enter a valid number.\")\n",
    "\n",
    "else:\n",
    "    for i in range(1, number + 1):\n",
    "        ans = ans + i\n",
    "\n",
    "    print(f\"The sum of first {number} is {ans}.\")\n"
   ]
  },
  {
   "cell_type": "markdown",
   "metadata": {},
   "source": [
    "**Question 17:** Write a Python program to check if a year is a leap year."
   ]
  },
  {
   "cell_type": "code",
   "execution_count": 2,
   "metadata": {},
   "outputs": [
    {
     "name": "stdout",
     "output_type": "stream",
     "text": [
      "The statement that the year 2100 is a leap year is False.\n"
     ]
    }
   ],
   "source": [
    "def is_leapyear(year):\n",
    "    is_leap = False\n",
    "    year = int(year)\n",
    "\n",
    "    if year % 4 == 0 :\n",
    "        if year % 100 == 0:\n",
    "            if year % 400 == 0:\n",
    "\n",
    "                is_leap = True\n",
    "            else:\n",
    "                is_leap = False\n",
    "        else:\n",
    "            is_leap = True\n",
    "\n",
    "    else:\n",
    "        is_leap = False\n",
    "\n",
    "    return is_leap\n",
    "\n",
    "\n",
    "year = int(input(\"Enter the year to be checked: \"))\n",
    "print(f\"The statement that the year {year} is a leap year is {is_leapyear(year)}.\")\n",
    "        "
   ]
  },
  {
   "cell_type": "markdown",
   "metadata": {},
   "source": [
    "**Question 18:** Write a Python program to reverse a string."
   ]
  },
  {
   "cell_type": "code",
   "execution_count": 4,
   "metadata": {},
   "outputs": [
    {
     "name": "stdout",
     "output_type": "stream",
     "text": [
      "zyxwvutsrqponmlkjihgfedcba\n"
     ]
    }
   ],
   "source": [
    "Str = input(\"The string to be reversed is: \")\n",
    "List = []\n",
    "\n",
    "for i in range(len(Str) - 1, -1, -1):\n",
    "    List.append(Str[i])\n",
    "\n",
    "print(\"\".join(List))\n"
   ]
  },
  {
   "cell_type": "markdown",
   "metadata": {},
   "source": [
    "**Question 19:** Write a Python program to check if a string is a palindrome."
   ]
  },
  {
   "cell_type": "code",
   "execution_count": 6,
   "metadata": {},
   "outputs": [
    {
     "name": "stdout",
     "output_type": "stream",
     "text": [
      "zyxwvutsrqponmlkjihgfedcba\n"
     ]
    }
   ],
   "source": [
    "Str = input(\"The string to be reversed is: \")\n",
    "List = []\n",
    "\n",
    "for i in range(len(Str) - 1, -1, -1):\n",
    "    List.append(Str[i])\n",
    "\n",
    "print(\"\".join(List))\n",
    "\n",
    "if Str == List:\n",
    "    print(f\"The stirng is a palindrome.\")"
   ]
  },
  {
   "cell_type": "markdown",
   "metadata": {},
   "source": [
    "**Question 20:** Write a Python program to sort a list of numbers in ascending order."
   ]
  },
  {
   "cell_type": "code",
   "execution_count": 25,
   "metadata": {},
   "outputs": [
    {
     "name": "stdout",
     "output_type": "stream",
     "text": [
      "The sorted list is: [1, 3, 3, 5, 6, 7, 8, 52]\n"
     ]
    }
   ],
   "source": [
    "L = input(\"Enter the list of numbers seperated by ',': \").split(\",\")\n",
    "\n",
    "for i in range(len(L)):\n",
    "    L[i] = int(L[i])\n",
    "\n",
    "L.sort()\n",
    "print(f\"The sorted list is: {L}\")"
   ]
  }
 ],
 "metadata": {
  "kernelspec": {
   "display_name": "Python 3",
   "language": "python",
   "name": "python3"
  },
  "language_info": {
   "codemirror_mode": {
    "name": "ipython",
    "version": 3
   },
   "file_extension": ".py",
   "mimetype": "text/x-python",
   "name": "python",
   "nbconvert_exporter": "python",
   "pygments_lexer": "ipython3",
   "version": "3.12.4"
  }
 },
 "nbformat": 4,
 "nbformat_minor": 4
}
