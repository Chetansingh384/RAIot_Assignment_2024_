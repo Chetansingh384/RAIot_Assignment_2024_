{
 "cells": [
  {
   "cell_type": "markdown",
   "metadata": {},
   "source": []
  },
  {
   "cell_type": "markdown",
   "id": "9174c19b",
   "metadata": {},
   "source": [
    "### Assignment 1: Simple if Statement\n",
    "\n",
    "Write a program that asks the user to input a number and prints whether the number is positive.\n"
   ]
  },
  {
   "cell_type": "code",
   "execution_count": 4,
   "metadata": {},
   "outputs": [
    {
     "name": "stdout",
     "output_type": "stream",
     "text": [
      "The number -96 is not positive.\n"
     ]
    }
   ],
   "source": [
    "n = int(input(\"Enter the number you would like to check: \"))\n",
    "\n",
    "if n > 0:\n",
    "    print(f\"The number {n} is positive.\")\n",
    "\n",
    "else:\n",
    "    print(f\"The number {n} is not positive.\")"
   ]
  },
  {
   "cell_type": "markdown",
   "id": "d3246736",
   "metadata": {},
   "source": [
    "### Assignment 2: if-else Statement\n",
    "\n",
    "Write a program that asks the user to input a number and prints whether the number is positive or negative.\n"
   ]
  },
  {
   "cell_type": "code",
   "execution_count": 1,
   "id": "b54fc40e",
   "metadata": {},
   "outputs": [
    {
     "name": "stdout",
     "output_type": "stream",
     "text": [
      "The number 89 is positive.\n"
     ]
    }
   ],
   "source": [
    "n = int(input(\"Enter the number you would like to check: \"))\n",
    "\n",
    "if n > 0:\n",
    "    print(f\"The number {n} is positive.\")\n",
    "\n",
    "elif n < 0:\n",
    "    print(f\"The number {n} is negative.\")"
   ]
  },
  {
   "cell_type": "markdown",
   "id": "de4979fd",
   "metadata": {},
   "source": [
    "### Assignment 3: if-elif-else Statement\n",
    "\n",
    "Write a program that asks the user to input a number and prints whether the number is positive, negative, or zero.\n"
   ]
  },
  {
   "cell_type": "code",
   "execution_count": 2,
   "id": "00423414",
   "metadata": {},
   "outputs": [
    {
     "name": "stdout",
     "output_type": "stream",
     "text": [
      "The number -96 is negative.\n"
     ]
    }
   ],
   "source": [
    "n = int(input(\"Enter the number you would like to check: \"))\n",
    "\n",
    "if  n > 0:\n",
    "    print(f\"The number {n} is positive.\")\n",
    "\n",
    "elif n < 0:\n",
    "    print(f\"The number {n} is negative.\")\n",
    "\n",
    "elif n == 0:\n",
    "    print(f\"The number is zero.\")\n",
    "\n",
    "else:\n",
    "    print(f\"Enter a valid number.\")"
   ]
  },
  {
   "cell_type": "markdown",
   "id": "5ec68bfb",
   "metadata": {},
   "source": [
    "### Assignment 4: Nested if Statement\n",
    "\n",
    "Write a program that asks the user to input a number and prints whether the number is positive and even, positive and odd, or negative.\n"
   ]
  },
  {
   "cell_type": "code",
   "execution_count": 3,
   "id": "bc3ae515",
   "metadata": {},
   "outputs": [
    {
     "name": "stdout",
     "output_type": "stream",
     "text": [
      "The number 96 is positive and even.\n"
     ]
    }
   ],
   "source": [
    "n = int(input(\"Enter the number you would like to check: \"))\n",
    "\n",
    "if  n > 0 and n % 2 == 0:\n",
    "    print(f\"The number {n} is positive and even.\")\n",
    "\n",
    "elif n > 0 and n % 2 != 0:\n",
    "    print(f\"The number {n} is positive and odd.\")\n",
    "\n",
    "elif n < 0:\n",
    "    print(f\"The number {n} is negative.\")\n",
    "\n",
    "else:\n",
    "    print(f\"Enter a valid number.\")"
   ]
  },
  {
   "cell_type": "markdown",
   "id": "d3571ddc",
   "metadata": {},
   "source": [
    "## Lesson 2.2: Loops\n",
    "### Assignment 5: for Loop\n",
    "\n",
    "Write a program that prints all the numbers from 1 to 10 using a for loop.\n"
   ]
  },
  {
   "cell_type": "code",
   "execution_count": 7,
   "id": "b27c748e",
   "metadata": {},
   "outputs": [
    {
     "name": "stdout",
     "output_type": "stream",
     "text": [
      "1\n",
      "2\n",
      "3\n",
      "4\n",
      "5\n",
      "6\n",
      "7\n",
      "8\n",
      "9\n",
      "10\n"
     ]
    }
   ],
   "source": [
    "n = 10\n",
    "\n",
    "for i in range(1, n + 1):\n",
    "    print(i)"
   ]
  },
  {
   "cell_type": "markdown",
   "id": "71663df1",
   "metadata": {},
   "source": [
    "### Assignment 6: while Loop\n",
    "\n",
    "Write a program that prints all the numbers from 1 to 10 using a while loop.\n"
   ]
  },
  {
   "cell_type": "code",
   "execution_count": 10,
   "id": "c6510807",
   "metadata": {},
   "outputs": [
    {
     "name": "stdout",
     "output_type": "stream",
     "text": [
      "1\n",
      "2\n",
      "3\n",
      "4\n",
      "5\n",
      "6\n",
      "7\n",
      "8\n",
      "9\n",
      "10\n"
     ]
    }
   ],
   "source": [
    "i = 1\n",
    "while (i <= 10):\n",
    "    print(i)\n",
    "    i+= 1"
   ]
  },
  {
   "cell_type": "markdown",
   "id": "55a0d026",
   "metadata": {},
   "source": [
    "### Assignment 7: Nested Loops\n",
    "\n",
    "Write a program that prints a 5x5 grid of asterisks (*) using nested loops.\n"
   ]
  },
  {
   "cell_type": "code",
   "execution_count": 16,
   "id": "d7ecbd2a",
   "metadata": {},
   "outputs": [
    {
     "name": "stdout",
     "output_type": "stream",
     "text": [
      "* * * * * \n",
      "* * * * * \n",
      "* * * * * \n",
      "* * * * * \n",
      "* * * * * \n"
     ]
    }
   ],
   "source": [
    "for i in range(5):\n",
    "    for j in range(5):\n",
    "        print(\"*\", end = \" \")\n",
    "    print()"
   ]
  },
  {
   "cell_type": "markdown",
   "id": "d4b3714b",
   "metadata": {},
   "source": [
    "### Assignment 8: break Statement\n",
    "\n",
    "Write a program that asks the user to input numbers until they input 0. The program should print the sum of all the input numbers.\n"
   ]
  },
  {
   "cell_type": "code",
   "execution_count": null,
   "id": "36d822a5",
   "metadata": {},
   "outputs": [
    {
     "name": "stdout",
     "output_type": "stream",
     "text": [
      "The sum of entered numbers is 352\n"
     ]
    }
   ],
   "source": [
    "N = 0\n",
    "\n",
    "while True:\n",
    "    n = int(input(\"Enter the number you would like to add (0 ends the program): \" ))\n",
    "    if n != 0:\n",
    "        N = n + N\n",
    "\n",
    "    elif n == 0:\n",
    "        break\n",
    "    \n",
    "\n",
    "\n",
    "print(f\"The sum of entered numbers is {N}.\")\n",
    "\n",
    "        \n"
   ]
  },
  {
   "cell_type": "markdown",
   "id": "ff6006c3",
   "metadata": {},
   "source": [
    "### Assignment 9: continue Statement\n",
    "\n",
    "Write a program that prints all the numbers from 1 to 10 except 5 using a for loop and continue statement.\n"
   ]
  },
  {
   "cell_type": "code",
   "execution_count": 32,
   "id": "e8a43694",
   "metadata": {},
   "outputs": [
    {
     "name": "stdout",
     "output_type": "stream",
     "text": [
      "1\n",
      "2\n",
      "3\n",
      "4\n",
      "6\n",
      "7\n",
      "8\n",
      "9\n",
      "10\n"
     ]
    }
   ],
   "source": [
    "n = int(input(\"Enter number of iterations: \"))\n",
    "\n",
    "for i in range(1, n + 1):\n",
    "    if i != 5:\n",
    "        print(i)\n",
    "\n",
    "    elif i == 5:\n",
    "        continue"
   ]
  },
  {
   "cell_type": "markdown",
   "id": "55881d01",
   "metadata": {},
   "source": [
    "### Assignment 10: pass Statement\n",
    "\n",
    "Write a program that defines an empty function using the pass statement.\n"
   ]
  },
  {
   "cell_type": "code",
   "execution_count": 145,
   "id": "e87bfee6",
   "metadata": {},
   "outputs": [],
   "source": [
    "def empty_function():\n",
    "    pass"
   ]
  },
  {
   "cell_type": "markdown",
   "id": "35d1f46c",
   "metadata": {},
   "source": [
    "### Assignment 11: Combining Loops and Conditionals\n",
    "\n",
    "Write a program that asks the user to input a number and prints all the even numbers from 1 to that number using a for loop.\n"
   ]
  },
  {
   "cell_type": "code",
   "execution_count": 48,
   "id": "e32ac34c",
   "metadata": {},
   "outputs": [
    {
     "name": "stdout",
     "output_type": "stream",
     "text": [
      "The even numbers till 51 are:  2, 4, 6, 8, 10, 12, 14, 16, 18, 20, 22, 24, 26, 28, 30, 32, 34, 36, 38, 40, 42, 44, 46, 48, 50.\n"
     ]
    }
   ],
   "source": [
    "n = int(input(\"Enter a number till which you want even digits only: \"))\n",
    "\n",
    "print(f\"The even numbers till {n} are: \", end = \" \")\n",
    "for i in range(1, n + 1):\n",
    "    if i % 2 == 0:\n",
    "        print(f\"{i}\", end = \", \")\n",
    "    \n",
    "    else:\n",
    "        continue\n",
    "\n",
    "print(\"\\b\\b.\")"
   ]
  },
  {
   "cell_type": "markdown",
   "id": "196d2ae7",
   "metadata": {},
   "source": [
    "### Assignment 12: Factorial Calculation\n",
    "\n",
    "Write a program that calculates the factorial of a number input by the user using a while loop.\n"
   ]
  },
  {
   "cell_type": "code",
   "execution_count": 70,
   "id": "7d3e4204",
   "metadata": {},
   "outputs": [
    {
     "name": "stdout",
     "output_type": "stream",
     "text": [
      "The answer to 6! is 720.\n"
     ]
    }
   ],
   "source": [
    "n = int(input(\"Enter the number till which you want to calculate the factorial till: \"))\n",
    "num = n\n",
    "Ans = 1\n",
    "\n",
    "\n",
    "if n < 0:\n",
    "    print(f\"Enter a positive number.\")\n",
    "\n",
    "else:\n",
    "    if n == 0:\n",
    "        print(f\"The factorial of {n} is 1.\")\n",
    "\n",
    "    else:\n",
    "        while(n > 0):\n",
    "            Ans = Ans * n\n",
    "            n -= 1\n",
    "print(f\"The answer to {num}! is {Ans}.\")"
   ]
  },
  {
   "cell_type": "markdown",
   "id": "6d428d78",
   "metadata": {},
   "source": [
    "### Assignment 13: Sum of Digits\n",
    "\n",
    "Write a program that calculates the sum of the digits of a number input by the user using a while loop.\n"
   ]
  },
  {
   "cell_type": "code",
   "execution_count": 122,
   "id": "552e0683",
   "metadata": {},
   "outputs": [
    {
     "name": "stdout",
     "output_type": "stream",
     "text": [
      "The sum of individual digits of 987654321987654321 is 90.\n"
     ]
    }
   ],
   "source": [
    "N = input(\"Enter the number of which you need to find sum of: \")\n",
    "nums = list(N)\n",
    "\n",
    "for i in range(len(nums)):\n",
    "    nums[i] = int(nums[i])\n",
    "\n",
    "Ans = 0\n",
    "j = 0\n",
    "\n",
    "while j < len(nums):\n",
    "    Ans = Ans + nums[j]\n",
    "    j += 1\n",
    "\n",
    "print(f\"The sum of individual digits of {N} is {Ans}.\")"
   ]
  },
  {
   "cell_type": "markdown",
   "id": "921c01cd",
   "metadata": {},
   "source": [
    "### Assignment 14: Prime Number Check\n",
    "\n",
    "Write a program that checks if a number input by the user is a prime number using a for loop.\n"
   ]
  },
  {
   "cell_type": "code",
   "execution_count": 144,
   "id": "b66acf02",
   "metadata": {},
   "outputs": [
    {
     "name": "stdout",
     "output_type": "stream",
     "text": [
      "The number 17 is prime.\n"
     ]
    }
   ],
   "source": [
    "n = int(input(\"Enter the number for which you need to check for prime: \"))\n",
    "\n",
    "prime = True\n",
    "\n",
    "for i in range(2, n):   \n",
    "    if n % i == 0:\n",
    "        prime = False\n",
    "        break\n",
    "\n",
    "if prime:\n",
    "    print(f\"The number {n} is prime.\")\n",
    "\n",
    "else:\n",
    "    print(f\"The number {n} is not prime.\")\n"
   ]
  },
  {
   "cell_type": "markdown",
   "id": "e2c8c73e",
   "metadata": {},
   "source": [
    "### Assignment 15: Fibonacci Sequence\n",
    "\n",
    "Write a program that prints the first n Fibonacci numbers, where n is input by the user."
   ]
  },
  {
   "cell_type": "code",
   "execution_count": 130,
   "id": "edc15cc6",
   "metadata": {},
   "outputs": [
    {
     "name": "stdout",
     "output_type": "stream",
     "text": [
      "The first 32 number of fibonacci series are 0, 1, 1, 2, 3, 5, 8, 13, 21, 34, 55, 89, 144, 233, 377, 610, 987, 1597, 2584, 4181, 6765, 10946, 17711, 28657, 46368, 75025, 121393, 196418, 317811, 514229, 832040, 1346269.\n"
     ]
    }
   ],
   "source": [
    "n = int(input(\"You need how many starting digits fibonacci series: \"))\n",
    "_1st, _2nd = 0 , 1\n",
    "_3rd = _1st + _2nd\n",
    "\n",
    "print(f\"The first {n} number of fibonacci series are \", end = \"\")\n",
    "\n",
    "for i in range(0, n):\n",
    "    if i == 0:\n",
    "        print(_1st, end = \", \")\n",
    "\n",
    "    elif i == 1:\n",
    "        print(_2nd, end = \", \")\n",
    "\n",
    "    else:\n",
    "        print(_3rd, end = \", \")\n",
    "\n",
    "        _1st = _2nd\n",
    "        _2nd = _3rd\n",
    "        _3rd = _1st + _2nd\n",
    "\n",
    "print(\"\\b\\b.\")"
   ]
  }
 ],
 "metadata": {
  "kernelspec": {
   "display_name": "Python 3",
   "language": "python",
   "name": "python3"
  },
  "language_info": {
   "codemirror_mode": {
    "name": "ipython",
    "version": 3
   },
   "file_extension": ".py",
   "mimetype": "text/x-python",
   "name": "python",
   "nbconvert_exporter": "python",
   "pygments_lexer": "ipython3",
   "version": "3.12.4"
  }
 },
 "nbformat": 4,
 "nbformat_minor": 5
}
