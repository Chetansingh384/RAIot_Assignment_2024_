{
 "cells": [
  {
   "cell_type": "code",
   "execution_count": 54,
   "id": "5e79d17b-847b-4a61-8461-4587e9747d40",
   "metadata": {},
   "outputs": [
    {
     "name": "stdout",
     "output_type": "stream",
     "text": [
      "Hello,World!\n"
     ]
    }
   ],
   "source": [
    "print(\"Hello,World!\")"
   ]
  },
  {
   "cell_type": "code",
   "execution_count": 52,
   "id": "2c12ca10-dd8b-4b32-9f2a-6781a36e8694",
   "metadata": {},
   "outputs": [
    {
     "name": "stdin",
     "output_type": "stream",
     "text": [
      "Enter something: Hello\n"
     ]
    },
    {
     "name": "stdout",
     "output_type": "stream",
     "text": [
      "Entered is: Hello\n"
     ]
    }
   ],
   "source": [
    "a = input(\"Enter something:\")\n",
    "print(\"Entered is:\",a)"
   ]
  },
  {
   "cell_type": "code",
   "execution_count": 50,
   "id": "e6cb7f4e-9cd5-4547-9853-d47aed2022e7",
   "metadata": {},
   "outputs": [
    {
     "name": "stdin",
     "output_type": "stream",
     "text": [
      "Enter a number: 0\n"
     ]
    },
    {
     "name": "stdout",
     "output_type": "stream",
     "text": [
      "Number is zero\n"
     ]
    }
   ],
   "source": [
    "num = float(input(\"Enter a number:\"))\n",
    "if num > 0:\n",
    "    print(\"Numnber is positive\")\n",
    "elif num < 0:\n",
    "    print(\"Number is negative\")\n",
    "else:\n",
    "    print(\"Number is zero\")"
   ]
  },
  {
   "cell_type": "code",
   "execution_count": 48,
   "id": "6d3331e2-7839-4102-a6fe-cfacc0f09642",
   "metadata": {},
   "outputs": [
    {
     "name": "stdin",
     "output_type": "stream",
     "text": [
      "n1: 45\n",
      "n2: 99\n",
      "n3: 32\n"
     ]
    },
    {
     "name": "stdout",
     "output_type": "stream",
     "text": [
      "Largest number is: 99.0\n"
     ]
    }
   ],
   "source": [
    "n1 = float(input(\"n1:\"))\n",
    "n2 = float(input(\"n2:\"))\n",
    "n3 = float(input(\"n3:\"))\n",
    "if (n1 >= n2) and (n1 >= n3):\n",
    "    largest_number = n1\n",
    "elif (n2 >= n1) and (n2 >= n3):\n",
    "    largest_number = n2\n",
    "else:\n",
    "    largest_number = n3\n",
    "print(\"Largest number is:\",largest_number) "
   ]
  },
  {
   "cell_type": "code",
   "execution_count": 46,
   "id": "1abf13bb-b9c8-4df8-bd65-d08dc8a7cbd3",
   "metadata": {},
   "outputs": [
    {
     "name": "stdin",
     "output_type": "stream",
     "text": [
      "Enter a number: 10\n"
     ]
    },
    {
     "name": "stdout",
     "output_type": "stream",
     "text": [
      "The factorail of 10 is 3628800\n"
     ]
    }
   ],
   "source": [
    "num = int(input(\"Enter a number:\"))\n",
    "fact = 1\n",
    "if num < 0:\n",
    "    print(\"Factorial is not defined for negative number.\")\n",
    "elif num == 0:\n",
    "    print(\"Factorial is 1.\")\n",
    "else:\n",
    "    for i in range(1,num+1):\n",
    "        fact *= i\n",
    "    print(\"The factorail of\",num,\"is\",fact)"
   ]
  },
  {
   "cell_type": "code",
   "execution_count": 44,
   "id": "7992874c-6dc1-4c35-9803-26b0efe737cb",
   "metadata": {},
   "outputs": [
    {
     "name": "stdout",
     "output_type": "stream",
     "text": [
      "a is 10 and <class 'int'>\n",
      "b is 10.1 and <class 'float'>\n",
      "c is Hello and <class 'str'>\n",
      "d is True and <class 'bool'>\n"
     ]
    }
   ],
   "source": [
    "a = 10\n",
    "b = 10.10\n",
    "c = \"Hello\"\n",
    "d = True\n",
    "print(\"a is\",a,\"and\",type(a))\n",
    "print(\"b is\",b,\"and\",type(b))\n",
    "print(\"c is\",c,\"and\",type(c))\n",
    "print(\"d is\",d,\"and\",type(d))"
   ]
  },
  {
   "cell_type": "code",
   "execution_count": 42,
   "id": "2cec1749-21a1-4fa2-921e-31cf4de850fc",
   "metadata": {},
   "outputs": [
    {
     "name": "stdin",
     "output_type": "stream",
     "text": [
      "Enter number: 45\n",
      "Enter a value: Hello\n"
     ]
    },
    {
     "name": "stdout",
     "output_type": "stream",
     "text": [
      "Before swapping:\n",
      "a =  45\n",
      "b =  Hello\n",
      "After swapping:\n",
      "a =  Hello\n",
      "b =  45\n"
     ]
    }
   ],
   "source": [
    "a = int(input(\"Enter number:\"))\n",
    "b = str(input(\"Enter a value:\"))\n",
    "print(\"Before swapping:\")\n",
    "print(\"a = \",a)\n",
    "print(\"b = \",b)\n",
    "a,b = b,a\n",
    "print(\"After swapping:\")\n",
    "print(\"a = \",a)\n",
    "print(\"b = \",b)"
   ]
  },
  {
   "cell_type": "code",
   "execution_count": 40,
   "id": "8f5d1ad4-ad97-4d70-b240-3b0515d8d2d6",
   "metadata": {},
   "outputs": [
    {
     "name": "stdin",
     "output_type": "stream",
     "text": [
      "Enter temperature in celsius: 45\n"
     ]
    },
    {
     "name": "stdout",
     "output_type": "stream",
     "text": [
      "Temperature in fahrenheit is 113.0\n"
     ]
    }
   ],
   "source": [
    "c = float(input(\"Enter temperature in celsius:\"))\n",
    "f = (c * 9/5) + 32\n",
    "print(\"Temperature in fahrenheit is\",f)"
   ]
  },
  {
   "cell_type": "code",
   "execution_count": 38,
   "id": "5631758a-52cb-4999-9b96-23b1e60c9e1e",
   "metadata": {},
   "outputs": [
    {
     "name": "stdin",
     "output_type": "stream",
     "text": [
      "Enter first string: RA\n",
      "Enter second string: IoT\n"
     ]
    },
    {
     "name": "stdout",
     "output_type": "stream",
     "text": [
      "Concatenated string of RA and IoT is RAIoT\n"
     ]
    }
   ],
   "source": [
    "s1 = str(input(\"Enter first string:\"))\n",
    "s2 = str(input(\"Enter second string:\"))\n",
    "s = s1 + s2\n",
    "print(\"Concatenated string of\",s1,\"and\",s2,\"is\",s)"
   ]
  },
  {
   "cell_type": "code",
   "execution_count": 36,
   "id": "559bbe1d-6ce3-4117-b7a0-be26bd2e9f07",
   "metadata": {},
   "outputs": [
    {
     "name": "stdout",
     "output_type": "stream",
     "text": [
      "The type of 45 is <class 'int'>\n",
      "The type of 89.89 is <class 'float'>\n",
      "The type of Hello is <class 'str'>\n",
      "The type of True is <class 'bool'>\n"
     ]
    }
   ],
   "source": [
    "a = 45\n",
    "b = 89.89\n",
    "c = \"Hello\"\n",
    "d = True\n",
    "print(\"The type of\",a,\"is\",type(a))\n",
    "print(\"The type of\",b,\"is\",type(b))\n",
    "print(\"The type of\",c,\"is\",type(c))\n",
    "print(\"The type of\",d,\"is\",type(d))"
   ]
  },
  {
   "cell_type": "code",
   "execution_count": 22,
   "id": "acf45c53-08d1-48e3-8f2f-4c7ae4db049c",
   "metadata": {},
   "outputs": [
    {
     "name": "stdin",
     "output_type": "stream",
     "text": [
      "Enter first number: 56\n",
      "Enter second number: 89\n"
     ]
    },
    {
     "name": "stdout",
     "output_type": "stream",
     "text": [
      "Addition of 56 and 89 is 145\n",
      "Subtraction of 56 and 89 is -33\n",
      "Multiplication of 56 and 89 is 4984\n",
      "Division of 56 and 89 is 0.6292134831460674\n"
     ]
    }
   ],
   "source": [
    "na = int(input(\"Enter first number:\"))\n",
    "nb = int(input(\"Enter second number:\"))\n",
    "add = na + nb\n",
    "subtract = na - nb\n",
    "multiply = na * nb\n",
    "print(\"Addition of\",na,\"and\",nb,\"is\",add)\n",
    "print(\"Subtraction of\",na,\"and\",nb,\"is\",subtract)\n",
    "print(\"Multiplication of\",na,\"and\",nb,\"is\",multiply)\n",
    "if nb != 0:\n",
    "    divide = na / nb\n",
    "else:\n",
    "    print(\"Division not defined\")\n",
    "print(\"Division of\",na,\"and\",nb,\"is\",divide)"
   ]
  },
  {
   "cell_type": "code",
   "execution_count": 20,
   "id": "9fed99ba-ee67-4a90-98d7-2cb30bbc85de",
   "metadata": {},
   "outputs": [
    {
     "name": "stdin",
     "output_type": "stream",
     "text": [
      "Enter first number: 89\n",
      "Enter second number: 56\n"
     ]
    },
    {
     "name": "stdout",
     "output_type": "stream",
     "text": [
      "Numbers are not equal.\n",
      "Second number is less than first.\n"
     ]
    }
   ],
   "source": [
    "na = int(input(\"Enter first number:\"))\n",
    "nb = int(input(\"Enter second number:\"))\n",
    "if na == nb:\n",
    "    print(\"Numbers are equal.\")\n",
    "elif na != nb:\n",
    "    print(\"Numbers are not equal.\")\n",
    "    if na < nb:\n",
    "        print(\"First number is less than second.\")\n",
    "    else:\n",
    "        print(\"Second number is less than first.\")"
   ]
  },
  {
   "cell_type": "code",
   "execution_count": 18,
   "id": "af2f3679-1871-4376-9a70-66000750620d",
   "metadata": {},
   "outputs": [
    {
     "name": "stdin",
     "output_type": "stream",
     "text": [
      "Type a or b or c: a\n"
     ]
    },
    {
     "name": "stdout",
     "output_type": "stream",
     "text": [
      "a and b: False\n",
      "b and c: False\n",
      "c and a: True\n",
      "a or b: True\n",
      "b or c: True\n",
      "c or a: True\n",
      "not a: False\n",
      "not b: True\n",
      "not c: False\n"
     ]
    }
   ],
   "source": [
    "a = True\n",
    "b = False\n",
    "c = True\n",
    "x = input(\"Type a or b or c:\")\n",
    "print(\"a and b:\",a and b)\n",
    "print(\"b and c:\",b and c)\n",
    "print(\"c and a:\",c and a)\n",
    "print(\"a or b:\",a or b)\n",
    "print(\"b or c:\",b or c)\n",
    "print(\"c or a:\",c or a)\n",
    "print(\"not a:\",not a)\n",
    "print(\"not b:\",not b)\n",
    "print(\"not c:\",not c)"
   ]
  },
  {
   "cell_type": "code",
   "execution_count": 16,
   "id": "40c159af-34c6-4af6-b8bf-f0364efa8cff",
   "metadata": {},
   "outputs": [
    {
     "name": "stdin",
     "output_type": "stream",
     "text": [
      "Enter a number to calculate square: 25\n"
     ]
    },
    {
     "name": "stdout",
     "output_type": "stream",
     "text": [
      "Square of 25 is 625\n"
     ]
    }
   ],
   "source": [
    "n = int(input(\"Enter a number to calculate square:\"))\n",
    "square = n * n\n",
    "print(\"Square of\",n,\"is\",square)"
   ]
  },
  {
   "cell_type": "code",
   "execution_count": 14,
   "id": "045a553d-d7ca-42cd-bfd5-2d52f990ff18",
   "metadata": {},
   "outputs": [
    {
     "name": "stdin",
     "output_type": "stream",
     "text": [
      "Enter a number: 45\n"
     ]
    },
    {
     "name": "stdout",
     "output_type": "stream",
     "text": [
      "Entered number is odd.\n"
     ]
    }
   ],
   "source": [
    "n = int(input(\"Enter a number:\"))\n",
    "if n % 2 == 0:\n",
    "    print(\"Entered number is even.\")\n",
    "else:\n",
    "    print(\"Entered number is odd.\")"
   ]
  },
  {
   "cell_type": "code",
   "execution_count": 12,
   "id": "fdc65729-ccfe-4595-8aff-9855d04a40e0",
   "metadata": {},
   "outputs": [
    {
     "name": "stdin",
     "output_type": "stream",
     "text": [
      "Enter the number till which sum needs to be calculated: 10\n"
     ]
    },
    {
     "name": "stdout",
     "output_type": "stream",
     "text": [
      "Sum of first 10 natuaral numbers is 55\n"
     ]
    }
   ],
   "source": [
    "n = int(input(\"Enter the number till which sum needs to be calculated:\"))\n",
    "s = n*(n+1) // 2\n",
    "print(\"Sum of first\",n,\"natuaral numbers is\",s)"
   ]
  },
  {
   "cell_type": "code",
   "execution_count": 8,
   "id": "afd2ad23-bb62-4722-931f-172a72882de1",
   "metadata": {},
   "outputs": [
    {
     "name": "stdin",
     "output_type": "stream",
     "text": [
      "Enter a year: 2024\n"
     ]
    },
    {
     "name": "stdout",
     "output_type": "stream",
     "text": [
      "Entered year is a leap year.\n"
     ]
    }
   ],
   "source": [
    "year = int(input(\"Enter a year:\"))\n",
    "if (year % 4 == 0 and year % 100 != 0) or (year % 400 == 0):\n",
    "    print(\"Entered year is a leap year.\")\n",
    "else:\n",
    "    print(\"Entered year is not a leap year\")"
   ]
  },
  {
   "cell_type": "code",
   "execution_count": 6,
   "id": "e31801e4-6cd8-4140-84ff-f6bc42b2a763",
   "metadata": {},
   "outputs": [
    {
     "name": "stdin",
     "output_type": "stream",
     "text": [
      "Enter a string: asdf\n"
     ]
    },
    {
     "name": "stdout",
     "output_type": "stream",
     "text": [
      "Reversed string is: fdsa\n"
     ]
    }
   ],
   "source": [
    "os = str(input(\"Enter a string:\"))\n",
    "rs = os[::-1]\n",
    "print(\"Reversed string is:\",rs)"
   ]
  },
  {
   "cell_type": "code",
   "execution_count": 4,
   "id": "6aca00a3-469e-4ef6-905c-04099b1b8554",
   "metadata": {},
   "outputs": [
    {
     "name": "stdin",
     "output_type": "stream",
     "text": [
      "Enter a string: asdfggfdsa\n"
     ]
    },
    {
     "name": "stdout",
     "output_type": "stream",
     "text": [
      "String is palindrome.\n"
     ]
    }
   ],
   "source": [
    "os = str(input(\"Enter a string:\"))\n",
    "rs = os[::-1]\n",
    "if os == rs:\n",
    "    print(\"String is palindrome.\")\n",
    "else:\n",
    "    print(\"String is not a palindrome.\")"
   ]
  },
  {
   "cell_type": "code",
   "execution_count": 2,
   "id": "d74a866a-b8bb-4ec5-8a06-db90a85ba81f",
   "metadata": {},
   "outputs": [
    {
     "name": "stdin",
     "output_type": "stream",
     "text": [
      "How many numbers would you like to enter?: 5\n",
      "Enter numbers: 23\n",
      "Enter numbers: 56\n",
      "Enter numbers: 89\n",
      "Enter numbers: 45\n",
      "Enter numbers: 89\n"
     ]
    },
    {
     "name": "stdout",
     "output_type": "stream",
     "text": [
      "Numbers in ascending order are: [23, 45, 56, 89, 89]\n"
     ]
    }
   ],
   "source": [
    "numbers = []\n",
    "n = int(input(\"How many numbers would you like to enter?:\"))\n",
    "for i in range(n):\n",
    "    num = int(input(\"Enter numbers:\"))\n",
    "    numbers.append(num)\n",
    "numbers.sort()\n",
    "print(\"Numbers in ascending order are:\",numbers)"
   ]
  }
 ],
 "metadata": {
  "kernelspec": {
   "display_name": "Python 3 (ipykernel)",
   "language": "python",
   "name": "python3"
  },
  "language_info": {
   "codemirror_mode": {
    "name": "ipython",
    "version": 3
   },
   "file_extension": ".py",
   "mimetype": "text/x-python",
   "name": "python",
   "nbconvert_exporter": "python",
   "pygments_lexer": "ipython3",
   "version": "3.12.7"
  }
 },
 "nbformat": 4,
 "nbformat_minor": 5
}
