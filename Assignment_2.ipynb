{
 "cells": [
  {
   "cell_type": "code",
   "execution_count": 17,
   "id": "108c903a-c1da-4aca-b4f7-fafb1ef34dbe",
   "metadata": {},
   "outputs": [
    {
     "name": "stdin",
     "output_type": "stream",
     "text": [
      "Enter a number: -12\n"
     ]
    }
   ],
   "source": [
    "num = float(input(\"Enter a number:\"))\n",
    "if num > 0:\n",
    "    print(\"Number is positive.\")"
   ]
  },
  {
   "cell_type": "code",
   "execution_count": 4,
   "id": "5200be5e-d8a4-44c6-9122-9d874a06b70c",
   "metadata": {},
   "outputs": [
    {
     "name": "stdin",
     "output_type": "stream",
     "text": [
      "Enter a number except zero: 56\n"
     ]
    },
    {
     "name": "stdout",
     "output_type": "stream",
     "text": [
      "Number is positive.\n"
     ]
    }
   ],
   "source": [
    "num = float(input(\"Enter a number except zero:\"))\n",
    "if num > 0:\n",
    "    print(\"Number is positive.\")\n",
    "else:\n",
    "    print(\"Number is negative.\")"
   ]
  },
  {
   "cell_type": "code",
   "execution_count": 2,
   "id": "c34aa794-90a6-4f65-b1a7-6a2fd8dbd0f7",
   "metadata": {},
   "outputs": [
    {
     "name": "stdin",
     "output_type": "stream",
     "text": [
      "Enter a number: 12\n"
     ]
    },
    {
     "name": "stdout",
     "output_type": "stream",
     "text": [
      "The number is positive.\n"
     ]
    }
   ],
   "source": [
    "num = float(input(\"Enter a number:\"))\n",
    "if num > 0:\n",
    "    print(\"The number is positive.\")\n",
    "elif num < 0:\n",
    "    print(\"The number is negative.\")\n",
    "else:\n",
    "    print(\"The number is zero.\")"
   ]
  },
  {
   "cell_type": "code",
   "execution_count": 39,
   "id": "d7fbb36e-ce47-41b8-b1aa-1d42986378d3",
   "metadata": {},
   "outputs": [
    {
     "name": "stdin",
     "output_type": "stream",
     "text": [
      "Enter a number except zero: -89\n"
     ]
    },
    {
     "name": "stdout",
     "output_type": "stream",
     "text": [
      "Number is negative.\n"
     ]
    }
   ],
   "source": [
    "num = float(input(\"Enter a number except zero:\"))\n",
    "if num > 0:\n",
    "    if num % 2 == 0:\n",
    "        print(\"The number is positive and even.\")\n",
    "    else:\n",
    "        print(\"The number is positive and odd.\")\n",
    "else:\n",
    "    print(\"Number is negative.\")\n",
    "        "
   ]
  },
  {
   "cell_type": "code",
   "execution_count": 6,
   "id": "36586911-98ae-4478-a919-cbe597cf7701",
   "metadata": {},
   "outputs": [
    {
     "name": "stdout",
     "output_type": "stream",
     "text": [
      "1 2 3 4 5 6 7 8 9 10 "
     ]
    }
   ],
   "source": [
    "for i in range(1,11):\n",
    "    print(i,end=\" \")"
   ]
  },
  {
   "cell_type": "code",
   "execution_count": 10,
   "id": "d55a6993-cdee-4d6d-b910-ef6549fcfe15",
   "metadata": {},
   "outputs": [
    {
     "name": "stdout",
     "output_type": "stream",
     "text": [
      "1 2 3 4 5 6 7 8 9 10 "
     ]
    }
   ],
   "source": [
    "num = 1\n",
    "while num <= 10:\n",
    "    print(num,end=\" \")\n",
    "    num += 1"
   ]
  },
  {
   "cell_type": "code",
   "execution_count": 49,
   "id": "0f882c85-cbdb-48f7-80ca-ec492ae561cb",
   "metadata": {},
   "outputs": [
    {
     "name": "stdout",
     "output_type": "stream",
     "text": [
      "*****\n",
      "*****\n",
      "*****\n",
      "*****\n",
      "*****\n"
     ]
    }
   ],
   "source": [
    "r = 5\n",
    "c = 5\n",
    "for i in range(r):\n",
    "    for j in range(c):\n",
    "        print(\"*\",end=\"\")\n",
    "    print()"
   ]
  },
  {
   "cell_type": "code",
   "execution_count": 51,
   "id": "1e4b56a4-aac4-433d-a1b2-2b660e7ab0b8",
   "metadata": {},
   "outputs": [
    {
     "name": "stdin",
     "output_type": "stream",
     "text": [
      "Enter a number(or 0 to STOP): 4\n",
      "Enter a number(or 0 to STOP): 6\n",
      "Enter a number(or 0 to STOP): 8\n",
      "Enter a number(or 0 to STOP): 9\n",
      "Enter a number(or 0 to STOP): 0\n"
     ]
    },
    {
     "name": "stdout",
     "output_type": "stream",
     "text": [
      "The sum of all numbers is: 27.0\n"
     ]
    }
   ],
   "source": [
    "sum = 0\n",
    "while True:\n",
    "    num = float(input(\"Enter a number(or 0 to STOP):\"))\n",
    "    if num == 0:\n",
    "        break\n",
    "    sum += num\n",
    "print(\"The sum of all numbers is:\",sum)"
   ]
  },
  {
   "cell_type": "code",
   "execution_count": 12,
   "id": "87097bf2-b749-49d6-a50e-4072fbed6a25",
   "metadata": {},
   "outputs": [
    {
     "name": "stdout",
     "output_type": "stream",
     "text": [
      "1 2 3 4 6 7 8 9 10 "
     ]
    }
   ],
   "source": [
    "for num in range(1,11):\n",
    "    if num == 5:\n",
    "        continue\n",
    "    print(num,end=\" \")"
   ]
  },
  {
   "cell_type": "code",
   "execution_count": 55,
   "id": "7282c3eb-b431-4b6f-84f7-ca1e0ab1befa",
   "metadata": {},
   "outputs": [],
   "source": [
    "def empty_function():\n",
    "    pass\n",
    "empty_function()"
   ]
  },
  {
   "cell_type": "code",
   "execution_count": 14,
   "id": "5be5fde6-2f13-4689-9269-aead9c53573b",
   "metadata": {},
   "outputs": [
    {
     "name": "stdin",
     "output_type": "stream",
     "text": [
      "Enter a number: 45\n"
     ]
    },
    {
     "name": "stdout",
     "output_type": "stream",
     "text": [
      "Even numbers from 1 to 45 are\n",
      "2 4 6 8 10 12 14 16 18 20 22 24 26 28 30 32 34 36 38 40 42 44 "
     ]
    }
   ],
   "source": [
    "num = int(input(\"Enter a number:\"))\n",
    "print(\"Even numbers from 1 to\",num,\"are\")\n",
    "for i in range(1,num+1):\n",
    "    if i % 2 == 0:\n",
    "        print(i,end=\" \")"
   ]
  },
  {
   "cell_type": "code",
   "execution_count": 69,
   "id": "0adeae0d-0312-4a01-bd81-e7956feb5d9e",
   "metadata": {},
   "outputs": [
    {
     "name": "stdin",
     "output_type": "stream",
     "text": [
      "Enter a number: 10\n"
     ]
    },
    {
     "name": "stdout",
     "output_type": "stream",
     "text": [
      "Factorial of 10 is\n",
      "3628800\n"
     ]
    }
   ],
   "source": [
    "num = int(input(\"Enter a number:\"))\n",
    "fact = 1\n",
    "if num < 0:\n",
    "    print(\"Factorial is not defined for nrgative numbers.\")\n",
    "elif num == 0:\n",
    "    print(\"Factorial is 1.\")\n",
    "else:\n",
    "    print(\"Factorial of\",num,\"is\")\n",
    "    while num > 0:\n",
    "        fact *= num\n",
    "        num -= 1\n",
    "    print(fact)"
   ]
  },
  {
   "cell_type": "code",
   "execution_count": 18,
   "id": "4276f9bb-cd37-416d-8b5c-8ce4b9691658",
   "metadata": {},
   "outputs": [
    {
     "name": "stdin",
     "output_type": "stream",
     "text": [
      "Enter a number: 78\n"
     ]
    },
    {
     "name": "stdout",
     "output_type": "stream",
     "text": [
      "The sum of digits of 78 is\n",
      "15\n"
     ]
    }
   ],
   "source": [
    "num = int(input(\"Enter a number:\"))\n",
    "print(\"The sum of digits of\",num,\"is\")\n",
    "sum = 0\n",
    "while num > 0:\n",
    "    digit = num % 10\n",
    "    sum += digit\n",
    "    num = num // 10\n",
    "print(sum)"
   ]
  },
  {
   "cell_type": "code",
   "execution_count": 20,
   "id": "820adafe-1eb5-44bd-a85c-5d88797efe1e",
   "metadata": {},
   "outputs": [
    {
     "name": "stdin",
     "output_type": "stream",
     "text": [
      "Enter number: 45\n"
     ]
    },
    {
     "name": "stdout",
     "output_type": "stream",
     "text": [
      "45 is not prime number\n"
     ]
    }
   ],
   "source": [
    "n=int(input(\"Enter number:\"))\n",
    "a=0\n",
    "for i in range(2,n):\n",
    "    if n%i==0:\n",
    "        a+=1\n",
    "if a==0:\n",
    "    print(n,\"is prime.\")\n",
    "else:\n",
    "    print(n,\"is not prime number\")"
   ]
  },
  {
   "cell_type": "code",
   "execution_count": 25,
   "id": "9555cd50-4dd5-4bb4-bbc6-fc259802e0bf",
   "metadata": {},
   "outputs": [
    {
     "name": "stdin",
     "output_type": "stream",
     "text": [
      "Enter a number: 10\n"
     ]
    },
    {
     "name": "stdout",
     "output_type": "stream",
     "text": [
      "The first 10 Fibonacci numbers are:\n",
      "0 1 1 2 3 5 8 13 21 34 "
     ]
    }
   ],
   "source": [
    "num = int(input(\"Enter a number:\"))\n",
    "f1,f2 = 0,1\n",
    "print(\"The first\",num,\"Fibonacci numbers are:\")\n",
    "for i in range(num):\n",
    "    print(f1, end=\" \")\n",
    "    f1,f2 = f2,f1 + f2"
   ]
  }
 ],
 "metadata": {
  "kernelspec": {
   "display_name": "Python 3 (ipykernel)",
   "language": "python",
   "name": "python3"
  },
  "language_info": {
   "codemirror_mode": {
    "name": "ipython",
    "version": 3
   },
   "file_extension": ".py",
   "mimetype": "text/x-python",
   "name": "python",
   "nbconvert_exporter": "python",
   "pygments_lexer": "ipython3",
   "version": "3.12.7"
  }
 },
 "nbformat": 4,
 "nbformat_minor": 5
}
