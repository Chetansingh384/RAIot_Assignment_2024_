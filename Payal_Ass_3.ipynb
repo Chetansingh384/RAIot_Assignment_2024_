{
 "cells": [
  {
   "cell_type": "code",
   "execution_count": 24,
   "id": "08d2e214-0906-4b3f-93b6-49b3ae1604ac",
   "metadata": {},
   "outputs": [
    {
     "name": "stdout",
     "output_type": "stream",
     "text": [
      "[1, 2, 3, 4, 5, 6, 7, 8, 9, 10, 11, 12, 13, 14, 15, 16, 17, 18, 19, 20]\n"
     ]
    }
   ],
   "source": [
    "int = list(range(1,21))\n",
    "print(int)"
   ]
  },
  {
   "cell_type": "code",
   "execution_count": 8,
   "id": "cfade61d-8585-4cd1-b7a6-8ffcc694c875",
   "metadata": {},
   "outputs": [
    {
     "name": "stdout",
     "output_type": "stream",
     "text": [
      "First element is: 1\n",
      "Middle element is: 11\n",
      "Last element is: 20\n"
     ]
    }
   ],
   "source": [
    "int = list(range(1,21))\n",
    "fst = int[0]\n",
    "middle = int[len(int)//2]\n",
    "lst = int[-1]\n",
    "print(\"First element is:\",fst)\n",
    "print(\"Middle element is:\",middle)\n",
    "print(\"Last element is:\",lst)"
   ]
  },
  {
   "cell_type": "code",
   "execution_count": 12,
   "id": "bbca1f3a-ef93-46fc-b031-0ad6c17c6af5",
   "metadata": {},
   "outputs": [
    {
     "name": "stdout",
     "output_type": "stream",
     "text": [
      "First five elements are: [1, 2, 3, 4, 5]\n",
      "Last five elements are: [16, 17, 18, 19, 20]\n",
      "Elements from index 5 to 15 are: [6, 7, 8, 9, 10, 11, 12, 13, 14, 15, 16]\n"
     ]
    }
   ],
   "source": [
    "int = list(range(1,21))\n",
    "fst_five = int[:5]\n",
    "lst_five = int[-5:]\n",
    "elmts = int[5:16]\n",
    "print(\"First five elements are:\",fst_five)\n",
    "print(\"Last five elements are:\",lst_five)\n",
    "print(\"Elements from index 5 to 15 are:\",elmts)"
   ]
  },
  {
   "cell_type": "code",
   "execution_count": 30,
   "id": "6465f435-3052-4b62-bae4-5663e24892d0",
   "metadata": {},
   "outputs": [
    {
     "name": "stdout",
     "output_type": "stream",
     "text": [
      "[1, 4, 9, 16, 25, 36, 49, 64, 81, 100]\n"
     ]
    }
   ],
   "source": [
    "sqrs = [i**2 for i in range(1,11)]\n",
    "print(sqrs)"
   ]
  },
  {
   "cell_type": "code",
   "execution_count": 36,
   "id": "e8d8f337-aa41-42de-8f02-ed80f3050a7a",
   "metadata": {},
   "outputs": [
    {
     "name": "stdout",
     "output_type": "stream",
     "text": [
      "[2, 4, 6, 8, 10, 12, 14, 16, 18, 20]\n"
     ]
    }
   ],
   "source": [
    "even = [i for i in range(2,21,2)]\n",
    "print(even)"
   ]
  },
  {
   "cell_type": "code",
   "execution_count": 48,
   "id": "f6c5a114-158e-45d6-8c5c-a1cb49eb13f4",
   "metadata": {},
   "outputs": [
    {
     "name": "stdout",
     "output_type": "stream",
     "text": [
      "10 Random numbers from 1 to 50 are: [29, 29, 33, 45, 9, 45, 48, 34, 6, 42]\n",
      "Ascending order: [6, 9, 29, 29, 33, 34, 42, 45, 45, 48]\n",
      "Descending order: [48, 45, 45, 42, 34, 33, 29, 29, 9, 6]\n",
      "Unique numbers are: {33, 34, 6, 9, 42, 45, 48, 29}\n"
     ]
    }
   ],
   "source": [
    "import random\n",
    "numbers = [random.randint(1,50) for _ in range(10)]\n",
    "ascending = sorted(numbers)\n",
    "descending = sorted(numbers, reverse=True)\n",
    "unique = set(numbers)\n",
    "print(\"10 Random numbers from 1 to 50 are:\",numbers)\n",
    "print(\"Ascending order:\",ascending)\n",
    "print(\"Descending order:\",descending)\n",
    "print(\"Unique numbers are:\",unique)"
   ]
  },
  {
   "cell_type": "code",
   "execution_count": 50,
   "id": "59290082-bf63-440e-9f9d-2fedf23938d6",
   "metadata": {},
   "outputs": [
    {
     "name": "stdout",
     "output_type": "stream",
     "text": [
      "Matrix:\n",
      "[9, 5, 8]\n",
      "[8, 8, 3]\n",
      "[8, 9, 8]\n",
      "\n",
      "Element at the second row and third column are: 3\n"
     ]
    }
   ],
   "source": [
    "matrix = [\n",
    "    [9,5,8],\n",
    "    [8,8,3],\n",
    "    [8,9,8]\n",
    "]\n",
    "print(\"Matrix:\")\n",
    "for row in matrix:\n",
    "    print(row)\n",
    "element = matrix[1][2]\n",
    "print(\"\\nElement at the second row and third column are:\",element)"
   ]
  },
  {
   "cell_type": "code",
   "execution_count": 4,
   "id": "585edbed-baf0-4874-906e-4cbfd18b8468",
   "metadata": {},
   "outputs": [
    {
     "name": "stdout",
     "output_type": "stream",
     "text": [
      "{'name': 'C', 'Score': 96}\n",
      "{'name': 'D', 'Score': 90}\n",
      "{'name': 'A', 'Score': 89}\n",
      "{'name': 'B', 'Score': 78}\n",
      "{'name': 'E', 'Score': 45}\n"
     ]
    }
   ],
   "source": [
    "students = [\n",
    "    {'name':'A','Score':89},\n",
    "    {'name':'B','Score':78},\n",
    "    {'name':'C','Score':96},\n",
    "    {'name':'D','Score':90},\n",
    "    {'name':'E','Score':45}    \n",
    "]\n",
    "score = sorted(students, key=lambda student:student['Score'], reverse=True)\n",
    "for student in score:\n",
    "    print(student)"
   ]
  },
  {
   "cell_type": "code",
   "execution_count": 12,
   "id": "2e31e744-f732-4260-b8ec-6dc3bba0fb10",
   "metadata": {},
   "outputs": [
    {
     "name": "stdout",
     "output_type": "stream",
     "text": [
      "Enter the 3x3 matrix:\n"
     ]
    },
    {
     "name": "stdin",
     "output_type": "stream",
     "text": [
      " 4 5 6 \n",
      " 7 8 9\n",
      " 1 2 3\n"
     ]
    },
    {
     "name": "stdout",
     "output_type": "stream",
     "text": [
      "\n",
      "Original Matrix:\n",
      "[4, 5, 6]\n",
      "[7, 8, 9]\n",
      "[1, 2, 3]\n",
      "\n",
      "Transposed Matrix:\n",
      "[4, 7, 1]\n",
      "[5, 8, 2]\n",
      "[6, 9, 3]\n"
     ]
    }
   ],
   "source": [
    "def t_m(matrix):\n",
    "    trans = [[0]*3 for _ in range(3)]\n",
    "    for i in range(3):\n",
    "        for j in range(3):\n",
    "            trans[j][i] = matrix[i][j]\n",
    "    return trans\n",
    "def matx():\n",
    "    matrix = []\n",
    "    print(\"Enter the 3x3 matrix:\")\n",
    "    for _ in range(3):\n",
    "        row = list(map(int, input().strip().split()))\n",
    "        matrix.append(row)\n",
    "    return matrix\n",
    "original = matx()\n",
    "transposed = t_m(original)\n",
    "print(\"\\nOriginal Matrix:\")\n",
    "for row in original:\n",
    "    print(row)\n",
    "print(\"\\nTransposed Matrix:\")\n",
    "for row in transposed:\n",
    "    print(row)\n"
   ]
  },
  {
   "cell_type": "code",
   "execution_count": 18,
   "id": "836418df-8bb8-4dae-9362-25a04f53d60d",
   "metadata": {},
   "outputs": [
    {
     "name": "stdout",
     "output_type": "stream",
     "text": [
      "Original Nested List:\n",
      "[[1, 2, 3], [4, 5, 6], [7, 8, 9]]\n",
      "\n",
      "Flattened List:\n",
      "[1, 2, 3, 4, 5, 6, 7, 8, 9]\n"
     ]
    }
   ],
   "source": [
    "def flat(nl):\n",
    "    flat_list = []\n",
    "    for l in nl:\n",
    "        for i in l:\n",
    "            flat_list.append(i)\n",
    "    return flat_list\n",
    "original = [\n",
    "    [1, 2, 3],\n",
    "    [4, 5, 6],\n",
    "    [7, 8, 9]\n",
    "]\n",
    "flattened = flat(original)\n",
    "print(\"Original Nested List:\")\n",
    "print(original)\n",
    "print(\"\\nFlattened List:\")\n",
    "print(flattened)\n",
    "\n"
   ]
  },
  {
   "cell_type": "code",
   "execution_count": 20,
   "id": "8f1ffeb2-2ffa-4c8b-afea-4d1d3c39ee9e",
   "metadata": {},
   "outputs": [
    {
     "name": "stdout",
     "output_type": "stream",
     "text": [
      "Modified list: [1, 2, 4, 6, 8, 99, 9, 10]\n"
     ]
    }
   ],
   "source": [
    "numbers = list(range(1, 11))\n",
    "del numbers[6]  \n",
    "del numbers[4]\n",
    "del numbers[2]\n",
    "numbers.insert(5, 99)\n",
    "print(\"Modified list:\", numbers)"
   ]
  },
  {
   "cell_type": "code",
   "execution_count": 22,
   "id": "a635f633-367a-4cff-b11c-589ae48fe8c2",
   "metadata": {},
   "outputs": [
    {
     "name": "stdout",
     "output_type": "stream",
     "text": [
      "Zipped List:\n",
      "[(1, 'a'), (2, 'b'), (3, 'c'), (4, 'd'), (5, 'e')]\n"
     ]
    }
   ],
   "source": [
    "l1 = [1, 2, 3, 4, 5]\n",
    "l2 = ['a', 'b', 'c', 'd', 'e']\n",
    "zip_l = list(zip(l1, l2))\n",
    "print(\"Zipped List:\")\n",
    "print(zip_l)\n"
   ]
  },
  {
   "cell_type": "code",
   "execution_count": 24,
   "id": "f8758f24-4f1b-447e-a2c2-c3a6542bbd25",
   "metadata": {},
   "outputs": [
    {
     "name": "stdout",
     "output_type": "stream",
     "text": [
      "Original List:\n",
      "[1, 2, 3, 4, 5, 6, 7, 8, 9, 10]\n",
      "\n",
      "Reversed List:\n",
      "[10, 9, 8, 7, 6, 5, 4, 3, 2, 1]\n"
     ]
    }
   ],
   "source": [
    "def reverse(l):\n",
    "    return l[::-1]\n",
    "original_l = [1, 2, 3, 4, 5, 6, 7, 8, 9, 10]\n",
    "reversed_l = reverse(original_l)\n",
    "print(\"Original List:\")\n",
    "print(original_l)\n",
    "print(\"\\nReversed List:\")\n",
    "print(reversed_l)\n"
   ]
  },
  {
   "cell_type": "code",
   "execution_count": 28,
   "id": "4f35294f-0ecc-4806-b11e-fcd3453971cb",
   "metadata": {},
   "outputs": [
    {
     "name": "stdout",
     "output_type": "stream",
     "text": [
      "Original List:\n",
      "[1, 2, 3, 4, 5, 6, 7, 8, 9, 10]\n",
      "\n",
      "Rotated List by 5 positions:\n",
      "[6, 7, 8, 9, 10, 1, 2, 3, 4, 5]\n"
     ]
    }
   ],
   "source": [
    "def rotate(l,n):\n",
    "    n = n % len(l)\n",
    "    return l[-n:] + l[:-n]\n",
    "original_l = [1, 2, 3, 4, 5, 6, 7, 8, 9, 10]\n",
    "n = 5\n",
    "rotated_l = rotate(original_l,n)\n",
    "print(\"Original List:\")\n",
    "print(original_l)\n",
    "print(\"\\nRotated List by\", n, \"positions:\")\n",
    "print(rotated_l)\n"
   ]
  },
  {
   "cell_type": "code",
   "execution_count": 32,
   "id": "15553ece-fa52-45f1-a19d-62eb89fd49f3",
   "metadata": {},
   "outputs": [
    {
     "name": "stdout",
     "output_type": "stream",
     "text": [
      "Intersected List:\n",
      "[2, 4, 5, 6]\n"
     ]
    }
   ],
   "source": [
    "def intersect(l1,l2):\n",
    "    inter = list(set(l1) & set(l2))\n",
    "    return inter\n",
    "l1 = [1, 2, 3, 4, 5, 6]\n",
    "l2 = [7, 5, 6, 7, 4, 2]\n",
    "intersected = intersect(l1,l2)\n",
    "print(\"Intersected List:\")\n",
    "print(intersected)\n"
   ]
  }
 ],
 "metadata": {
  "kernelspec": {
   "display_name": "Python 3 (ipykernel)",
   "language": "python",
   "name": "python3"
  },
  "language_info": {
   "codemirror_mode": {
    "name": "ipython",
    "version": 3
   },
   "file_extension": ".py",
   "mimetype": "text/x-python",
   "name": "python",
   "nbconvert_exporter": "python",
   "pygments_lexer": "ipython3",
   "version": "3.12.7"
  }
 },
 "nbformat": 4,
 "nbformat_minor": 5
}
