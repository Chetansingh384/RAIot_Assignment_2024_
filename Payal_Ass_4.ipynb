{
 "cells": [
  {
   "cell_type": "code",
   "execution_count": 4,
   "id": "6e51494a-57e3-4f46-9c11-17cd82a4694a",
   "metadata": {},
   "outputs": [
    {
     "name": "stdout",
     "output_type": "stream",
     "text": [
      "{1: 1, 2: 4, 3: 9, 4: 16, 5: 25, 6: 36, 7: 49, 8: 64, 9: 81, 10: 100}\n"
     ]
    }
   ],
   "source": [
    "d = {i : i*i for i in range (1,11)}\n",
    "print(d)"
   ]
  },
  {
   "cell_type": "code",
   "execution_count": 8,
   "id": "0371e5ab-ef9c-4618-bee0-ebacebb13010",
   "metadata": {},
   "outputs": [
    {
     "name": "stdout",
     "output_type": "stream",
     "text": [
      "25\n",
      "1 2 3 4 5 6 7 8 9 10 "
     ]
    }
   ],
   "source": [
    "d = {i : i*i for i in range(1,11)}\n",
    "print(d[5])\n",
    "for i in range(1,11):\n",
    "    print(i,end=' ')"
   ]
  },
  {
   "cell_type": "code",
   "execution_count": 14,
   "id": "98b6b81e-7eca-40d4-adc7-2e7ddfbad7e2",
   "metadata": {},
   "outputs": [
    {
     "name": "stdout",
     "output_type": "stream",
     "text": [
      "{2: 4, 3: 9, 4: 16, 5: 25, 6: 36, 7: 49, 8: 64, 9: 81, 10: 100, 11: 121}\n"
     ]
    }
   ],
   "source": [
    "d = {i : i*i for i in range(1,11)}\n",
    "d[11] = 121\n",
    "d.pop(1,None)\n",
    "print(d)"
   ]
  },
  {
   "cell_type": "code",
   "execution_count": 18,
   "id": "b105f0b3-22be-4afb-8b6e-97400d77090f",
   "metadata": {},
   "outputs": [
    {
     "name": "stdout",
     "output_type": "stream",
     "text": [
      "1 : 1\n",
      "2 : 4\n",
      "3 : 9\n",
      "4 : 16\n",
      "5 : 25\n",
      "6 : 36\n",
      "7 : 49\n",
      "8 : 64\n",
      "9 : 81\n",
      "10 : 100\n"
     ]
    }
   ],
   "source": [
    "d = {i : i*i for i in range(1,11)}\n",
    "for i in range(1,11):\n",
    "    print(i, \":\",i*i)"
   ]
  },
  {
   "cell_type": "code",
   "execution_count": 22,
   "id": "f6c74df9-efcb-4b3d-92ae-991a6d3486fe",
   "metadata": {},
   "outputs": [
    {
     "name": "stdout",
     "output_type": "stream",
     "text": [
      "{1: 1, 2: 8, 3: 27, 4: 64, 5: 125, 6: 216, 7: 343, 8: 512, 9: 729, 10: 1000}\n"
     ]
    }
   ],
   "source": [
    "d = {i : i*i*i for i in range(1,11)}\n",
    "print(d)"
   ]
  },
  {
   "cell_type": "code",
   "execution_count": 24,
   "id": "7ac1e84b-5104-41b8-bfae-58870dde4cb2",
   "metadata": {},
   "outputs": [
    {
     "name": "stdout",
     "output_type": "stream",
     "text": [
      "{1: 1, 2: 4, 3: 9, 4: 16, 5: 25, 6: 216, 7: 343, 8: 512, 9: 729, 10: 1000}\n"
     ]
    }
   ],
   "source": [
    "d1 = {i : i*i for i in range(1,6)}\n",
    "d2 = {i : i*i*i for i in range(6,11)}\n",
    "d1.update(d2)\n",
    "print(d1)"
   ]
  },
  {
   "cell_type": "code",
   "execution_count": 26,
   "id": "107c9727-26e8-4d69-a754-4efd35b153b3",
   "metadata": {},
   "outputs": [
    {
     "name": "stdout",
     "output_type": "stream",
     "text": [
      "{'name': 'A', 'age': 10, 'grades': {'math': 99, 'science': 95, 'english': 90}}\n"
     ]
    }
   ],
   "source": [
    "d = {'name':'A' , 'age': 10 , 'grades':{'math': 99 , 'science':95 , 'english':90}}\n",
    "print(d)"
   ]
  },
  {
   "cell_type": "code",
   "execution_count": 28,
   "id": "4c0bc20e-3a23-4b5d-ab42-1de45c3a7e29",
   "metadata": {},
   "outputs": [
    {
     "name": "stdout",
     "output_type": "stream",
     "text": [
      "{1: [1, 2, 3, 4, 5], 2: [2, 4, 6, 8, 10], 3: [3, 6, 9, 12, 15], 4: [4, 8, 12, 16, 20], 5: [5, 10, 15, 20, 25]}\n"
     ]
    }
   ],
   "source": [
    "d = {i : [i * j for j in range(1,6)] for i in range(1,6)}\n",
    "print(d)"
   ]
  },
  {
   "cell_type": "code",
   "execution_count": 30,
   "id": "efa82205-e12a-407d-917b-538ed6589e1c",
   "metadata": {},
   "outputs": [
    {
     "name": "stdout",
     "output_type": "stream",
     "text": [
      "{1: (1, 1), 2: (2, 4), 3: (3, 9), 4: (4, 16), 5: (5, 25)}\n"
     ]
    }
   ],
   "source": [
    "d = {i : (i,i*i) for i in range(1,6)}\n",
    "print(d)"
   ]
  },
  {
   "cell_type": "code",
   "execution_count": 32,
   "id": "8fe77a5f-faf3-494f-bd31-2a69a1218c5d",
   "metadata": {},
   "outputs": [
    {
     "name": "stdout",
     "output_type": "stream",
     "text": [
      "[(1, 1), (2, 4), (3, 9), (4, 16), (5, 25)]\n"
     ]
    }
   ],
   "source": [
    "d = {i : i*i for i in range(1,6)}\n",
    "t = list(d.items())\n",
    "print(t)"
   ]
  },
  {
   "cell_type": "code",
   "execution_count": 34,
   "id": "76f737a4-1902-42cd-8f33-752546b8082f",
   "metadata": {},
   "outputs": [
    {
     "name": "stdout",
     "output_type": "stream",
     "text": [
      "{2: 4, 4: 16, 6: 36, 8: 64, 10: 100}\n"
     ]
    }
   ],
   "source": [
    "d = {i : i*i for i in range(1,11)}\n",
    "d_new = {i : d[i] for i in d if i%2 == 0}\n",
    "print(d_new)"
   ]
  },
  {
   "cell_type": "code",
   "execution_count": 36,
   "id": "82cfac6e-9766-40f3-8875-a38c588d4445",
   "metadata": {},
   "outputs": [
    {
     "name": "stdout",
     "output_type": "stream",
     "text": [
      "{1: 1, 4: 2, 9: 3, 16: 4, 25: 5}\n"
     ]
    }
   ],
   "source": [
    "d = {i : i*i for i in range(1,6)}\n",
    "d_new = {d[i] : i for i in d}\n",
    "print(d_new)"
   ]
  },
  {
   "cell_type": "code",
   "execution_count": 40,
   "id": "7ee776fd-b3a5-4c11-93e1-a7ef16f83bde",
   "metadata": {},
   "outputs": [
    {
     "name": "stdout",
     "output_type": "stream",
     "text": [
      "defaultdict(<class 'list'>, {1: [1, 2, 3], 2: [4, 5, 6]})\n"
     ]
    }
   ],
   "source": [
    "from collections import defaultdict\n",
    "d = defaultdict(list)\n",
    "d[1] = [1,2,3]\n",
    "d[2] = [4,5,6]\n",
    "print(d)"
   ]
  },
  {
   "cell_type": "code",
   "execution_count": 50,
   "id": "260d4f2b-dd84-4282-9711-f1f3fcd00830",
   "metadata": {},
   "outputs": [
    {
     "name": "stdin",
     "output_type": "stream",
     "text": [
      "Enter a string: Jupyter Notebook\n"
     ]
    },
    {
     "name": "stdout",
     "output_type": "stream",
     "text": [
      "{'J': 1, 'u': 1, 'p': 1, 'y': 1, 't': 2, 'e': 2, 'r': 1, ' ': 1, 'N': 1, 'o': 3, 'b': 1, 'k': 1}\n"
     ]
    }
   ],
   "source": [
    "def co(s):\n",
    "    d = {}\n",
    "    for i in s:\n",
    "        if i in d:\n",
    "            d[i]+=1\n",
    "        else:\n",
    "            d[i]=1\n",
    "    return d\n",
    "s = input(\"Enter a string:\")\n",
    "print(co(s))"
   ]
  },
  {
   "cell_type": "code",
   "execution_count": 58,
   "id": "2273412c-6264-4234-ac61-25b706ab24e6",
   "metadata": {},
   "outputs": [
    {
     "name": "stdout",
     "output_type": "stream",
     "text": [
      "Book as JSON:\n",
      "{\n",
      "     \"title\": \"Wings of Fire\",\n",
      "     \"author\": \"Dr A.P.J. Abdul Kalam\",\n",
      "     \"year\": \"2015\",\n",
      "     \"genre\": \"Autobiography\"\n",
      "}\n"
     ]
    }
   ],
   "source": [
    "import json \n",
    "book = {'title':'Wings of Fire' , 'author':'Dr A.P.J. Abdul Kalam' , 'year':'2015' , 'genre':'Autobiography'}\n",
    "book_new = json.dumps(book, indent=5)\n",
    "print(\"Book as JSON:\")\n",
    "print(book_new)"
   ]
  }
 ],
 "metadata": {
  "kernelspec": {
   "display_name": "Python 3 (ipykernel)",
   "language": "python",
   "name": "python3"
  },
  "language_info": {
   "codemirror_mode": {
    "name": "ipython",
    "version": 3
   },
   "file_extension": ".py",
   "mimetype": "text/x-python",
   "name": "python",
   "nbconvert_exporter": "python",
   "pygments_lexer": "ipython3",
   "version": "3.12.7"
  }
 },
 "nbformat": 4,
 "nbformat_minor": 5
}
