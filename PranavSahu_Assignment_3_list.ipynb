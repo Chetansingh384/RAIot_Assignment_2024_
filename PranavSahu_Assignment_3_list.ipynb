{
 "cells": [
  {
   "cell_type": "markdown",
   "id": "cd8ec3e7",
   "metadata": {},
   "source": [
    "# Module 3: Data Structures Assignments\n",
    "## Lesson 3.1: Lists\n",
    "### Assignment 1: Creating and Accessing Lists\n",
    "\n",
    "Create a list of the first 20 positive integers. Print the list.\n",
    "\n",
    "### Assignment 2: Accessing List Elements\n",
    "\n",
    "Print the first, middle, and last elements of the list created in Assignment 1.\n",
    "\n",
    "### Assignment 3: List Slicing\n",
    "\n",
    "Print the first five elements, the last five elements, and the elements from index 5 to 15 of the list created in Assignment 1.\n",
    "\n",
    "### Assignment 4: List Comprehensions\n",
    "\n",
    "Create a new list containing the squares of the first 10 positive integers using a list comprehension. Print the new list.\n",
    "\n",
    "### Assignment 5: Filtering Lists\n",
    "\n",
    "Create a new list containing only the even numbers from the list created in Assignment 1 using a list comprehension. Print the new list.\n",
    "\n",
    "### Assignment 6: List Methods\n",
    "\n",
    "Create a list of random numbers and sort it in ascending and descending order. Remove the duplicates from the list and print the modified list.\n",
    "\n",
    "### Assignment 7: Nested Lists\n",
    "\n",
    "Create a nested list representing a 3x3 matrix and print the matrix. Access and print the element at the second row and third column.\n",
    "\n",
    "### Assignment 8: List of Dictionaries\n",
    "\n",
    "Create a list of dictionaries where each dictionary represents a student with keys 'name' and 'score'. Sort the list of dictionaries by the 'score' in descending order and print the sorted list.\n",
    "\n",
    "### Assignment 9: Matrix Transposition\n",
    "\n",
    "Write a function that takes a 3x3 matrix (nested list) as input and returns its transpose. Print the original and transposed matrices.\n",
    "\n",
    "### Assignment 10: Flattening a Nested List\n",
    "\n",
    "Write a function that takes a nested list and flattens it into a single list. Print the original and flattened lists.\n",
    "\n",
    "### Assignment 11: List Manipulation\n",
    "\n",
    "Create a list of the first 10 positive integers. Remove the elements at indices 2, 4, and 6, and insert the element '99' at index 5. Print the modified list.\n",
    "\n",
    "### Assignment 12: List Zipping\n",
    "\n",
    "Create two lists of the same length. Use the `zip` function to combine these lists into a list of tuples and print the result.\n",
    "\n",
    "### Assignment 13: List Reversal\n",
    "\n",
    "Write a function that takes a list and returns a new list with the elements in reverse order. Print the original and reversed lists.\n",
    "\n",
    "### Assignment 14: List Rotation\n",
    "\n",
    "Write a function that rotates a list by n positions. Print the original and rotated lists.\n",
    "\n",
    "### Assignment 15: List Intersection\n",
    "\n",
    "Write a function that takes two lists and returns a new list containing only the elements that are present in both lists. Print the intersected list."
   ]
  },
  {
   "cell_type": "markdown",
   "id": "cddae8fa",
   "metadata": {},
   "source": []
  },
  {
   "cell_type": "markdown",
   "id": "b7fa332a",
   "metadata": {},
   "source": [
    "### Assignment 1: Creating and Accessing Lists\n",
    "\n",
    "Create a list of the first 20 positive integers. Print the list.\n",
    "\n"
   ]
  },
  {
   "cell_type": "code",
   "execution_count": 14,
   "id": "68a7ea14",
   "metadata": {},
   "outputs": [
    {
     "name": "stdout",
     "output_type": "stream",
     "text": [
      "[1, 2, 3, 4, 5, 6, 7, 8, 9, 10, 11, 12, 13, 14, 15, 16, 17, 18, 19, 20]\n"
     ]
    }
   ],
   "source": [
    "List = list(range(1,21))\n",
    "print(List) "
   ]
  },
  {
   "cell_type": "markdown",
   "id": "19e6b15b",
   "metadata": {},
   "source": [
    "### Assignment 2: Accessing List Elements\n",
    "\n",
    "Print the first, middle, and last elements of the list created in Assignment 1.\n",
    "\n"
   ]
  },
  {
   "cell_type": "code",
   "execution_count": 9,
   "id": "677ef3fc",
   "metadata": {},
   "outputs": [
    {
     "name": "stdout",
     "output_type": "stream",
     "text": [
      "1, 10 & 11, 20\n"
     ]
    }
   ],
   "source": [
    "mid = f\"{List[int(len(List)/2) -1]} & { List[ int(len(List)/2)]}\" if len(List)%2==0 else List[ int(len(List)/2)] \n",
    "print(List[0], mid, List[-1], sep=', ')"
   ]
  },
  {
   "cell_type": "markdown",
   "id": "48b58c2f",
   "metadata": {},
   "source": [
    "### Assignment 3: List Slicing\n",
    "\n",
    "Print the first five elements, the last five elements, and the elements from index 5 to 15 of the list created in Assignment 1.\n",
    "\n"
   ]
  },
  {
   "cell_type": "code",
   "execution_count": 12,
   "id": "71963f7c",
   "metadata": {},
   "outputs": [
    {
     "name": "stdout",
     "output_type": "stream",
     "text": [
      "1st five : [1, 2, 3, 4, 5]\n",
      "last five : [16, 17, 18, 19, 20]\n",
      "index 5 to 15 : [6, 7, 8, 9, 10, 11, 12, 13, 14, 15]\n"
     ]
    }
   ],
   "source": [
    "print(f\"1st five : {List[:5]}\\nlast five : {List[-5:]}\\nindex 5 to 15 : {List[5:15]}\")"
   ]
  },
  {
   "cell_type": "markdown",
   "id": "c41b932f",
   "metadata": {},
   "source": [
    "### Assignment 4: List Comprehensions\n",
    "\n",
    "Create a new list containing the squares of the first 10 positive integers using a list comprehension. Print the new list.\n",
    "\n"
   ]
  },
  {
   "cell_type": "code",
   "execution_count": 13,
   "id": "9b0aada4",
   "metadata": {},
   "outputs": [
    {
     "name": "stdout",
     "output_type": "stream",
     "text": [
      "[1, 4, 9, 16, 25, 36, 49, 64, 81, 100]\n"
     ]
    }
   ],
   "source": [
    "newlist = [i**2 for i in range(1,11)]\n",
    "print(newlist)"
   ]
  },
  {
   "cell_type": "markdown",
   "id": "0d88e994",
   "metadata": {},
   "source": [
    "### Assignment 5: Filtering Lists\n",
    "\n",
    "Create a new list containing only the even numbers from the list created in Assignment 1 using a list comprehension. Print the new list.\n",
    "\n"
   ]
  },
  {
   "cell_type": "code",
   "execution_count": 14,
   "id": "9babf75d",
   "metadata": {},
   "outputs": [
    {
     "name": "stdout",
     "output_type": "stream",
     "text": [
      "[2, 4, 6, 8, 10, 12, 14, 16, 18, 20]\n"
     ]
    }
   ],
   "source": [
    "new_list = [j for j in List if j%2==0]\n",
    "print(new_list)"
   ]
  },
  {
   "cell_type": "markdown",
   "id": "265a5dd6",
   "metadata": {},
   "source": [
    "### Assignment 6: List Methods\n",
    "\n",
    "Create a list of random numbers and sort it in ascending and descending order. Remove the duplicates from the list and print the modified list."
   ]
  },
  {
   "cell_type": "code",
   "execution_count": 50,
   "id": "90edc280",
   "metadata": {},
   "outputs": [
    {
     "name": "stdout",
     "output_type": "stream",
     "text": [
      "original list : [6, 6, 6, 9, 6, 7, 7, 8, 8, 10]\n",
      "ascending : [6, 7, 8, 9, 10] , descending : [10, 9, 8, 7, 6]\n"
     ]
    }
   ],
   "source": [
    "import random\n",
    "rlist = [ random.randint(1,10) for k in range(10)]           #10 random no.s\n",
    "print(f\"original list : {rlist}\")\n",
    "nlist = list(set(rlist))\n",
    "print(f\"ascending : {sorted(nlist)} , descending : { sorted(nlist, reverse=True) }\")"
   ]
  },
  {
   "cell_type": "markdown",
   "id": "86d37bd3",
   "metadata": {},
   "source": [
    "### Assignment 7: Nested Lists\n",
    "\n",
    "Create a nested list representing a 3x3 matrix and print the matrix. Access and print the element at the second row and third column."
   ]
  },
  {
   "cell_type": "code",
   "execution_count": 5,
   "id": "fe9fca26",
   "metadata": {},
   "outputs": [
    {
     "name": "stdout",
     "output_type": "stream",
     "text": [
      "[[1 2 3]\n",
      " [4 5 6]\n",
      " [7 8 9]]\n",
      "6\n"
     ]
    }
   ],
   "source": [
    "import numpy as np\n",
    "nestedlist = [ [1,2,3],\n",
    "               [4,5,6],\n",
    "               [7,8,9]]\n",
    "print(np.array(nestedlist))\n",
    "print(nestedlist[1][2])"
   ]
  },
  {
   "cell_type": "markdown",
   "id": "3bafb08f",
   "metadata": {},
   "source": [
    "### Assignment 8: List of Dictionaries\n",
    "\n",
    "Create a list of dictionaries where each dictionary represents a student with keys 'name' and 'score'. Sort the list of dictionaries by the 'score' in descending order and print the sorted list.\n",
    "\n"
   ]
  },
  {
   "cell_type": "code",
   "execution_count": 59,
   "id": "51490722",
   "metadata": {},
   "outputs": [
    {
     "name": "stdout",
     "output_type": "stream",
     "text": [
      "[{'name': 'D', 'score': 85}, {'name': 'B', 'score': 55}, {'name': 'A', 'score': 45}, {'name': 'C', 'score': 25}]\n"
     ]
    }
   ],
   "source": [
    "dictlist = [ {\"name\": \"A\", \"score\" : 45}, {\"name\": \"B\", \"score\" : 55}, {\"name\": \"C\", \"score\" : 25}, {\"name\": \"D\", \"score\" : 85} ]\n",
    "dictlist.sort(key = lambda d : d['score'] , reverse=True)\n",
    "print(dictlist)"
   ]
  },
  {
   "cell_type": "markdown",
   "id": "6df22b4a",
   "metadata": {},
   "source": [
    "### Assignment 9: Matrix Transposition\n",
    "\n",
    "Write a function that takes a 3x3 matrix (nested list) as input and returns its transpose. Print the original and transposed matrices.\n",
    "\n"
   ]
  },
  {
   "cell_type": "code",
   "execution_count": 4,
   "id": "423d469a",
   "metadata": {},
   "outputs": [
    {
     "name": "stdout",
     "output_type": "stream",
     "text": [
      "original matrix :\n",
      "[[1 2 3]\n",
      " [4 5 6]\n",
      " [7 8 9]]\n",
      "\n",
      "transposed matrix :\n",
      "[[1 4 7]\n",
      " [2 5 8]\n",
      " [3 6 9]]\n"
     ]
    }
   ],
   "source": [
    "import numpy as np\n",
    "def trasnposition(m):\n",
    "    transposed = [ [], [], [] ]\n",
    "    for i in m:\n",
    "        for j in range(len(i)):\n",
    "            transposed[j].append(i[j])\n",
    "    return transposed\n",
    "\n",
    "matrix = eval(input(\"enter a nested list of 3*3 matrix , like [ [...], [...], [...] ]\"))\n",
    "m_trans = trasnposition(matrix)\n",
    "print(f\"original matrix :\\n{np.array(matrix)}\")\n",
    "print(f\"\\ntransposed matrix :\\n{np.array(m_trans)}\")"
   ]
  },
  {
   "cell_type": "markdown",
   "id": "5dd4f292",
   "metadata": {},
   "source": [
    "### Assignment 10: Flattening a Nested List\n",
    "\n",
    "Write a function that takes a nested list and flattens it into a single list. Print the original and flattened lists.\n",
    "\n"
   ]
  },
  {
   "cell_type": "code",
   "execution_count": 7,
   "id": "a60cdd82",
   "metadata": {},
   "outputs": [
    {
     "name": "stdout",
     "output_type": "stream",
     "text": [
      "original list : [[1, 2, 3], [4, 5, 6], [7, 8, 9]] \n",
      "flattened list : [1, 2, 3, 4, 5, 6, 7, 8, 9]\n"
     ]
    }
   ],
   "source": [
    "def flat_list(nestl):\n",
    "    fl = []\n",
    "    for x in nestl :\n",
    "        fl.extend(x)\n",
    "    return fl\n",
    "\n",
    "nestlist = eval(input(\"enter a nested list , like [ [...], [...], [...], .....]\"))\n",
    "flatlist = flat_list(nestlist)\n",
    "print(f\"original list : {nestlist} \\nflattened list : {flatlist}\")"
   ]
  },
  {
   "cell_type": "markdown",
   "id": "02f01585",
   "metadata": {},
   "source": [
    "### Assignment 11: List Manipulation\n",
    "\n",
    "Create a list of the first 10 positive integers. Remove the elements at indices 2, 4, and 6, and insert the element '99' at index 5. Print the modified list.\n",
    "\n"
   ]
  },
  {
   "cell_type": "code",
   "execution_count": 18,
   "id": "a00dcdeb",
   "metadata": {},
   "outputs": [
    {
     "name": "stdout",
     "output_type": "stream",
     "text": [
      "original list : [1, 2, 3, 4, 5, 6, 7, 8, 9, 10]\n",
      "modified list : [1, 2, 4, 6, 8, '99', 9, 10]\n"
     ]
    }
   ],
   "source": [
    "list_ = list(range(1,11)) \n",
    "print(f\"original list : {list_}\") \n",
    "list_.pop(6)\n",
    "list_.pop(4)\n",
    "list_.pop(2)\n",
    "list_.insert(5, '99')\n",
    "print(f\"modified list : {list_}\")"
   ]
  },
  {
   "cell_type": "markdown",
   "id": "eb656113",
   "metadata": {},
   "source": [
    "### Assignment 12: List Zipping\n",
    "\n",
    "Create two lists of the same length. Use the `zip` function to combine these lists into a list of tuples and print the result."
   ]
  },
  {
   "cell_type": "code",
   "execution_count": 19,
   "id": "17bc9783",
   "metadata": {},
   "outputs": [
    {
     "name": "stdout",
     "output_type": "stream",
     "text": [
      "[(1, 6), (2, 7), (3, 8), (4, 9), (5, 10)]\n"
     ]
    }
   ],
   "source": [
    "list1 = [1,2,3,4,5]\n",
    "list2 = [6,7,8,9,10]\n",
    "list_new = list(zip(list1, list2))\n",
    "print(list_new)"
   ]
  },
  {
   "cell_type": "markdown",
   "id": "2710ba20",
   "metadata": {},
   "source": [
    "### Assignment 13: List Reversal\n",
    "\n",
    "Write a function that takes a list and returns a new list with the elements in reverse order. Print the original and reversed lists.\n",
    "\n"
   ]
  },
  {
   "cell_type": "code",
   "execution_count": null,
   "id": "a7901040",
   "metadata": {},
   "outputs": [
    {
     "name": "stdout",
     "output_type": "stream",
     "text": [
      "original list : [1, 2, 4, 8, 16] \n",
      "reversed list : [16, 8, 4, 2, 1]\n"
     ]
    }
   ],
   "source": [
    "def list_reversal(l):\n",
    "    Newlist = l.copy() \n",
    "    Newlist.reverse()\n",
    "    return Newlist\n",
    "\n",
    "orglist = eval(input(\"enter a list in [...] manner\"))\n",
    "reversed_list = list_reversal(orglist)\n",
    "print(f\"original list : {orglist} \\nreversed list : {reversed_list}\")"
   ]
  },
  {
   "cell_type": "markdown",
   "id": "f1c57596",
   "metadata": {},
   "source": [
    "### Assignment 14: List Rotation\n",
    "\n",
    "Write a function that rotates a list by n positions. Print the original and rotated lists.\n",
    "\n"
   ]
  },
  {
   "cell_type": "code",
   "execution_count": 31,
   "id": "8ab854df",
   "metadata": {},
   "outputs": [
    {
     "name": "stdout",
     "output_type": "stream",
     "text": [
      "original list : [1, 2, 3, 4, 5, 6, 7]\n",
      "rotated list left by 3 position : [4, 5, 6, 7, 1, 2, 3]\n",
      "rotated list right by 3 position : [5, 6, 7, 1, 2, 3, 4]\n"
     ]
    }
   ],
   "source": [
    "def left_rotate(x,n):\n",
    "    lr = x[n:] + x[:n]\n",
    "    return lr\n",
    "def right_rotate(x,n):\n",
    "    rr = x[-n:] + x[:-n]\n",
    "    return rr\n",
    "\n",
    "Lst = eval(input(\"enter a list in [...] manner\"))\n",
    "n = int(input(\"enter position no.\"))\n",
    "print(f\"original list : {Lst}\")\n",
    "leftL, rightL = left_rotate(Lst,n), right_rotate(Lst,n)\n",
    "print(f\"rotated list left by {n} position : {leftL}\")\n",
    "print(f\"rotated list right by {n} position : {rightL}\")"
   ]
  },
  {
   "cell_type": "markdown",
   "id": "947f1377",
   "metadata": {},
   "source": [
    "### Assignment 15: List Intersection\n",
    "\n",
    "Write a function that takes two lists and returns a new list containing only the elements that are present in both lists. Print the intersected list."
   ]
  },
  {
   "cell_type": "code",
   "execution_count": null,
   "id": "2125ddf6",
   "metadata": {},
   "outputs": [
    {
     "name": "stdout",
     "output_type": "stream",
     "text": [
      "list1 : [1, 2, 5, 4, 7, 59, 522, 5, 6, 4, 8] \n",
      "list2 : [1, 2, 3, 4, 5, 96]\n",
      "intersected list : [1, 2, 4, 5]\n"
     ]
    }
   ],
   "source": [
    "def intersection(a,b):\n",
    "    ilist = [ele for ele in a if ele in b]\n",
    "    ilist.sort()\n",
    "    return list(set(ilist))\n",
    "\n",
    "listA = eval(input(\"enter list 1 in [...] manner\"))\n",
    "listB = eval(input(\"enter list 2 in [...] manner\"))\n",
    "print(f\"list1 : {listA} \\nlist2 : {listB}\")\n",
    "intersected = intersection(listA, listB)\n",
    "print(f\"intersected list : {intersected}\")"
   ]
  }
 ],
 "metadata": {
  "kernelspec": {
   "display_name": "Python 3",
   "language": "python",
   "name": "python3"
  },
  "language_info": {
   "codemirror_mode": {
    "name": "ipython",
    "version": 3
   },
   "file_extension": ".py",
   "mimetype": "text/x-python",
   "name": "python",
   "nbconvert_exporter": "python",
   "pygments_lexer": "ipython3",
   "version": "3.11.9"
  }
 },
 "nbformat": 4,
 "nbformat_minor": 5
}
