{
 "cells": [
  {
   "cell_type": "markdown",
   "metadata": {},
   "source": [
    "# Lesson 1.2: Python Basics\n",
    "## Topics Covered:\n",
    "- Syntax and Semantics\n",
    "- Variables and Data Types\n",
    "- Basic Operators (Arithmetic, Comparison, Logical)\n"
   ]
  },
  {
   "cell_type": "markdown",
   "metadata": {},
   "source": [
    "## 1. Syntax and Semantics\n",
    "\n",
    "**Question 1:** Write a Python program to print \"Hello, World!\"."
   ]
  },
  {
   "cell_type": "code",
   "execution_count": 1,
   "metadata": {},
   "outputs": [
    {
     "name": "stdout",
     "output_type": "stream",
     "text": [
      "Hello. World!\n"
     ]
    }
   ],
   "source": [
    "# Your code here\n",
    "print(\"Hello. World!\")"
   ]
  },
  {
   "cell_type": "markdown",
   "metadata": {},
   "source": [
    "**Question 2:** Write a Python program that takes a user input and prints it."
   ]
  },
  {
   "cell_type": "code",
   "execution_count": 8,
   "metadata": {},
   "outputs": [
    {
     "name": "stdout",
     "output_type": "stream",
     "text": [
      "hello\n"
     ]
    }
   ],
   "source": [
    "# Your code here\n",
    "a = input(\"enter anything\")\n",
    "print(a)"
   ]
  },
  {
   "cell_type": "markdown",
   "metadata": {},
   "source": [
    "**Question 3:** Write a Python program to check if a number is positive, negative, or zero."
   ]
  },
  {
   "cell_type": "code",
   "execution_count": null,
   "metadata": {},
   "outputs": [
    {
     "name": "stdout",
     "output_type": "stream",
     "text": [
      "no is +ve\n"
     ]
    }
   ],
   "source": [
    "# Your code here\n",
    "b=float(input(\"enter a no\"))\n",
    "if b >0:\n",
    "    print(\"no is +ve\")\n",
    "elif b ==0:\n",
    "    print(\"no is zero\")\n",
    "if b <0:\n",
    "    print(\"no is -ve\")"
   ]
  },
  {
   "cell_type": "markdown",
   "metadata": {},
   "source": [
    "**Question 4:** Write a Python program to find the largest of three numbers."
   ]
  },
  {
   "cell_type": "code",
   "execution_count": 2,
   "metadata": {},
   "outputs": [
    {
     "name": "stdout",
     "output_type": "stream",
     "text": [
      "8.0  is largest\n"
     ]
    }
   ],
   "source": [
    "# Your code here\n",
    "c1,c2,c3=float(input(\"enter no1-\")) , float(input(\"enter no2-\")) , float(input(\"enter no3-\"))\n",
    "if c1>c2 and c1>c3 :\n",
    "    print(c1,\" is largest\")\n",
    "elif c2>c1 and c2>c3 :\n",
    "    print(c2,\" is largest\")\n",
    "else :\n",
    "    print(c3,\" is largest\")\n"
   ]
  },
  {
   "cell_type": "markdown",
   "metadata": {},
   "source": [
    "**Question 5:** Write a Python program to calculate the factorial of a number."
   ]
  },
  {
   "cell_type": "code",
   "execution_count": 5,
   "metadata": {},
   "outputs": [
    {
     "name": "stdout",
     "output_type": "stream",
     "text": [
      "factorial of  7 = 5040\n"
     ]
    }
   ],
   "source": [
    "# Your code here\n",
    "d = int(input(\"enter a valid +ve no.\"))\n",
    "if d<0 :\n",
    "    print(\"enter a +ve no.\")\n",
    "elif d==0 :\n",
    "    print(\"factorial of 0 = 1\")\n",
    "else :\n",
    "    fact = d\n",
    "    for i in range(d-1 , 1, -1) :\n",
    "        fact = fact*i\n",
    "    print(\"factorial of \",d,\"=\",fact)\n"
   ]
  },
  {
   "cell_type": "markdown",
   "metadata": {},
   "source": [
    "## 2. Variables and Data Types\n",
    "\n",
    "**Question 6:** Create variables of different data types: integer, float, string, and boolean. Print their values and types."
   ]
  },
  {
   "cell_type": "code",
   "execution_count": 9,
   "metadata": {},
   "outputs": [
    {
     "name": "stdout",
     "output_type": "stream",
     "text": [
      "10 <class 'int'>\n",
      "9.6 <class 'float'>\n",
      "python <class 'str'>\n",
      "True <class 'bool'>\n"
     ]
    }
   ],
   "source": [
    "# Your code here\n",
    "a1 = 10\n",
    "a2 = 9.6\n",
    "a3 = \"python\"\n",
    "a4 = True \n",
    "print(a1, type(a1))\n",
    "print(a2, type(a2))\n",
    "print(a3, type(a3))\n",
    "print(a4, type(a4))"
   ]
  },
  {
   "cell_type": "markdown",
   "metadata": {},
   "source": [
    "**Question 7:** Write a Python program to swap the values of two variables."
   ]
  },
  {
   "cell_type": "code",
   "execution_count": 4,
   "metadata": {},
   "outputs": [
    {
     "name": "stdout",
     "output_type": "stream",
     "text": [
      "before  hi 9\n",
      "after  9 hi\n"
     ]
    }
   ],
   "source": [
    "# Your code here\n",
    "v1 = input(\"enter-\")\n",
    "v2 = input(\"enter-\")\n",
    "print(\"before \",v1,v2)\n",
    "swap = v1\n",
    "v1 = v2\n",
    "v2 = swap\n",
    "print(\"after \",v1,v2)"
   ]
  },
  {
   "cell_type": "markdown",
   "metadata": {},
   "source": [
    "**Question 8:** Write a Python program to convert Celsius to Fahrenheit."
   ]
  },
  {
   "cell_type": "code",
   "execution_count": 110,
   "metadata": {},
   "outputs": [
    {
     "name": "stdout",
     "output_type": "stream",
     "text": [
      "temp. in Fahrenheit is 98.6\n"
     ]
    }
   ],
   "source": [
    "# Your code here\n",
    "\n",
    "''' F = (9/5)C + 32'''\n",
    "\n",
    "cel = float(input(\"enter temperature in celsius\"))\n",
    "F = ( (9/5)*cel ) +32\n",
    "print(\"temp. in Fahrenheit is\",round(F,2))"
   ]
  },
  {
   "cell_type": "markdown",
   "metadata": {},
   "source": [
    "**Question 9:** Write a Python program to concatenate two strings."
   ]
  },
  {
   "cell_type": "code",
   "execution_count": null,
   "metadata": {},
   "outputs": [
    {
     "name": "stdout",
     "output_type": "stream",
     "text": [
      "helloworld\n"
     ]
    }
   ],
   "source": [
    "# Your code here\n",
    "s1 = input(\"string 1-\")\n",
    "s2 = input(\"string 2-\")\n",
    "print(s1 + s2)"
   ]
  },
  {
   "cell_type": "markdown",
   "metadata": {},
   "source": [
    "**Question 10:** Write a Python program to check if a variable is of a specific data type."
   ]
  },
  {
   "cell_type": "code",
   "execution_count": 57,
   "metadata": {},
   "outputs": [
    {
     "name": "stdout",
     "output_type": "stream",
     "text": [
      "Yes. value is of same data type.\n"
     ]
    }
   ],
   "source": [
    "# Your code here\n",
    "dt = input(\"enter which data type u want to check (int/float/str/bool) -\")\n",
    "v = input(\"enter value-\")\n",
    "if v[0] in 'abcdefghijklmnopqrstuvwxyz' :\n",
    "    if dt.lower() == \"str\" :\n",
    "        print(\"Yes. value is of same data type.\")\n",
    "    else:\n",
    "        print(\"value is of different data type.\")\n",
    "elif dt.lower() == \"int\" :\n",
    "    if type(eval(v)) == int :\n",
    "        print(\"Yes. value is of same data type.\") \n",
    "elif dt.lower() == 'float' :\n",
    "    if type(eval(v)) == float :\n",
    "        print(\"Yes. value is of same data type.\") \n",
    "elif dt.lower() == 'bool' :\n",
    "    if type(eval(v)) == bool :\n",
    "        print(\"Yes. value is of same data type.\") \n",
    "else:\n",
    "    print(\"value is of different data type.\")\n"
   ]
  },
  {
   "cell_type": "markdown",
   "metadata": {},
   "source": [
    "## 3. Basic Operators (Arithmetic, Comparison, Logical)\n",
    "\n",
    "**Question 11:** Write a Python program to perform arithmetic operations: addition, subtraction, multiplication, and division."
   ]
  },
  {
   "cell_type": "code",
   "execution_count": null,
   "metadata": {},
   "outputs": [
    {
     "name": "stdout",
     "output_type": "stream",
     "text": [
      "Addition= 27.3\n",
      "Subtraction= 22.7\n",
      "Multiplication= 57.49999999999999\n",
      "Division= 10.869565217391305\n"
     ]
    }
   ],
   "source": [
    "# Your code here\n",
    "no1, no2 = float(input(\"enter no1-\")) , float(input(\"enter no2-\"))\n",
    "print(\"Addition=\", no1 + no2)\n",
    "print(\"Subtraction=\", no1 - no2)\n",
    "print(\"Multiplication=\", no1 * no2)\n",
    "print(\"Division=\", no1 / no2)"
   ]
  },
  {
   "cell_type": "markdown",
   "metadata": {},
   "source": [
    "**Question 12:** Write a Python program to demonstrate comparison operators: equal to, not equal to, greater than, less than."
   ]
  },
  {
   "cell_type": "code",
   "execution_count": 62,
   "metadata": {},
   "outputs": [
    {
     "name": "stdout",
     "output_type": "stream",
     "text": [
      "3 is not equal to 2\n",
      "3 > 2\n"
     ]
    }
   ],
   "source": [
    "# Your code here\n",
    "x ,y = int(input(\"enter integer1\")) , int(input(\"enter integer2\"))\n",
    "if x==y:\n",
    "    print(x,'is equal to',y)\n",
    "if x!=y :\n",
    "    print(x,'is not equal to',y)\n",
    "if x>y :\n",
    "    print(x,'>',y)\n",
    "elif x<y :\n",
    "    print(x,'<',y)"
   ]
  },
  {
   "cell_type": "markdown",
   "metadata": {},
   "source": [
    "**Question 13:** Write a Python program to demonstrate logical operators: and, or, not."
   ]
  },
  {
   "cell_type": "code",
   "execution_count": null,
   "metadata": {},
   "outputs": [
    {
     "name": "stdout",
     "output_type": "stream",
     "text": [
      "AND : only executes when both True\n",
      "OR : executes when any one is True\n"
     ]
    }
   ],
   "source": [
    "# Your code here\n",
    "x ,y = eval(input(\"enter True / False\")) , eval(input(\"enter True / False\"))\n",
    "if x and y :\n",
    "    print(\"AND : only executes when both True\")\n",
    "if x or y :\n",
    "    print(\"OR : executes when any one is True\")\n",
    "if not x :\n",
    "    print(\"NOT : reverse the True/False\")"
   ]
  },
  {
   "cell_type": "markdown",
   "metadata": {},
   "source": [
    "**Question 14:** Write a Python program to calculate the square of a number."
   ]
  },
  {
   "cell_type": "code",
   "execution_count": 69,
   "metadata": {},
   "outputs": [
    {
     "name": "stdout",
     "output_type": "stream",
     "text": [
      "square of a no is =  144\n"
     ]
    }
   ],
   "source": [
    "# Your code here\n",
    "import math\n",
    "no = int(input(\"enter a no\"))\n",
    "print(\"square of a no is = \", int(math.pow(no,2)))"
   ]
  },
  {
   "cell_type": "markdown",
   "metadata": {},
   "source": [
    "**Question 15:** Write a Python program to check if a number is even or odd."
   ]
  },
  {
   "cell_type": "code",
   "execution_count": 81,
   "metadata": {},
   "outputs": [
    {
     "name": "stdout",
     "output_type": "stream",
     "text": [
      "it is odd\n"
     ]
    }
   ],
   "source": [
    "# Your code here\n",
    "no_ = int(input(\"enter a no\"))\n",
    "if no_%2 == 0:\n",
    "    print(\"no is even\")\n",
    "else:\n",
    "    print(\"it is odd\")"
   ]
  },
  {
   "cell_type": "markdown",
   "metadata": {},
   "source": [
    "**Question 16:** Write a Python program to find the sum of the first n natural numbers."
   ]
  },
  {
   "cell_type": "code",
   "execution_count": 1,
   "metadata": {},
   "outputs": [
    {
     "name": "stdout",
     "output_type": "stream",
     "text": [
      "sum = 15\n"
     ]
    }
   ],
   "source": [
    "# Your code here\n",
    "n = int(input(\"Enter a number n\"))\n",
    "S = 0\n",
    "for i in range(1, n+1):\n",
    "    S = S+i \n",
    "print(\"sum =\",S)"
   ]
  },
  {
   "cell_type": "markdown",
   "metadata": {},
   "source": [
    "**Question 17:** Write a Python program to check if a year is a leap year."
   ]
  },
  {
   "cell_type": "code",
   "execution_count": 91,
   "metadata": {},
   "outputs": [
    {
     "name": "stdout",
     "output_type": "stream",
     "text": [
      "it is leap year\n"
     ]
    }
   ],
   "source": [
    "# Your code here\n",
    "year = int(input(\"enter a year\"))\n",
    "leap = False\n",
    "if year%100 == 0:\n",
    "    if year%400 == 0:\n",
    "        leap=True\n",
    "else:\n",
    "    if year%4 == 0:\n",
    "        leap = True\n",
    "\n",
    "if leap:\n",
    "    print(\"it is leap year\")\n",
    "else:\n",
    "    print(\"not leap year\")"
   ]
  },
  {
   "cell_type": "markdown",
   "metadata": {},
   "source": [
    "**Question 18:** Write a Python program to reverse a string."
   ]
  },
  {
   "cell_type": "code",
   "execution_count": 96,
   "metadata": {},
   "outputs": [
    {
     "name": "stdout",
     "output_type": "stream",
     "text": [
      "nohtyp\n"
     ]
    }
   ],
   "source": [
    "# Your code here\n",
    "str_ = input(\"enter a string\")\n",
    "r_str = ''\n",
    "for j in str_ :\n",
    "    r_str = j + r_str\n",
    "print(r_str)"
   ]
  },
  {
   "cell_type": "markdown",
   "metadata": {},
   "source": [
    "**Question 19:** Write a Python program to check if a string is a palindrome."
   ]
  },
  {
   "cell_type": "code",
   "execution_count": 105,
   "metadata": {},
   "outputs": [
    {
     "name": "stdout",
     "output_type": "stream",
     "text": [
      "string is palindrome\n"
     ]
    }
   ],
   "source": [
    "# Your code here\n",
    "str1 = input(\"enter a string\")\n",
    "r_str1 = ''\n",
    "for k in str1 :\n",
    "    r_str1 = k + r_str1\n",
    "if str1 == r_str1 :\n",
    "    print(\"string is palindrome\")\n",
    "else:\n",
    "    print(\"it is not palindrome\")"
   ]
  },
  {
   "cell_type": "markdown",
   "metadata": {},
   "source": [
    "**Question 20:** Write a Python program to sort a list of numbers in ascending order."
   ]
  },
  {
   "cell_type": "code",
   "execution_count": 107,
   "metadata": {},
   "outputs": [
    {
     "name": "stdout",
     "output_type": "stream",
     "text": [
      "[4, 7, 9, 10, 33, 87]\n"
     ]
    }
   ],
   "source": [
    "# Your code here\n",
    "L = eval(input(\"enter a list of no.s , like - [1,4,2,...]\"))\n",
    "print(sorted(L))"
   ]
  }
 ],
 "metadata": {
  "kernelspec": {
   "display_name": "Python 3",
   "language": "python",
   "name": "python3"
  },
  "language_info": {
   "codemirror_mode": {
    "name": "ipython",
    "version": 3
   },
   "file_extension": ".py",
   "mimetype": "text/x-python",
   "name": "python",
   "nbconvert_exporter": "python",
   "pygments_lexer": "ipython3",
   "version": "3.12.7"
  }
 },
 "nbformat": 4,
 "nbformat_minor": 4
}
