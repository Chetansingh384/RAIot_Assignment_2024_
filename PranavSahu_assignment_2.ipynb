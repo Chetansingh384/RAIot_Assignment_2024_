{
 "cells": [
  {
   "cell_type": "markdown",
   "metadata": {},
   "source": [
    "# Module 2: Control Flow Assignments\n",
    "## Lesson 2.1: Conditional Statements\n",
    "### Assignment 1: Simple if Statement\n",
    "\n",
    "Write a program that asks the user to input a number and prints whether the number is positive.\n",
    "\n",
    "### Assignment 2: if-else Statement\n",
    "\n",
    "Write a program that asks the user to input a number and prints whether the number is positive or negative.\n",
    "\n",
    "### Assignment 3: if-elif-else Statement\n",
    "\n",
    "Write a program that asks the user to input a number and prints whether the number is positive, negative, or zero.\n",
    "\n",
    "### Assignment 4: Nested if Statement\n",
    "\n",
    "Write a program that asks the user to input a number and prints whether the number is positive and even, positive and odd, or negative.\n",
    "\n",
    "## Lesson 2.2: Loops\n",
    "### Assignment 5: for Loop\n",
    "\n",
    "Write a program that prints all the numbers from 1 to 10 using a for loop.\n",
    "\n",
    "### Assignment 6: while Loop\n",
    "\n",
    "Write a program that prints all the numbers from 1 to 10 using a while loop.\n",
    "\n",
    "### Assignment 7: Nested Loops\n",
    "\n",
    "Write a program that prints a 5x5 grid of asterisks (*) using nested loops.\n",
    "\n",
    "### Assignment 8: break Statement\n",
    "\n",
    "Write a program that asks the user to input numbers until they input 0. The program should print the sum of all the input numbers.\n",
    "\n",
    "### Assignment 9: continue Statement\n",
    "\n",
    "Write a program that prints all the numbers from 1 to 10 except 5 using a for loop and continue statement.\n",
    "\n",
    "### Assignment 10: pass Statement\n",
    "\n",
    "Write a program that defines an empty function using the pass statement.\n",
    "\n",
    "### Assignment 11: Combining Loops and Conditionals\n",
    "\n",
    "Write a program that asks the user to input a number and prints all the even numbers from 1 to that number using a for loop.\n",
    "\n",
    "### Assignment 12: Factorial Calculation\n",
    "\n",
    "Write a program that calculates the factorial of a number input by the user using a while loop.\n",
    "\n",
    "### Assignment 13: Sum of Digits\n",
    "\n",
    "Write a program that calculates the sum of the digits of a number input by the user using a while loop.\n",
    "\n",
    "### Assignment 14: Prime Number Check\n",
    "\n",
    "Write a program that checks if a number input by the user is a prime number using a for loop.\n",
    "\n",
    "### Assignment 15: Fibonacci Sequence\n",
    "\n",
    "Write a program that prints the first n Fibonacci numbers, where n is input by the user."
   ]
  },
  {
   "cell_type": "markdown",
   "id": "dd82ab02",
   "metadata": {},
   "source": []
  },
  {
   "cell_type": "markdown",
   "id": "f8b2ff74",
   "metadata": {},
   "source": [
    "#### Assignment 1: Simple if Statement\n",
    "\n",
    "Write a program that asks the user to input a number and prints whether the number is positive.\n"
   ]
  },
  {
   "cell_type": "code",
   "execution_count": null,
   "id": "753053fa",
   "metadata": {},
   "outputs": [
    {
     "name": "stdout",
     "output_type": "stream",
     "text": [
      "no is +ve\n"
     ]
    }
   ],
   "source": [
    "b=float(input(\"enter a no\"))\n",
    "if b >0:\n",
    "    print(\"no is +ve\")"
   ]
  },
  {
   "cell_type": "markdown",
   "id": "6dd395b6",
   "metadata": {},
   "source": [
    "#### Assignment 2: if-else Statement\n",
    "\n",
    "Write a program that asks the user to input a number and prints whether the number is positive or negative.\n"
   ]
  },
  {
   "cell_type": "code",
   "execution_count": null,
   "id": "11a72d3e",
   "metadata": {},
   "outputs": [
    {
     "name": "stdout",
     "output_type": "stream",
     "text": [
      "no is -ve\n"
     ]
    }
   ],
   "source": [
    "b=float(input(\"enter a no\"))\n",
    "if b >0:\n",
    "    print(\"no is +ve\")\n",
    "else :\n",
    "    print(\"no is -ve\")"
   ]
  },
  {
   "cell_type": "markdown",
   "id": "813eb9bd",
   "metadata": {},
   "source": [
    "#### Assignment 3: if-elif-else Statement\n",
    "\n",
    "Write a program that asks the user to input a number and prints whether the number is positive, negative, or zero.\n"
   ]
  },
  {
   "cell_type": "code",
   "execution_count": 8,
   "id": "fad40765",
   "metadata": {},
   "outputs": [
    {
     "name": "stdout",
     "output_type": "stream",
     "text": [
      "no is zero\n"
     ]
    }
   ],
   "source": [
    "b=float(input(\"enter a no\"))\n",
    "if b >0:\n",
    "    print(\"no is +ve\")\n",
    "elif b ==0:\n",
    "    print(\"no is zero\")\n",
    "else:\n",
    "    print(\"no is -ve\")"
   ]
  },
  {
   "cell_type": "markdown",
   "id": "808187cb",
   "metadata": {},
   "source": [
    "#### Assignment 4: Nested if Statement\n",
    "\n",
    "Write a program that asks the user to input a number and prints whether the number is positive and even, positive and odd, or negative.\n"
   ]
  },
  {
   "cell_type": "code",
   "execution_count": 9,
   "id": "9855fc64",
   "metadata": {},
   "outputs": [
    {
     "name": "stdout",
     "output_type": "stream",
     "text": [
      "no is +ve and odd\n"
     ]
    }
   ],
   "source": [
    "b=float(input(\"enter a no\"))\n",
    "if b >0:\n",
    "    if b%2 == 0:\n",
    "        print(\"no is +ve and even\")\n",
    "    else:\n",
    "        print(\"no is +ve and odd\")\n",
    "elif b ==0:\n",
    "    print(\"no is zero\")\n",
    "else:\n",
    "    print(\"no is -ve\")"
   ]
  },
  {
   "cell_type": "markdown",
   "id": "48084fd4",
   "metadata": {},
   "source": [
    "#### Assignment 5: for Loop\n",
    "\n",
    "Write a program that prints all the numbers from 1 to 10 using a for loop.\n",
    "\n"
   ]
  },
  {
   "cell_type": "code",
   "execution_count": 11,
   "id": "2742c615",
   "metadata": {},
   "outputs": [
    {
     "name": "stdout",
     "output_type": "stream",
     "text": [
      "1\n",
      "2\n",
      "3\n",
      "4\n",
      "5\n",
      "6\n",
      "7\n",
      "8\n",
      "9\n",
      "10\n"
     ]
    }
   ],
   "source": [
    "for i in range(1,11) :\n",
    "    print(i)"
   ]
  },
  {
   "cell_type": "markdown",
   "id": "52175a89",
   "metadata": {},
   "source": [
    "#### Assignment 6: while Loop\n",
    "\n",
    "Write a program that prints all the numbers from 1 to 10 using a while loop.\n",
    "\n"
   ]
  },
  {
   "cell_type": "code",
   "execution_count": 12,
   "id": "3c6e02eb",
   "metadata": {},
   "outputs": [
    {
     "name": "stdout",
     "output_type": "stream",
     "text": [
      "1\n",
      "2\n",
      "3\n",
      "4\n",
      "5\n",
      "6\n",
      "7\n",
      "8\n",
      "9\n",
      "10\n"
     ]
    }
   ],
   "source": [
    "j=1\n",
    "while j<11 :\n",
    "    print(j)\n",
    "    j+=1"
   ]
  },
  {
   "cell_type": "markdown",
   "id": "f835ebf0",
   "metadata": {},
   "source": [
    "#### Assignment 7: Nested Loops\n",
    "\n",
    "Write a program that prints a 5x5 grid of asterisks (*) using nested loops.\n"
   ]
  },
  {
   "cell_type": "code",
   "execution_count": 3,
   "id": "9210193b",
   "metadata": {},
   "outputs": [
    {
     "name": "stdout",
     "output_type": "stream",
     "text": [
      "* * * * * \n",
      "* * * * * \n",
      "* * * * * \n",
      "* * * * * \n",
      "* * * * * \n"
     ]
    }
   ],
   "source": [
    "for i in range(5) :\n",
    "    for j in range(5):\n",
    "        print(\"*\", end=\" \")\n",
    "    print()"
   ]
  },
  {
   "cell_type": "markdown",
   "id": "b34faf2f",
   "metadata": {},
   "source": [
    "#### Assignment 8: break Statement\n",
    "\n",
    "Write a program that asks the user to input numbers until they input 0. The program should print the sum of all the input numbers.\n",
    "\n"
   ]
  },
  {
   "cell_type": "code",
   "execution_count": 7,
   "id": "cff2d8dd",
   "metadata": {},
   "outputs": [
    {
     "name": "stdout",
     "output_type": "stream",
     "text": [
      "sum of all input nos = 11\n"
     ]
    }
   ],
   "source": [
    "s = 0\n",
    "while True:\n",
    "    a = int(input(\"enter a no\"))\n",
    "    if a == 0:\n",
    "        break\n",
    "    s+=a \n",
    "print('sum of all input nos =',s) "
   ]
  },
  {
   "cell_type": "markdown",
   "id": "d2c65546",
   "metadata": {},
   "source": [
    "#### Assignment 9: continue Statement\n",
    "\n",
    "Write a program that prints all the numbers from 1 to 10 except 5 using a for loop and continue statement.\n",
    "\n"
   ]
  },
  {
   "cell_type": "code",
   "execution_count": 9,
   "id": "25124707",
   "metadata": {},
   "outputs": [
    {
     "name": "stdout",
     "output_type": "stream",
     "text": [
      "1 2 3 4 6 7 8 9 10 "
     ]
    }
   ],
   "source": [
    "for k in range(1,11):\n",
    "    if k==5:\n",
    "        continue \n",
    "    print(k, end=' ')"
   ]
  },
  {
   "cell_type": "markdown",
   "id": "fb7c51eb",
   "metadata": {},
   "source": [
    "#### Assignment 10: pass Statement\n",
    "\n",
    "Write a program that defines an empty function using the pass statement.\n",
    "\n"
   ]
  },
  {
   "cell_type": "code",
   "execution_count": 10,
   "id": "2f5da310",
   "metadata": {},
   "outputs": [],
   "source": [
    "def hello():\n",
    "    pass\n",
    "\n",
    "hello()"
   ]
  },
  {
   "cell_type": "markdown",
   "id": "19218af9",
   "metadata": {},
   "source": [
    "#### Assignment 11: Combining Loops and Conditionals\n",
    "\n",
    "Write a program that asks the user to input a number and prints all the even numbers from 1 to that number using a for loop.\n"
   ]
  },
  {
   "cell_type": "code",
   "execution_count": 13,
   "id": "496d8f2c",
   "metadata": {},
   "outputs": [
    {
     "name": "stdout",
     "output_type": "stream",
     "text": [
      "2 4 6 8 10 12 14 "
     ]
    }
   ],
   "source": [
    "no = int(input(\"enter a no\"))\n",
    "for i in range(2,no+1, 2):\n",
    "    print(i, end=' ')"
   ]
  },
  {
   "cell_type": "markdown",
   "id": "098580ef",
   "metadata": {},
   "source": [
    "#### Assignment 12: Factorial Calculation\n",
    "\n",
    "Write a program that calculates the factorial of a number input by the user using a while loop.\n"
   ]
  },
  {
   "cell_type": "code",
   "execution_count": 19,
   "id": "a7878e12",
   "metadata": {},
   "outputs": [
    {
     "name": "stdout",
     "output_type": "stream",
     "text": [
      "factorial of no = 120\n"
     ]
    }
   ],
   "source": [
    "num = int(input(\"enter a no\"))\n",
    "fact ,j = 1, 1\n",
    "while j<=num :\n",
    "    fact *= j\n",
    "    j+=1\n",
    "print(f\"factorial of no = {fact}\")"
   ]
  },
  {
   "cell_type": "markdown",
   "id": "db9a7045",
   "metadata": {},
   "source": [
    "\n",
    "#### Assignment 13: Sum of Digits\n",
    "\n",
    "Write a program that calculates the sum of the digits of a number input by the user using a while loop.\n"
   ]
  },
  {
   "cell_type": "code",
   "execution_count": null,
   "id": "7d16dc5f",
   "metadata": {},
   "outputs": [
    {
     "name": "stdout",
     "output_type": "stream",
     "text": [
      "sum of digits of 102 = 3\n"
     ]
    }
   ],
   "source": [
    "nom = int(input(\"enter a no\"))\n",
    "d = nom\n",
    "S = 0\n",
    "while d>0 :\n",
    "    S += (d%10)\n",
    "    d = d//10\n",
    "print(f\"sum of digits of {nom} = {S}\") \n",
    "\n",
    "''' print sum of digits of a no without any loop'''\n",
    "'''\n",
    "n = list(input(\"enter no\"))\n",
    "L = list(map(int, n)) \n",
    "print(sum(L), len(L))\n",
    "'''"
   ]
  },
  {
   "cell_type": "markdown",
   "id": "c8604783",
   "metadata": {},
   "source": [
    "#### Assignment 14: Prime Number Check\n",
    "\n",
    "Write a program that checks if a number input by the user is a prime number using a for loop.\n"
   ]
  },
  {
   "cell_type": "code",
   "execution_count": 36,
   "metadata": {},
   "outputs": [
    {
     "name": "stdout",
     "output_type": "stream",
     "text": [
      "no is prime\n"
     ]
    }
   ],
   "source": [
    "n = int(input(\"enter a no\"))\n",
    "prime = True\n",
    "for i in range(2, n) :\n",
    "    if n%i == 0:\n",
    "        prime=False\n",
    "        break\n",
    "if prime:\n",
    "    print(\"no is prime\")\n",
    "else :\n",
    "    print(\"no is not prime\")"
   ]
  },
  {
   "cell_type": "markdown",
   "id": "9cce36e0",
   "metadata": {},
   "source": [
    "\n",
    "#### Assignment 15: Fibonacci Sequence\n",
    "\n",
    "Write a program that prints the first n Fibonacci numbers, where n is input by the user."
   ]
  },
  {
   "cell_type": "code",
   "execution_count": 43,
   "id": "3050b1b3",
   "metadata": {},
   "outputs": [
    {
     "name": "stdout",
     "output_type": "stream",
     "text": [
      "0, 1, 1, 2, 3, 5, 8, 13, 21, 34.\n"
     ]
    }
   ],
   "source": [
    "n = int(input(\"enter a no till which u want to have series\"))\n",
    "a,b = 0,1\n",
    "c = a+b\n",
    "for i in range(n) :\n",
    "    if i == 0:\n",
    "        print(a, end=', ')\n",
    "    elif i == 1:\n",
    "        print(b, end=', ')\n",
    "    else:\n",
    "        print(c, end=', ')\n",
    "        a=b\n",
    "        b=c\n",
    "        c = a+b \n",
    "print(\"\\b\\b.\")"
   ]
  }
 ],
 "metadata": {
  "kernelspec": {
   "display_name": "Python 3",
   "language": "python",
   "name": "python3"
  },
  "language_info": {
   "codemirror_mode": {
    "name": "ipython",
    "version": 3
   },
   "file_extension": ".py",
   "mimetype": "text/x-python",
   "name": "python",
   "nbconvert_exporter": "python",
   "pygments_lexer": "ipython3",
   "version": "3.12.7"
  }
 },
 "nbformat": 4,
 "nbformat_minor": 5
}
