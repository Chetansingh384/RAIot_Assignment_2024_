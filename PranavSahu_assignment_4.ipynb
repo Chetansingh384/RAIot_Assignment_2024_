{
 "cells": [
  {
   "cell_type": "markdown",
   "id": "22b5b801",
   "metadata": {},
   "source": [
    "# Module 3: Data Structures Assignments\n",
    "## Lesson 3.4: Dictionaries\n",
    "### Assignment 1: Creating and Accessing Dictionaries\n",
    "\n",
    "Create a dictionary with the first 10 positive integers as keys and their squares as values. Print the dictionary."
   ]
  },
  {
   "cell_type": "code",
   "execution_count": 9,
   "id": "f63d5f9d",
   "metadata": {},
   "outputs": [
    {
     "name": "stdout",
     "output_type": "stream",
     "text": [
      "{1: 1, 2: 4, 3: 9, 4: 16, 5: 25, 6: 36, 7: 49, 8: 64, 9: 81, 10: 100}\n"
     ]
    }
   ],
   "source": [
    "l1 = list(range(1,11))\n",
    "l2 = [i**2 for i in l1]\n",
    "d = dict(zip(l1,l2))\n",
    "print(d) "
   ]
  },
  {
   "cell_type": "markdown",
   "id": "5f52adc6",
   "metadata": {},
   "source": [
    "### Assignment 2: Accessing Dictionary Elements\n",
    "\n",
    "Print the value of the key 5 and the keys of the dictionary created in Assignment 1."
   ]
  },
  {
   "cell_type": "code",
   "execution_count": 5,
   "id": "163290d4",
   "metadata": {},
   "outputs": [
    {
     "name": "stdout",
     "output_type": "stream",
     "text": [
      "25\n",
      "dict_keys([1, 2, 3, 4, 5, 6, 7, 8, 9, 10])\n"
     ]
    }
   ],
   "source": [
    "print(d[5])\n",
    "print(d.keys())"
   ]
  },
  {
   "cell_type": "markdown",
   "id": "6b85b725",
   "metadata": {},
   "source": [
    "### Assignment 3: Dictionary Methods\n",
    "\n",
    "Add a new key-value pair (11, 121) to the dictionary created in Assignment 1 and then remove the key-value pair with key 1. Print the modified dictionary."
   ]
  },
  {
   "cell_type": "code",
   "execution_count": 10,
   "id": "3882e8b5",
   "metadata": {},
   "outputs": [
    {
     "name": "stdout",
     "output_type": "stream",
     "text": [
      "{2: 4, 3: 9, 4: 16, 5: 25, 6: 36, 7: 49, 8: 64, 9: 81, 10: 100, 11: 121}\n"
     ]
    }
   ],
   "source": [
    "d1 = d.copy()\n",
    "d1[11] = 121\n",
    "d1.pop(1)\n",
    "print(d1)"
   ]
  },
  {
   "cell_type": "markdown",
   "id": "d2e2d736",
   "metadata": {},
   "source": [
    "### Assignment 4: Iterating Over Dictionaries\n",
    "\n",
    "Iterate over the dictionary created in Assignment 1 and print each key-value pair."
   ]
  },
  {
   "cell_type": "code",
   "execution_count": 16,
   "id": "16aa462f",
   "metadata": {},
   "outputs": [
    {
     "name": "stdout",
     "output_type": "stream",
     "text": [
      "(1, 1)\n",
      "(2, 4)\n",
      "(3, 9)\n",
      "(4, 16)\n",
      "(5, 25)\n",
      "(6, 36)\n",
      "(7, 49)\n",
      "(8, 64)\n",
      "(9, 81)\n",
      "(10, 100)\n"
     ]
    }
   ],
   "source": [
    "for i in d:\n",
    "    t = (i,d[i])\n",
    "    print(t)"
   ]
  },
  {
   "cell_type": "markdown",
   "id": "44eb2072",
   "metadata": {},
   "source": [
    "### Assignment 5: Dictionary Comprehensions\n",
    "\n",
    "Create a new dictionary containing the cubes of the first 10 positive integers using a dictionary comprehension. Print the new dictionary."
   ]
  },
  {
   "cell_type": "code",
   "execution_count": 3,
   "id": "a398837d",
   "metadata": {},
   "outputs": [
    {
     "name": "stdout",
     "output_type": "stream",
     "text": [
      "{1: 1, 2: 8, 3: 27, 4: 64, 5: 125, 6: 216, 7: 343, 8: 512, 9: 729, 10: 1000}\n"
     ]
    }
   ],
   "source": [
    "newd = {j : j**3 for j in range(1,11)}\n",
    "print(newd)"
   ]
  },
  {
   "cell_type": "markdown",
   "id": "4cd4d4ae",
   "metadata": {},
   "source": [
    "### Assignment 6: Merging Dictionaries\n",
    "\n",
    "Create two dictionaries: one with keys as the first 5 positive integers and values as their squares, and another with keys as the next 5 positive integers and values as their squares. Merge these dictionaries into a single dictionary and print it."
   ]
  },
  {
   "cell_type": "code",
   "execution_count": 5,
   "id": "8f462d9c",
   "metadata": {},
   "outputs": [
    {
     "name": "stdout",
     "output_type": "stream",
     "text": [
      "{1: 1, 2: 4, 3: 9, 4: 16, 5: 25, 6: 36, 7: 49, 8: 64, 9: 81, 10: 100}\n"
     ]
    }
   ],
   "source": [
    "d_1 = {i: i**2 for i in range(1,6)}\n",
    "d_2 = {j: j**2 for j in range(6,11)}\n",
    "dmerge = d_1.copy()\n",
    "dmerge.update(d_2)\n",
    "print(dmerge)"
   ]
  },
  {
   "cell_type": "markdown",
   "id": "36c05c72",
   "metadata": {},
   "source": [
    "### Assignment 7: Nested Dictionaries\n",
    "\n",
    "Create a nested dictionary representing a student with keys 'name', 'age', 'grades', where 'grades' is another dictionary with keys 'math', 'science', and 'english'. Print the nested dictionary."
   ]
  },
  {
   "cell_type": "code",
   "execution_count": 7,
   "id": "e3305d44",
   "metadata": {},
   "outputs": [
    {
     "name": "stdout",
     "output_type": "stream",
     "text": [
      "{'name': 'happy', 'age': 20, 'grades': {'math': 99, 'science': 98, 'english': 97}}\n"
     ]
    }
   ],
   "source": [
    "nestd = {'name':'happy', 'age':20, 'grades': {'math':99, 'science': 98, 'english': 97}}\n",
    "print(nestd)"
   ]
  },
  {
   "cell_type": "markdown",
   "id": "3d566bc2",
   "metadata": {},
   "source": [
    "### Assignment 8: Dictionary of Lists\n",
    "\n",
    "Create a dictionary where the keys are the first 5 positive integers and the values are lists containing the first 5 multiples of the key. Print the dictionary."
   ]
  },
  {
   "cell_type": "code",
   "execution_count": 8,
   "id": "d8e9e8fa",
   "metadata": {},
   "outputs": [
    {
     "name": "stdout",
     "output_type": "stream",
     "text": [
      "{1: [1, 2, 3, 4, 5], 2: [2, 4, 6, 8, 10], 3: [3, 6, 9, 12, 15], 4: [4, 8, 12, 16, 20], 5: [5, 10, 15, 20, 25]}\n"
     ]
    }
   ],
   "source": [
    "d_l = {k : [k*i for i in range(1,6)] for k in range(1,6)}\n",
    "print(d_l)"
   ]
  },
  {
   "cell_type": "markdown",
   "id": "1deaa76d",
   "metadata": {},
   "source": [
    "### Assignment 9: Dictionary of Tuples\n",
    "\n",
    "Create a dictionary where the keys are the first 5 positive integers and the values are tuples containing the key and its square. Print the dictionary."
   ]
  },
  {
   "cell_type": "code",
   "execution_count": 9,
   "id": "f98c0c85",
   "metadata": {},
   "outputs": [
    {
     "name": "stdout",
     "output_type": "stream",
     "text": [
      "{1: (1, 1), 2: (2, 4), 3: (3, 9), 4: (4, 16), 5: (5, 25)}\n"
     ]
    }
   ],
   "source": [
    "d_t = {j : (j, j**2) for j in range(1,6)}\n",
    "print(d_t)"
   ]
  },
  {
   "cell_type": "markdown",
   "id": "9612676b",
   "metadata": {},
   "source": [
    "### Assignment 10: Dictionary and List Conversion\n",
    "\n",
    "Create a dictionary with the first 5 positive integers as keys and their squares as values. Convert the dictionary to a list of tuples and print it."
   ]
  },
  {
   "cell_type": "code",
   "execution_count": 11,
   "id": "8dd43bf1",
   "metadata": {},
   "outputs": [
    {
     "name": "stdout",
     "output_type": "stream",
     "text": [
      "[(1, 1), (2, 4), (3, 9), (4, 16), (5, 25)]\n"
     ]
    }
   ],
   "source": [
    "D = {m: m**2 for m in range(1,6)}\n",
    "L = list(D.items())\n",
    "print(L)"
   ]
  },
  {
   "cell_type": "markdown",
   "id": "a329c232",
   "metadata": {},
   "source": [
    "### Assignment 11: Dictionary Filtering\n",
    "\n",
    "Create a dictionary with the first 10 positive integers as keys and their squares as values. Create a new dictionary containing only the key-value pairs where the key is even. Print the new dictionary."
   ]
  },
  {
   "cell_type": "code",
   "execution_count": 15,
   "id": "c70df4ba",
   "metadata": {},
   "outputs": [
    {
     "name": "stdout",
     "output_type": "stream",
     "text": [
      "{2: 4, 4: 16, 6: 36, 8: 64, 10: 100}\n"
     ]
    }
   ],
   "source": [
    "D1 = {m: m**2 for m in range(1,11)}\n",
    "Dnew = {k : v for k,v in D1.items() if k%2==0}\n",
    "print(Dnew)\n"
   ]
  },
  {
   "cell_type": "markdown",
   "id": "b1033a2e",
   "metadata": {},
   "source": [
    "### Assignment 12: Dictionary Key and Value Transformation\n",
    "\n",
    "Create a dictionary with the first 5 positive integers as keys and their squares as values. Create a new dictionary with keys and values swapped. Print the new dictionary."
   ]
  },
  {
   "cell_type": "code",
   "execution_count": 16,
   "id": "eccfc91e",
   "metadata": {},
   "outputs": [
    {
     "name": "stdout",
     "output_type": "stream",
     "text": [
      "{1: 1, 4: 2, 9: 3, 16: 4, 25: 5, 36: 6, 49: 7, 64: 8, 81: 9, 100: 10}\n"
     ]
    }
   ],
   "source": [
    "D2 = {m: m**2 for m in range(1,6)}\n",
    "D2new = {v : k for k,v in D1.items()}\n",
    "print(D2new)\n"
   ]
  },
  {
   "cell_type": "markdown",
   "id": "7f6bf546",
   "metadata": {},
   "source": [
    "### Assignment 13: Default Dictionary\n",
    "\n",
    "Create a default dictionary where each key has a default value of an empty list. Add some elements to the lists and print the dictionary."
   ]
  },
  {
   "cell_type": "code",
   "execution_count": 8,
   "id": "6e8b7251",
   "metadata": {},
   "outputs": [
    {
     "name": "stdout",
     "output_type": "stream",
     "text": [
      "{1: [], 2: [], 3: [], 4: [], 5: []}\n",
      "{1: [10, 'hello'], 2: [10, 'hello'], 3: [10, 'hello'], 4: [10, 'hello'], 5: [10, 'hello']}\n"
     ]
    }
   ],
   "source": [
    "dd = dict.fromkeys(range(1,6), [])\n",
    "print(dd)\n",
    "dd[1].extend([10,'hello'])\n",
    "print(dd)"
   ]
  },
  {
   "cell_type": "markdown",
   "id": "e3d05502",
   "metadata": {},
   "source": [
    "### Assignment 14: Counting with Dictionaries\n",
    "\n",
    "Write a function that takes a string and returns a dictionary with the count of each character in the string. Print the dictionary."
   ]
  },
  {
   "cell_type": "code",
   "execution_count": 14,
   "id": "b42ccc73",
   "metadata": {},
   "outputs": [
    {
     "name": "stdout",
     "output_type": "stream",
     "text": [
      "shiftplusp\n",
      "{'s': 2, 'h': 1, 'i': 1, 'f': 1, 't': 1, 'p': 2, 'l': 1, 'u': 1}\n"
     ]
    }
   ],
   "source": [
    "string = input(\"enter a string\").strip()\n",
    "dic = {}\n",
    "for x in string:\n",
    "    c = string.count(x)\n",
    "    dic[x] = c\n",
    "print(string)\n",
    "print(dic)"
   ]
  },
  {
   "cell_type": "markdown",
   "id": "a6c41665",
   "metadata": {},
   "source": [
    "### Assignment 15: Dictionary and JSON\n",
    "\n",
    "Create a dictionary representing a book with keys 'title', 'author', 'year', and 'genre'. Convert the dictionary to a JSON string and print it."
   ]
  },
  {
   "cell_type": "code",
   "execution_count": 38,
   "id": "9ee11c1c",
   "metadata": {},
   "outputs": [
    {
     "name": "stdout",
     "output_type": "stream",
     "text": [
      "{\n",
      "    \"title\": \"let us C\",\n",
      "    \"author\": \"idr\",\n",
      "    \"year\": 2000,\n",
      "    \"genre\": \"programming\"\n",
      "}\n"
     ]
    }
   ],
   "source": [
    "import json\n",
    "dj = dict(zip(('title', 'author', 'year', 'genre' ) , ('let us C', 'idr', 2000, 'programming')))\n",
    "jstr = json.dumps(dj, indent=4)\n",
    "print(jstr)"
   ]
  }
 ],
 "metadata": {
  "kernelspec": {
   "display_name": "Python 3",
   "language": "python",
   "name": "python3"
  },
  "language_info": {
   "codemirror_mode": {
    "name": "ipython",
    "version": 3
   },
   "file_extension": ".py",
   "mimetype": "text/x-python",
   "name": "python",
   "nbconvert_exporter": "python",
   "pygments_lexer": "ipython3",
   "version": "3.12.7"
  }
 },
 "nbformat": 4,
 "nbformat_minor": 5
}
