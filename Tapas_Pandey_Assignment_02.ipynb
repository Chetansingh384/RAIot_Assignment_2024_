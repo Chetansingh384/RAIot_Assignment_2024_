{
 "cells": [
  {
   "cell_type": "markdown",
   "id": "df93a6c3",
   "metadata": {},
   "source": [
    "# Module 2: Control Flow Assignments\n",
    "## Lesson 2.1: Conditional Statements\n",
    "### Assignment 1: Simple if Statement\n",
    "\n",
    "Write a program that asks the user to input a number and prints whether the number is positive.\n",
    "\n",
    "### Assignment 2: if-else Statement\n",
    "\n",
    "Write a program that asks the user to input a number and prints whether the number is positive or negative.\n",
    "\n",
    "### Assignment 3: if-elif-else Statement\n",
    "\n",
    "Write a program that asks the user to input a number and prints whether the number is positive, negative, or zero.\n",
    "\n",
    "### Assignment 4: Nested if Statement\n",
    "\n",
    "Write a program that asks the user to input a number and prints whether the number is positive and even, positive and odd, or negative.\n",
    "\n",
    "## Lesson 2.2: Loops\n",
    "### Assignment 5: for Loop\n",
    "\n",
    "Write a program that prints all the numbers from 1 to 10 using a for loop.\n",
    "\n",
    "### Assignment 6: while Loop\n",
    "\n",
    "Write a program that prints all the numbers from 1 to 10 using a while loop.\n",
    "\n",
    "### Assignment 7: Nested Loops\n",
    "\n",
    "Write a program that prints a 5x5 grid of asterisks (*) using nested loops.\n",
    "\n",
    "### Assignment 8: break Statement\n",
    "\n",
    "Write a program that asks the user to input numbers until they input 0. The program should print the sum of all the input numbers.\n",
    "\n",
    "### Assignment 9: continue Statement\n",
    "\n",
    "Write a program that prints all the numbers from 1 to 10 except 5 using a for loop and continue statement.\n",
    "\n",
    "### Assignment 10: pass Statement\n",
    "\n",
    "Write a program that defines an empty function using the pass statement.\n",
    "\n",
    "### Assignment 11: Combining Loops and Conditionals\n",
    "\n",
    "Write a program that asks the user to input a number and prints all the even numbers from 1 to that number using a for loop.\n",
    "\n",
    "### Assignment 12: Factorial Calculation\n",
    "\n",
    "Write a program that calculates the factorial of a number input by the user using a while loop.\n",
    "\n",
    "### Assignment 13: Sum of Digits\n",
    "\n",
    "Write a program that calculates the sum of the digits of a number input by the user using a while loop.\n",
    "\n",
    "### Assignment 14: Prime Number Check\n",
    "\n",
    "Write a program that checks if a number input by the user is a prime number using a for loop.\n",
    "\n",
    "### Assignment 15: Fibonacci Sequence\n",
    "\n",
    "Write a program that prints the first n Fibonacci numbers, where n is input by the user."
   ]
  },
  {
   "cell_type": "code",
   "execution_count": null,
   "metadata": {},
   "outputs": [],
   "source": [
    "number = float(input(\"Enter a number: \"))\n",
    "if number > 0:\n",
    "  print(\"The number is positive.\")\n"
   ]
  },
  {
   "cell_type": "code",
   "execution_count": null,
   "id": "cb255160",
   "metadata": {},
   "outputs": [],
   "source": [
    "number = float(input(\"Enter a number: \"))\n",
    "if number > 0:\n",
    "  print(\"The number is positive.\")\n",
    "else:\n",
    "  print(\"The number is negative.\")"
   ]
  },
  {
   "cell_type": "code",
   "execution_count": null,
   "id": "a592be80",
   "metadata": {},
   "outputs": [],
   "source": [
    "number = float(input(\"Enter a number: \")) \n",
    "if number > 0:\n",
    "  print(\"The number is positive.\")\n",
    "elif number == 0:\n",
    "  print(\"The number is zero.\")\n",
    "else:\n",
    "  print(\"The number is negative.\")"
   ]
  },
  {
   "cell_type": "code",
   "execution_count": null,
   "id": "beeff6cb",
   "metadata": {},
   "outputs": [],
   "source": [
    "number = float(input(\"Enter a number: \"))\n",
    "if number > 0:\n",
    "  if number % 2 == 0:\n",
    "    print(\"The number is positive and even.\")\n",
    "  else:\n",
    "    print(\"The number is positive and odd.\")\n",
    "else:\n",
    "  print(\"The number is negative.\")"
   ]
  },
  {
   "cell_type": "code",
   "execution_count": null,
   "id": "3033050d",
   "metadata": {},
   "outputs": [],
   "source": [
    "for i in range(1, 11):\n",
    "  print(i)"
   ]
  },
  {
   "cell_type": "code",
   "execution_count": null,
   "id": "bb7f8a7a",
   "metadata": {},
   "outputs": [],
   "source": [
    "while i < 11:\n",
    "  print(i)\n",
    "  i += 1"
   ]
  },
  {
   "cell_type": "code",
   "execution_count": null,
   "id": "d1a11a36",
   "metadata": {},
   "outputs": [],
   "source": [
    "for i in range(5):\n",
    "  for j in range(5):\n",
    "    print('*', end=' ')\n",
    "  print()"
   ]
  },
  {
   "cell_type": "code",
   "execution_count": null,
   "id": "bec1baf0",
   "metadata": {},
   "outputs": [],
   "source": [
    "total = 0\n",
    "while True:\n",
    "  number = float(input(\"Enter a number (0 to stop): \"))\n",
    "  if number == 0:\n",
    "    break\n",
    "  total += number\n",
    "print(\"The sum of all the input numbers is:\", total)"
   ]
  },
  {
   "cell_type": "code",
   "execution_count": 1,
   "id": "0c71c87c",
   "metadata": {},
   "outputs": [
    {
     "name": "stdout",
     "output_type": "stream",
     "text": [
      "1\n",
      "2\n",
      "3\n",
      "4\n",
      "6\n",
      "7\n",
      "8\n",
      "9\n",
      "10\n"
     ]
    }
   ],
   "source": [
    "for i in range(1, 11):\n",
    "  if i == 5:\n",
    "    continue\n",
    "  print(i)"
   ]
  },
  {
   "cell_type": "code",
   "execution_count": null,
   "id": "cb273155",
   "metadata": {},
   "outputs": [],
   "source": [
    "def ef():\n",
    "  pass"
   ]
  },
  {
   "cell_type": "code",
   "execution_count": null,
   "id": "939340f6",
   "metadata": {},
   "outputs": [],
   "source": [
    "number = int(input(\"Enter a number: \"))\n",
    "for i in range(1, number + 1):\n",
    "  if i % 2 == 0:\n",
    "    print(i)"
   ]
  },
  {
   "cell_type": "code",
   "execution_count": null,
   "id": "a771dacc",
   "metadata": {},
   "outputs": [],
   "source": [
    "number = int(input(\"Enter a number: \"))\n",
    "factorial = 1\n",
    "i = 1\n",
    "\n",
    "while i <= number:\n",
    "  factorial *= i\n",
    "  i += 1\n",
    "\n",
    "print(\"The factorial of\", number, \"is\", factorial)"
   ]
  },
  {
   "cell_type": "code",
   "execution_count": null,
   "id": "fc752815",
   "metadata": {},
   "outputs": [],
   "source": [
    "num = int(input(\"Enter a number: \"))\n",
    "sum = 0\n",
    "\n",
    "while number > 0:\n",
    "  digit = num % 10\n",
    "  sum += digit\n",
    "  num = num // 10\n",
    "\n",
    "print(\"The sum of the digits is:\", sum)"
   ]
  },
  {
   "cell_type": "code",
   "execution_count": null,
   "id": "9119643f",
   "metadata": {},
   "outputs": [],
   "source": [
    "num = int(input(\"Enter a number: \"))\n",
    "if num > 1:\n",
    "  for i in range(2, num):\n",
    "    if (num % i) == 0:\n",
    "      print(num, \"is not a prime number\")\n",
    "      break\n",
    "  else:\n",
    "    print(num, \"is a prime number\")\n",
    "else:\n",
    "  print(num, \"is not a prime number\")"
   ]
  },
  {
   "cell_type": "code",
   "execution_count": null,
   "id": "7b8d9373",
   "metadata": {},
   "outputs": [],
   "source": [
    "n = int(input(\"Enter the number of Fibonacci numbers to print: \"))\n",
    "a, b = 0, 1\n",
    "for _ in range(n):\n",
    "  print(a, end=' ')\n",
    "  a, b = b, a + b"
   ]
  }
 ],
 "metadata": {
  "kernelspec": {
   "display_name": "Python 3",
   "language": "python",
   "name": "python3"
  },
  "language_info": {
   "codemirror_mode": {
    "name": "ipython",
    "version": 3
   },
   "file_extension": ".py",
   "mimetype": "text/x-python",
   "name": "python",
   "nbconvert_exporter": "python",
   "pygments_lexer": "ipython3",
   "version": "3.12.7"
  }
 },
 "nbformat": 4,
 "nbformat_minor": 5
}
