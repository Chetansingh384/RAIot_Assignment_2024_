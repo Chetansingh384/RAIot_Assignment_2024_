{
 "cells": [
  {
   "cell_type": "markdown",
   "id": "b34b2801",
   "metadata": {},
   "source": []
  },
  {
   "cell_type": "markdown",
   "id": "201c7b15",
   "metadata": {},
   "source": [
    "# Module 2: Control Flow Assignments\n",
    "\n",
    "\n"
   ]
  },
  {
   "cell_type": "code",
   "execution_count": null,
   "id": "68361d7f",
   "metadata": {},
   "outputs": [],
   "source": [
    "[Assignment 1.]\n",
    "\n",
    "a=int(input(\"Enter number\"))\n",
    "if a<0:\n",
    "    print(\"Number is not positive\")\n",
    "if a==0:\n",
    "    print(\"Number is not positive\")\n",
    "if a>0:\n",
    "    print(\"Number is Positive\")"
   ]
  },
  {
   "cell_type": "code",
   "execution_count": null,
   "id": "0e3a2274",
   "metadata": {},
   "outputs": [],
   "source": [
    "[Assignment 2.]\n",
    "\n",
    "a=int(input(\"Enter number\"))\n",
    "if a<0:\n",
    "    print(\"Number is Negative\")\n",
    "else:\n",
    "    print(\"Number is Positive\")"
   ]
  },
  {
   "cell_type": "code",
   "execution_count": null,
   "id": "af307975",
   "metadata": {},
   "outputs": [],
   "source": [
    "[Assignment 3.]\n",
    "\n",
    "a=int(input(\"Enter number\"))\n",
    "if a<0:\n",
    "    print(\"Number is Negative\")\n",
    "\n",
    "elif a>0:\n",
    "    print(\"Number is Positive\")\n",
    "\n",
    "else:\n",
    "    print(\"Number is Zero\")"
   ]
  },
  {
   "cell_type": "code",
   "execution_count": null,
   "id": "5364641d",
   "metadata": {},
   "outputs": [],
   "source": [
    "[Assignment 4.]\n",
    "\n",
    "a = int(input(\"Enter a number:\"))\n",
    "if a > 0:\n",
    "    if a % 2 == 0:\n",
    "        print(\"The number is positive and even.\")\n",
    "    else:\n",
    "        print(\"The number is positive and odd.\")\n",
    "else:\n",
    "    print(\"Number is negative.\")"
   ]
  },
  {
   "cell_type": "code",
   "execution_count": null,
   "id": "1bdc9e56",
   "metadata": {},
   "outputs": [],
   "source": [
    "[Assignment 5.]\n",
    "\n",
    "my_list = range(0,11)\n",
    "for i in my_list:\n",
    "    print (i)"
   ]
  },
  {
   "cell_type": "code",
   "execution_count": null,
   "id": "38534fa9",
   "metadata": {},
   "outputs": [],
   "source": [
    "[Assignment 6.]\n",
    "\n",
    "a = 1\n",
    "while a <= 10:\n",
    "    print(a)\n",
    "    a += 1"
   ]
  },
  {
   "cell_type": "code",
   "execution_count": null,
   "id": "7ea9c9c1",
   "metadata": {},
   "outputs": [],
   "source": [
    "[Assignment 7.]\n",
    "\n",
    "a = 5\n",
    "b = 5\n",
    "for i in range(a):\n",
    "    for j in range(b):\n",
    "        print(\"*\",end=\"\")\n",
    "    print()"
   ]
  },
  {
   "cell_type": "code",
   "execution_count": null,
   "id": "f3dd3be3",
   "metadata": {},
   "outputs": [],
   "source": [
    "[Assignment 8.]\n",
    "\n",
    "a=0\n",
    "while True :\n",
    "    n=int(input(\"Enter a number( or enter 0 to stop):\"))\n",
    "    if n == 0:\n",
    "        break\n",
    "    a+=n\n",
    "print(\"The sum of all numbers is:\",s)"
   ]
  },
  {
   "cell_type": "code",
   "execution_count": null,
   "id": "90e07e72",
   "metadata": {},
   "outputs": [],
   "source": [
    "[Assignment 9.]\n",
    "\n",
    "for i in range(1,11):\n",
    "    if i==5:\n",
    "        continue\n",
    "    print(i)"
   ]
  },
  {
   "cell_type": "code",
   "execution_count": null,
   "id": "dffe82bb",
   "metadata": {},
   "outputs": [],
   "source": [
    "[Assignment 10.]\n",
    "\n",
    "def emt_fun():\n",
    "    pass\n",
    "emt_fun()"
   ]
  },
  {
   "cell_type": "code",
   "execution_count": null,
   "id": "1ffd947d",
   "metadata": {},
   "outputs": [],
   "source": [
    "[Assignment 11.]\n",
    "\n",
    "n=int(input(\"Enter a number : \"))\n",
    "print(f\"Even numbers from 1 to n are:  \")\n",
    "for i in range(1,n+1):\n",
    "    if i%2==0:\n",
    "        print(i)"
   ]
  },
  {
   "cell_type": "code",
   "execution_count": null,
   "id": "bde2059f",
   "metadata": {},
   "outputs": [],
   "source": [
    "[Assignment 12.]\n",
    "\n",
    "n=int(input(\"enter a number :\" ))\n",
    "fac=1\n",
    "while n>1:\n",
    "    fac=fac*n\n",
    "    n-=1\n",
    "print(fac)"
   ]
  },
  {
   "cell_type": "code",
   "execution_count": null,
   "id": "5aaa5ac7",
   "metadata": {},
   "outputs": [],
   "source": [
    "[Assignment 13.]\n",
    "\n",
    "n=int(input(\"Enter a number : \"))\n",
    "a=n\n",
    "s=0\n",
    "while n>0:\n",
    "    d=n%10\n",
    "    s+=d\n",
    "    n=n//10\n",
    "print(f\"The sum of the digits of {a} is {s}\")"
   ]
  },
  {
   "cell_type": "code",
   "execution_count": null,
   "id": "5b3d63e5",
   "metadata": {},
   "outputs": [],
   "source": [
    "[Assignment 14.]\n",
    "\n",
    "n=int(input(\"Enter number:\"))\n",
    "a=0\n",
    "for i in range(2,n):\n",
    "    if n%i==0:\n",
    "        a+=1\n",
    "if a==0:\n",
    "    print(f'n is prime number')\n",
    "else:\n",
    "    print(f'n is not prime number')"
   ]
  },
  {
   "cell_type": "code",
   "execution_count": null,
   "id": "b8322b44",
   "metadata": {},
   "outputs": [],
   "source": [
    "[Assignment 15.]\n",
    "\n",
    "n=int(input(\"Enter a number:\"))\n",
    "f1=0\n",
    "f2=1\n",
    "print(f\"Fibonacci series upto {n} numbers : \")\n",
    "for i in range(n):\n",
    "    print(f1, end=\", \")\n",
    "    f1,f2 = f2,f1 + f2"
   ]
  }
 ],
 "metadata": {
  "kernelspec": {
   "display_name": "Python 3",
   "language": "python",
   "name": "python3"
  },
  "language_info": {
   "codemirror_mode": {
    "name": "ipython",
    "version": 3
   },
   "file_extension": ".py",
   "mimetype": "text/x-python",
   "name": "python",
   "nbconvert_exporter": "python",
   "pygments_lexer": "ipython3",
   "version": "3.9.7"
  }
 },
 "nbformat": 4,
 "nbformat_minor": 5
}
