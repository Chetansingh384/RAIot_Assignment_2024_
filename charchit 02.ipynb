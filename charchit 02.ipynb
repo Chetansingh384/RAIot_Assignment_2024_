{
 "cells": [
  {
   "cell_type": "markdown",
   "id": "695ee141",
   "metadata": {},
   "source": [
    "# Module 2: Control Flow Assignments\n",
    "## Lesson 2.1: Conditional Statements\n",
    "### Assignment 1: Simple if Statement\n",
    "\n",
    "Write a program that asks the user to input a number and prints whether the number is positive.\n",
    "\n",
    "### Assignment 2: if-else Statement\n",
    "\n",
    "Write a program that asks the user to input a number and prints whether the number is positive or negative.\n",
    "\n",
    "### Assignment 3: if-elif-else Statement\n",
    "\n",
    "Write a program that asks the user to input a number and prints whether the number is positive, negative, or zero.\n",
    "\n",
    "### Assignment 4: Nested if Statement\n",
    "\n",
    "Write a program that asks the user to input a number and prints whether the number is positive and even, positive and odd, or negative.\n",
    "\n",
    "## Lesson 2.2: Loops\n",
    "### Assignment 5: for Loop\n",
    "\n",
    "Write a program that prints all the numbers from 1 to 10 using a for loop.\n",
    "\n",
    "### Assignment 6: while Loop\n",
    "\n",
    "Write a program that prints all the numbers from 1 to 10 using a while loop.\n",
    "\n",
    "### Assignment 7: Nested Loops\n",
    "\n",
    "Write a program that prints a 5x5 grid of asterisks (*) using nested loops.\n",
    "\n",
    "### Assignment 8: break Statement\n",
    "\n",
    "Write a program that asks the user to input numbers until they input 0. The program should print the sum of all the input numbers.\n",
    "\n",
    "### Assignment 9: continue Statement\n",
    "\n",
    "Write a program that prints all the numbers from 1 to 10 except 5 using a for loop and continue statement.\n",
    "\n",
    "### Assignment 10: pass Statement\n",
    "\n",
    "Write a program that defines an empty function using the pass statement.\n",
    "\n",
    "### Assignment 11: Combining Loops and Conditionals\n",
    "\n",
    "Write a program that asks the user to input a number and prints all the even numbers from 1 to that number using a for loop.\n",
    "\n",
    "### Assignment 12: Factorial Calculation\n",
    "\n",
    "Write a program that calculates the factorial of a number input by the user using a while loop.\n",
    "\n",
    "### Assignment 13: Sum of Digits\n",
    "\n",
    "Write a program that calculates the sum of the digits of a number input by the user using a while loop.\n",
    "\n",
    "### Assignment 14: Prime Number Check\n",
    "\n",
    "Write a program that checks if a number input by the user is a prime number using a for loop.\n",
    "\n",
    "### Assignment 15: Fibonacci Sequence\n",
    "\n",
    "Write a program that prints the first n Fibonacci numbers, where n is input by the user."
   ]
  },
  {
   "cell_type": "code",
   "execution_count": null,
   "id": "7430c3e7",
   "metadata": {},
   "outputs": [],
   "source": [
    "number = float(input(\"enter a number:\"))\n",
    "if number > 0:\n",
    "\n",
    "  print(\"the number is positive.\") \n",
    "elif number == 0:\n",
    " print(\"the number is zero, not positive or negative\")\n",
    "else:\n",
    "  print(\"the number is negative\")\n",
    "\n",
    " "
   ]
  },
  {
   "cell_type": "code",
   "execution_count": null,
   "id": "22a67e6b",
   "metadata": {},
   "outputs": [],
   "source": [
    "number = float(input(\"enter a number:\"))\n",
    "if number > 0:\n",
    "    print(\"the number is positive.\")\n",
    "elif number < 0:\n",
    "    print(\"the number is negative.\")\n",
    "else:\n",
    "    print(\"the number is zero.\")    "
   ]
  },
  {
   "cell_type": "code",
   "execution_count": null,
   "id": "5eec0444",
   "metadata": {},
   "outputs": [],
   "source": [
    "number = int(input(\"enter a number:\"))\n",
    "if number > 0:\n",
    "    if number % 2 == 0:\n",
    "        print(\"the number is positive and even.\")\n",
    "    else:\n",
    "        print(\"the number is positive and odd.\")\n",
    "    elif number < 0:\n",
    "    print(\"the number is negative.\")\n",
    "else:\n",
    "  print(\"the number is zero, which is neither positive nor negative.\")"
   ]
  },
  {
   "cell_type": "code",
   "execution_count": null,
   "id": "fdac9e95",
   "metadata": {},
   "outputs": [],
   "source": [
    "for numbers in range(1, 11):\n",
    "    print(number)"
   ]
  },
  {
   "cell_type": "code",
   "execution_count": null,
   "id": "ed230fcf",
   "metadata": {},
   "outputs": [],
   "source": [
    "number = 1 \n",
    "while number <=10:\n",
    "    print(numbers)\n",
    "    number += 1"
   ]
  },
  {
   "cell_type": "code",
   "execution_count": null,
   "id": "8f4995d9",
   "metadata": {},
   "outputs": [],
   "source": []
  },
  {
   "cell_type": "code",
   "execution_count": null,
   "id": "6f5198b9",
   "metadata": {},
   "outputs": [],
   "source": [
    "\n",
    "total = 0\n",
    "\n",
    "while True:\n",
    "    number = int(input(\"Enter a number (0 to stop): \"))\n",
    "    if number == 0:\n",
    "        break  \n",
    "    total += number  \n",
    "\n",
    "print(\"The sum of all numbers is:\", total)\n"
   ]
  },
  {
   "cell_type": "code",
   "execution_count": null,
   "id": "8f22c9b2",
   "metadata": {},
   "outputs": [],
   "source": [
    "def empty_function():\n",
    "    pass\n",
    "empty_function()"
   ]
  },
  {
   "cell_type": "code",
   "execution_count": null,
   "id": "d4411511",
   "metadata": {},
   "outputs": [],
   "source": [
    "\n",
    "number = int(input(\"Enter a number: \"))\n",
    "\n",
    "\n",
    "sum_digits = 0\n",
    "\n",
    "\n",
    "while number > 0:\n",
    "    digit = number % 10  \n",
    "    sum_digits += digit  \n",
    "    number //= 10  \n",
    "\n",
    "\n",
    "print(\"The sum of the digits is:\", sum_digits)\n"
   ]
  },
  {
   "cell_type": "code",
   "execution_count": null,
   "id": "d2c4b9aa",
   "metadata": {},
   "outputs": [],
   "source": [
    "\n",
    "number = int(input(\"Enter a number: \")\n",
    "is_prime = True\n",
    "\n",
    "if number < 2:\n",
    "    is_prime = False\n",
    "else:\n",
    "    \n",
    "    for i in range(2, int(number ** 0.5) + 1):\n",
    "        if number % i == 0:  \n",
    "            is_prime = False\n",
    "            break  \n",
    "\n",
    "\n",
    "if is_prime:\n",
    "    print(f\"{number} is a prime number.\")\n",
    "else:\n",
    "    print(f\"{number} is not a prime number.\")\n"
   ]
  },
  {
   "cell_type": "code",
   "execution_count": null,
   "id": "5307dc6e",
   "metadata": {},
   "outputs": [],
   "source": [
    "\n",
    "n = int(input(\"Enter the number of Fibonacci numbers to display: \"))\n",
    "\n",
    "a, b = 0, \n",
    "print(\"The first\", n, \"Fibonacci numbers are:\")\n",
    "for _ in range(n):\n",
    "    print(a, end=\" \")\n",
    "    a, b = b, a + b  \n"
   ]
  },
  {
   "cell_type": "code",
   "execution_count": null,
   "id": "31b25b2c",
   "metadata": {},
   "outputs": [],
   "source": []
  }
 ],
 "metadata": {
  "kernelspec": {
   "display_name": "Python 3",
   "language": "python",
   "name": "python3"
  },
  "language_info": {
   "codemirror_mode": {
    "name": "ipython",
    "version": 3
   },
   "file_extension": ".py",
   "mimetype": "text/x-python",
   "name": "python",
   "nbconvert_exporter": "python",
   "pygments_lexer": "ipython3",
   "version": "3.12.6"
  }
 },
 "nbformat": 4,
 "nbformat_minor": 5
}
