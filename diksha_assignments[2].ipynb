{
 "cells": [
  {
   "cell_type": "code",
   "execution_count": null,
   "id": "09bba25b",
   "metadata": {},
   "outputs": [
    {
     "name": "stdout",
     "output_type": "stream",
     "text": [
      "enter the number: 5\n",
      "5 is positive number\n"
     ]
    }
   ],
   "source": [
    "a=int(input(\"enter the number:\"))\n",
    "print(\"enter the number:\",a)\n",
    "if a>0:\n",
    "    print(a,\"is positive number\")\n",
    "else:\n",
    "    print(a,\"is negative number\")"
   ]
  },
  {
   "cell_type": "code",
   "execution_count": 5,
   "id": "ad995a46",
   "metadata": {},
   "outputs": [
    {
     "name": "stdout",
     "output_type": "stream",
     "text": [
      "enter the number: -1\n",
      "-1 is negative number\n"
     ]
    }
   ],
   "source": [
    "a=int(input(\"enter the number:\"))\n",
    "print(\"enter the number:\",a)\n",
    "if a>0:\n",
    "    print(a,\"is positive number\")\n",
    "else:\n",
    "    print(a,\"is negative number\")"
   ]
  },
  {
   "cell_type": "code",
   "execution_count": 6,
   "id": "4818e5b6",
   "metadata": {},
   "outputs": [
    {
     "name": "stdout",
     "output_type": "stream",
     "text": [
      "enter the number: 0\n",
      "0 is a zero number\n"
     ]
    }
   ],
   "source": [
    "a=int(input(\"enter the number:\"))\n",
    "print(\"enter the number:\",a)\n",
    "if a>0:\n",
    "    print(a,\"is positive number\")\n",
    "elif a==0:\n",
    "    print(a,\"is a zero number\")\n",
    "else:\n",
    "    print(a,\"is negative number\")"
   ]
  },
  {
   "cell_type": "code",
   "execution_count": 7,
   "id": "49ac4cc7",
   "metadata": {},
   "outputs": [
    {
     "name": "stdout",
     "output_type": "stream",
     "text": [
      "enter the number: -2\n",
      "-2 is negative number\n",
      "-2 is also a even number\n"
     ]
    }
   ],
   "source": [
    "a=int(input(\"enter the number:\"))\n",
    "print(\"enter the number:\",a)\n",
    "if a>0:\n",
    "    print(a,\"is positive number\")\n",
    "    if a%2==0:\n",
    "        print(a,\"is also a even number\")\n",
    "    else:\n",
    "        print(a,\"is also a odd number\")\n",
    "elif a<0:\n",
    "    print(a,\"is negative number\")\n",
    "    if a%2==0:\n",
    "        print(a,\"is also a even number\")\n",
    "    else:\n",
    "        print(a,\"is also a odd number\")\n",
    "else:\n",
    "    print(a,\"is a zero number\")"
   ]
  },
  {
   "cell_type": "code",
   "execution_count": 9,
   "id": "3c09bf85",
   "metadata": {},
   "outputs": [
    {
     "name": "stdout",
     "output_type": "stream",
     "text": [
      "1\n",
      "2\n",
      "3\n",
      "4\n",
      "5\n",
      "6\n",
      "7\n",
      "8\n",
      "9\n",
      "10\n"
     ]
    }
   ],
   "source": [
    "a=1\n",
    "for i in range(10):\n",
    "    i=a\n",
    "    a+=1\n",
    "    print(i)\n"
   ]
  },
  {
   "cell_type": "code",
   "execution_count": 18,
   "id": "533d9538",
   "metadata": {},
   "outputs": [
    {
     "name": "stdout",
     "output_type": "stream",
     "text": [
      "1\n",
      "2\n",
      "3\n",
      "4\n",
      "5\n",
      "6\n",
      "7\n",
      "8\n",
      "9\n",
      "10\n"
     ]
    }
   ],
   "source": [
    "a=1\n",
    "while i<=9:\n",
    "    i=a\n",
    "    print(i)\n",
    "    a+=1"
   ]
  },
  {
   "cell_type": "code",
   "execution_count": 21,
   "id": "e045eaa8",
   "metadata": {},
   "outputs": [
    {
     "name": "stdout",
     "output_type": "stream",
     "text": [
      "* * * * * \n",
      "* * * * * \n",
      "* * * * * \n",
      "* * * * * \n",
      "* * * * * \n"
     ]
    }
   ],
   "source": [
    "a=5\n",
    "b=5\n",
    "for i in range(a):\n",
    "    for j in range(b):\n",
    "        print(\"*\",end=\" \")\n",
    "    print()"
   ]
  },
  {
   "cell_type": "code",
   "execution_count": 23,
   "id": "327797b0",
   "metadata": {},
   "outputs": [
    {
     "name": "stdout",
     "output_type": "stream",
     "text": [
      "The sum of all numbers is: 19\n"
     ]
    }
   ],
   "source": [
    "a=0\n",
    "while True :\n",
    "    n=int(input(\"Enter a number( enter 0 to stop):\"))\n",
    "    if n == 0:\n",
    "        break\n",
    "    a+=n\n",
    "print(\"The sum of all numbers is:\",a)"
   ]
  },
  {
   "cell_type": "code",
   "execution_count": 36,
   "id": "fd20ef1f",
   "metadata": {},
   "outputs": [
    {
     "name": "stdout",
     "output_type": "stream",
     "text": [
      "1\n",
      "2\n",
      "3\n",
      "4\n",
      "6\n",
      "7\n",
      "8\n",
      "9\n",
      "10\n"
     ]
    }
   ],
   "source": [
    "\n",
    "for i in range(1,11):\n",
    "    i==1\n",
    "    if i==5:\n",
    "        continue\n",
    "    print(i)\n",
    "    i+=1"
   ]
  },
  {
   "cell_type": "code",
   "execution_count": 37,
   "id": "fb35428d",
   "metadata": {},
   "outputs": [],
   "source": [
    "def emt_fun():\n",
    "    pass\n",
    "emt_fun()"
   ]
  },
  {
   "cell_type": "code",
   "execution_count": 54,
   "id": "15e6022d",
   "metadata": {},
   "outputs": [
    {
     "name": "stdout",
     "output_type": "stream",
     "text": [
      "2\n",
      "4\n",
      "6\n",
      "sum of numbers is: 12\n"
     ]
    }
   ],
   "source": [
    "a=int(input(\"enter the number\"))\n",
    "s=0\n",
    "for i in range(1,a+1):\n",
    "    if i%2==0:\n",
    "        print(i)\n",
    "        s=s+i\n",
    "        i+=1\n",
    "print(\"sum of numbers is:\",s)"
   ]
  },
  {
   "cell_type": "code",
   "execution_count": 55,
   "id": "f1c11e3c",
   "metadata": {},
   "outputs": [
    {
     "name": "stdout",
     "output_type": "stream",
     "text": [
      "120\n"
     ]
    }
   ],
   "source": [
    "n=int(input(\"enter a number :\" ))\n",
    "fac=1\n",
    "while n>1:\n",
    "    fac=fac*n\n",
    "    n-=1\n",
    "print(fac)"
   ]
  },
  {
   "cell_type": "code",
   "execution_count": 60,
   "id": "c740da0e",
   "metadata": {},
   "outputs": [
    {
     "name": "stdout",
     "output_type": "stream",
     "text": [
      "The sum of the digits of 454 is 13\n"
     ]
    }
   ],
   "source": [
    "n=int(input(\"Enter a number : \"))\n",
    "n1=n\n",
    "s=0\n",
    "while n>0:\n",
    "    d=n%10\n",
    "    s+=d\n",
    "    n=n//10\n",
    "print(f\"The sum of the digits of {n1} is {s}\")"
   ]
  },
  {
   "cell_type": "code",
   "execution_count": 62,
   "id": "72621aca",
   "metadata": {},
   "outputs": [
    {
     "name": "stdout",
     "output_type": "stream",
     "text": [
      "6 is not prime number\n"
     ]
    }
   ],
   "source": [
    "n=int(input(\"Enter number:\"))\n",
    "c=0\n",
    "for i in range(2,n):\n",
    "    if n%i==0:\n",
    "        c+=1\n",
    "if c==0:\n",
    "    print(f\"{n} is prime number\")\n",
    "else:\n",
    "    print(f\"{n} is not prime number\")"
   ]
  },
  {
   "cell_type": "code",
   "execution_count": 1,
   "id": "b05e253f",
   "metadata": {},
   "outputs": [
    {
     "name": "stdout",
     "output_type": "stream",
     "text": [
      "Fibonacci series upto 5 numbers : \n",
      "0, 1, 1, 2, 3, "
     ]
    }
   ],
   "source": [
    "n=int(input(\"Enter a number:\"))\n",
    "f1=0\n",
    "f2=1\n",
    "print(f\"Fibonacci series upto {n} numbers : \")\n",
    "for i in range(n):\n",
    "    print(f1, end=\", \")\n",
    "    f1,f2 = f2,f1 + f2"
   ]
  },
  {
   "cell_type": "code",
   "execution_count": null,
   "id": "d0de3f98",
   "metadata": {},
   "outputs": [],
   "source": []
  }
 ],
 "metadata": {
  "kernelspec": {
   "display_name": "Python 3",
   "language": "python",
   "name": "python3"
  },
  "language_info": {
   "codemirror_mode": {
    "name": "ipython",
    "version": 3
   },
   "file_extension": ".py",
   "mimetype": "text/x-python",
   "name": "python",
   "nbconvert_exporter": "python",
   "pygments_lexer": "ipython3",
   "version": "3.11.1"
  }
 },
 "nbformat": 4,
 "nbformat_minor": 5
}
