{
 "cells": [
  {
   "cell_type": "markdown",
   "metadata": {},
   "source": [
    "# Module 2: Control Flow Assignments\n",
    "## Lesson 2.1: Conditional Statements\n",
    "### Assignment 1: Simple if Statement\n",
    "\n",
    "Write a program that asks the user to input a number and prints whether the number is positive.\n"
   ]
  },
  {
   "cell_type": "code",
   "execution_count": null,
   "id": "416f8c1a",
   "metadata": {},
   "outputs": [],
   "source": [
    "n=int(input(\"Enter a number : \"))\n",
    "if n>0:\n",
    "    print(\"number is positive\")"
   ]
  },
  {
   "cell_type": "markdown",
   "id": "03a8fb21",
   "metadata": {},
   "source": [
    "\n",
    "### Assignment 2: if-else Statement\n",
    "\n",
    "Write a program that asks the user to input a number and prints whether the number is positive or negative.\n"
   ]
  },
  {
   "cell_type": "code",
   "execution_count": null,
   "id": "fdc96966",
   "metadata": {},
   "outputs": [],
   "source": [
    "n=int(input(\"Enter a number(except zero) : \"))\n",
    "if n>0:\n",
    "    print(\"number is positive\")\n",
    "else:\n",
    "    print(\"number is negative\")"
   ]
  },
  {
   "cell_type": "markdown",
   "id": "3b0ecdda",
   "metadata": {},
   "source": []
  },
  {
   "cell_type": "markdown",
   "id": "5eef201c",
   "metadata": {},
   "source": [
    "\n",
    "\n",
    "### Assignment 3: if-elif-else Statement\n",
    "\n",
    "Write a program that asks the user to input a number and prints whether the number is positive, negative, or zero.\n"
   ]
  },
  {
   "cell_type": "code",
   "execution_count": null,
   "id": "b09063f0",
   "metadata": {},
   "outputs": [],
   "source": [
    "n=int(input(\"Enter a number : \"))\n",
    "if n>0:\n",
    "    print(\"number is positive\")\n",
    "elif n<0:\n",
    "    print(\"number is negative\")\n",
    "else:\n",
    "    print(\"number is zero\")"
   ]
  },
  {
   "cell_type": "markdown",
   "id": "fad39848",
   "metadata": {},
   "source": [
    "\n",
    "\n",
    "### Assignment 4: Nested if Statement\n",
    "\n",
    "Write a program that asks the user to input a number and prints whether the number is positive and even, positive and odd, or negative.\n"
   ]
  },
  {
   "cell_type": "code",
   "execution_count": null,
   "id": "803ecf33",
   "metadata": {},
   "outputs": [],
   "source": [
    "n=int(input(\"Enter a number(except zero) : \"))\n",
    "if n>0:\n",
    "    if n%2==0:\n",
    "        print(\"number is even and positive\")\n",
    "    else:\n",
    "        print(\"number is odd and negative\")\n",
    "else:\n",
    "    print(\"number is negative.\")"
   ]
  },
  {
   "cell_type": "markdown",
   "id": "da5b0119",
   "metadata": {},
   "source": [
    "\n",
    "## Lesson 2.2: Loops\n",
    "### Assignment 5: for Loop\n",
    "\n",
    "Write a program that prints all the numbers from 1 to 10 using a for loop.\n"
   ]
  },
  {
   "cell_type": "code",
   "execution_count": null,
   "id": "49805ad5",
   "metadata": {},
   "outputs": [],
   "source": [
    "for i in range(1,11):\n",
    "    print(i,end=\", \")"
   ]
  },
  {
   "cell_type": "markdown",
   "id": "0439eba0",
   "metadata": {},
   "source": [
    "\n",
    "\n",
    "### Assignment 6: while Loop\n",
    "\n",
    "Write a program that prints all the numbers from 1 to 10 using a while loop.\n"
   ]
  },
  {
   "cell_type": "code",
   "execution_count": null,
   "id": "f02ee46b",
   "metadata": {},
   "outputs": [],
   "source": [
    "i=1\n",
    "while( i <= 10):\n",
    "    print(i,end=\", \")\n",
    "    i+=1"
   ]
  },
  {
   "cell_type": "markdown",
   "id": "fb9ca88f",
   "metadata": {},
   "source": [
    "\n",
    "### Assignment 7: Nested Loops\n",
    "\n",
    "Write a program that prints a 5x5 grid of asterisks (*) using nested loops.\n"
   ]
  },
  {
   "cell_type": "code",
   "execution_count": null,
   "id": "80080a09",
   "metadata": {},
   "outputs": [],
   "source": [
    "r=5\n",
    "c=5\n",
    "for i in range(r):\n",
    "    for j in range(c):\n",
    "        print(\"*\",end=\"\")\n",
    "    print()"
   ]
  },
  {
   "cell_type": "markdown",
   "id": "f345530c",
   "metadata": {},
   "source": [
    "\n",
    "\n",
    "### Assignment 8: break Statement\n",
    "\n",
    "Write a program that asks the user to input numbers until they input 0. The program should print the sum of all the input numbers.\n"
   ]
  },
  {
   "cell_type": "code",
   "execution_count": null,
   "id": "e48bfc1c",
   "metadata": {},
   "outputs": [],
   "source": [
    "s=0\n",
    "while True :\n",
    "    n=int(input(\"Enter a number( enter 0 to stop):\"))\n",
    "    if n == 0:\n",
    "        break\n",
    "    s+=n\n",
    "print(\"The sum of all numbers is:\",s)"
   ]
  },
  {
   "cell_type": "markdown",
   "id": "e3aa81c8",
   "metadata": {},
   "source": [
    "\n",
    "### Assignment 9: continue Statement\n",
    "\n",
    "Write a program that prints all the numbers from 1 to 10 except 5 using a for loop and continue statement.\n"
   ]
  },
  {
   "cell_type": "code",
   "execution_count": null,
   "id": "d4c84c9e",
   "metadata": {},
   "outputs": [],
   "source": [
    "for i in range(1,11):\n",
    "    if i==5:\n",
    "        continue\n",
    "    print(i)"
   ]
  },
  {
   "cell_type": "markdown",
   "id": "ea67a904",
   "metadata": {},
   "source": [
    "\n",
    "\n",
    "### Assignment 10: pass Statement\n",
    "\n",
    "Write a program that defines an empty function using the pass statement.\n"
   ]
  },
  {
   "cell_type": "code",
   "execution_count": null,
   "id": "f81c1277",
   "metadata": {},
   "outputs": [],
   "source": [
    "def emt_fun():\n",
    "    pass\n",
    "emt_fun()"
   ]
  },
  {
   "cell_type": "markdown",
   "id": "7ceaf15b",
   "metadata": {},
   "source": [
    "\n",
    "### Assignment 11: Combining Loops and Conditionals\n",
    "\n",
    "Write a program that asks the user to input a number and prints all the even numbers from 1 to that number using a for loop.\n"
   ]
  },
  {
   "cell_type": "code",
   "execution_count": null,
   "id": "157f7f99",
   "metadata": {},
   "outputs": [],
   "source": [
    "n=int(input(\"Enter a number : \"))\n",
    "print(f\"Even numbers from 1 to {num} are \")\n",
    "for i in range(1,n+1):\n",
    "    if i%2==0:\n",
    "        print(i)"
   ]
  },
  {
   "cell_type": "markdown",
   "id": "cf3ac0e9",
   "metadata": {},
   "source": [
    "\n",
    "### Assignment 12: Factorial Calculation\n",
    "\n",
    "Write a program that calculates the factorial of a number input by the user using a while loop.\n",
    "\n"
   ]
  },
  {
   "cell_type": "code",
   "execution_count": null,
   "id": "3f0e7f3f",
   "metadata": {},
   "outputs": [],
   "source": [
    "n=int(input(\"enter a number :\" ))\n",
    "fac=1\n",
    "while n>1:\n",
    "    fac=fac*n\n",
    "    n-=1\n",
    "print(fac)"
   ]
  },
  {
   "cell_type": "markdown",
   "id": "63c3a32e",
   "metadata": {},
   "source": [
    "\n",
    "\n",
    "### Assignment 13: Sum of Digits\n",
    "\n",
    "Write a program that calculates the sum of the digits of a number input by the user using a while loop.\n"
   ]
  },
  {
   "cell_type": "code",
   "execution_count": null,
   "id": "a723a96c",
   "metadata": {},
   "outputs": [],
   "source": [
    "n=int(input(\"Enter a number : \"))\n",
    "n1=n\n",
    "s=0\n",
    "while n>0:\n",
    "    d=n%10\n",
    "    s+=d\n",
    "    n=n//10\n",
    "print(f\"The sum of the digits of {n1} is {s}\")"
   ]
  },
  {
   "cell_type": "markdown",
   "id": "6e7f3314",
   "metadata": {},
   "source": [
    "\n",
    "\n",
    "### Assignment 14: Prime Number Check\n",
    "\n",
    "Write a program that checks if a number input by the user is a prime number using a for loop.\n"
   ]
  },
  {
   "cell_type": "code",
   "execution_count": null,
   "id": "f77d43b6",
   "metadata": {},
   "outputs": [],
   "source": [
    "n=int(input(\"Enter number:\"))\n",
    "c=0\n",
    "for i in range(2,n):\n",
    "    if n%i==0:\n",
    "        c+=1\n",
    "if c==0:\n",
    "    print(f\"{n} is prime number\")\n",
    "else:\n",
    "    print(f\"{n} is not prime number\")"
   ]
  },
  {
   "cell_type": "markdown",
   "id": "774c83f0",
   "metadata": {},
   "source": [
    "\n",
    "### Assignment 15: Fibonacci Sequence\n",
    "\n",
    "Write a program that prints the first n Fibonacci numbers, where n is input by the user."
   ]
  },
  {
   "cell_type": "markdown",
   "id": "f47e97dd",
   "metadata": {},
   "source": [
    "n=int(input(\"Enter a number:\"))\n",
    "f1=0\n",
    "f2=1\n",
    "print(f\"Fibonacci series upto {n} numbers : \")\n",
    "for i in range(n):\n",
    "    print(f1, end=\", \")\n",
    "    f1,f2 = f2,f1 + f2"
   ]
  }
 ],
 "metadata": {
  "kernelspec": {
   "display_name": "Python 3",
   "language": "python",
   "name": "python3"
  },
  "language_info": {
   "codemirror_mode": {
    "name": "ipython",
    "version": 3
   },
   "file_extension": ".py",
   "mimetype": "text/x-python",
   "name": "python",
   "nbconvert_exporter": "python",
   "pygments_lexer": "ipython3",
   "version": "3.9.7"
  }
 },
 "nbformat": 4,
 "nbformat_minor": 5
}
