{
 "cells": [
  {
   "cell_type": "code",
   "execution_count": 1,
   "id": "7f86c886",
   "metadata": {},
   "outputs": [
    {
     "name": "stdout",
     "output_type": "stream",
     "text": [
      "Enter a number : 5\n",
      "number is positive\n"
     ]
    }
   ],
   "source": [
    "n=int(input(\"Enter a number : \"))\n",
    "if n>0:\n",
    "    print(\"number is positive\")"
   ]
  },
  {
   "cell_type": "code",
   "execution_count": 2,
   "id": "0bb8c43e",
   "metadata": {},
   "outputs": [
    {
     "name": "stdout",
     "output_type": "stream",
     "text": [
      "Enter a number(except zero) : 7\n",
      "number is positive\n"
     ]
    }
   ],
   "source": [
    "n=int(input(\"Enter a number(except zero) : \"))\n",
    "if n>0:\n",
    "    print(\"number is positive\")\n",
    "else:\n",
    "    print(\"number is negative\")"
   ]
  },
  {
   "cell_type": "code",
   "execution_count": 3,
   "id": "8e5fe77c",
   "metadata": {},
   "outputs": [
    {
     "name": "stdout",
     "output_type": "stream",
     "text": [
      "Enter a number : 8\n",
      "number is positive\n"
     ]
    }
   ],
   "source": [
    "n=int(input(\"Enter a number : \"))\n",
    "if n>0:\n",
    "    print(\"number is positive\")\n",
    "elif n<0:\n",
    "    print(\"number is negative\")\n",
    "else:\n",
    "    print(\"number is zero\")"
   ]
  },
  {
   "cell_type": "code",
   "execution_count": 4,
   "id": "b840f367",
   "metadata": {},
   "outputs": [
    {
     "name": "stdout",
     "output_type": "stream",
     "text": [
      "Enter a number(except zero) : 67\n",
      "number is odd and negative\n"
     ]
    }
   ],
   "source": [
    "n=int(input(\"Enter a number(except zero) : \"))\n",
    "if n>0:\n",
    "    if n%2==0:\n",
    "        print(\"number is even and positive\")\n",
    "    else:\n",
    "        print(\"number is odd and negative\")\n",
    "else:\n",
    "    print(\"number is negative.\")"
   ]
  },
  {
   "cell_type": "code",
   "execution_count": 5,
   "id": "fcb1d97e",
   "metadata": {},
   "outputs": [
    {
     "name": "stdout",
     "output_type": "stream",
     "text": [
      "1, 2, 3, 4, 5, 6, 7, 8, 9, 10, "
     ]
    }
   ],
   "source": [
    "for i in range(1,11):\n",
    "    print(i,end=\", \")"
   ]
  },
  {
   "cell_type": "code",
   "execution_count": 6,
   "id": "0f5dfd96",
   "metadata": {},
   "outputs": [
    {
     "name": "stdout",
     "output_type": "stream",
     "text": [
      "1, 2, 3, 4, 5, 6, 7, 8, 9, 10, "
     ]
    }
   ],
   "source": [
    "i=1\n",
    "while( i <= 10):\n",
    "    print(i,end=\", \")\n",
    "    i+=1"
   ]
  },
  {
   "cell_type": "code",
   "execution_count": 7,
   "id": "184a2531",
   "metadata": {},
   "outputs": [
    {
     "name": "stdout",
     "output_type": "stream",
     "text": [
      "*****\n",
      "*****\n",
      "*****\n",
      "*****\n",
      "*****\n"
     ]
    }
   ],
   "source": [
    "r=5\n",
    "c=5\n",
    "for i in range(r):\n",
    "    for j in range(c):\n",
    "        print(\"*\",end=\"\")\n",
    "    print()"
   ]
  },
  {
   "cell_type": "code",
   "execution_count": 10,
   "id": "0aa4ca75",
   "metadata": {},
   "outputs": [
    {
     "name": "stdout",
     "output_type": "stream",
     "text": [
      "Enter a number( enter 0 to stop):5\n",
      "Enter a number( enter 0 to stop):35\n",
      "Enter a number( enter 0 to stop):34\n",
      "Enter a number( enter 0 to stop):0\n",
      "The sum of all numbers is: 74\n"
     ]
    }
   ],
   "source": [
    "s=0\n",
    "while True :\n",
    "    n=int(input(\"Enter a number( enter 0 to stop):\"))\n",
    "    if n == 0:\n",
    "        break\n",
    "    s+=n\n",
    "print(\"The sum of all numbers is:\",s)"
   ]
  },
  {
   "cell_type": "code",
   "execution_count": null,
   "id": "7677baf3",
   "metadata": {},
   "outputs": [],
   "source": [
    "for i in range(1,11):\n",
    "    if i==5:\n",
    "        continue\n",
    "    print(i)"
   ]
  },
  {
   "cell_type": "code",
   "execution_count": null,
   "id": "678b1370",
   "metadata": {},
   "outputs": [],
   "source": [
    "def emt_fun():\n",
    "    pass\n",
    "emt_fun()"
   ]
  },
  {
   "cell_type": "code",
   "execution_count": null,
   "id": "0cb17629",
   "metadata": {},
   "outputs": [],
   "source": [
    "n=int(input(\"Enter a number : \"))\n",
    "print(f\"Even numbers from 1 to {num} are \")\n",
    "for i in range(1,n+1):\n",
    "    if i%2==0:\n",
    "        print(i)"
   ]
  },
  {
   "cell_type": "code",
   "execution_count": null,
   "id": "50acb964",
   "metadata": {},
   "outputs": [],
   "source": [
    "n=int(input(\"enter a number :\" ))\n",
    "fac=1\n",
    "while n>1:\n",
    "    fac=fac*n\n",
    "    n-=1\n",
    "print(fac)"
   ]
  },
  {
   "cell_type": "code",
   "execution_count": null,
   "id": "ae46e2d0",
   "metadata": {},
   "outputs": [],
   "source": [
    "n=int(input(\"Enter a number : \"))\n",
    "n1=n\n",
    "s=0\n",
    "while n>0:\n",
    "    d=n%10\n",
    "    s+=d\n",
    "    n=n//10\n",
    "print(f\"The sum of the digits of {n1} is {s}\")"
   ]
  },
  {
   "cell_type": "code",
   "execution_count": null,
   "id": "cd2d01d2",
   "metadata": {},
   "outputs": [],
   "source": [
    "n=int(input(\"Enter number:\"))\n",
    "c=0\n",
    "for i in range(2,n):\n",
    "    if n%i==0:\n",
    "        c+=1\n",
    "if c==0:\n",
    "    print(f\"{n} is prime number\")\n",
    "else:\n",
    "    print(f\"{n} is not prime number\")"
   ]
  },
  {
   "cell_type": "code",
   "execution_count": null,
   "id": "4d85c7ab",
   "metadata": {},
   "outputs": [],
   "source": [
    "n=int(input(\"Enter a number:\"))\n",
    "f1=0\n",
    "f2=1\n",
    "print(f\"Fibonacci series upto {n} numbers : \")\n",
    "for i in range(n):\n",
    "    print(f1, end=\", \")\n",
    "    f1,f2 = f2,f1 + f2"
   ]
  },
  {
   "cell_type": "code",
   "execution_count": null,
   "id": "e7de4db4",
   "metadata": {},
   "outputs": [],
   "source": []
  }
 ],
 "metadata": {
  "kernelspec": {
   "display_name": "Python 3 (ipykernel)",
   "language": "python",
   "name": "python3"
  },
  "language_info": {
   "codemirror_mode": {
    "name": "ipython",
    "version": 3
   },
   "file_extension": ".py",
   "mimetype": "text/x-python",
   "name": "python",
   "nbconvert_exporter": "python",
   "pygments_lexer": "ipython3",
   "version": "3.9.13"
  }
 },
 "nbformat": 4,
 "nbformat_minor": 5
}
