{
 "cells": [
  {
   "cell_type": "markdown",
   "metadata": {},
   "source": [
    "# Module 3: Data Structures Assignments\n",
    "## Lesson 3.4: Dictionaries\n",
    "### Assignment 1: Creating and Accessing Dictionaries\n",
    "\n",
    "Create a dictionary with the first 10 positive integers as keys and their squares as values. Print the dictionary."
   ]
  },
  {
   "cell_type": "code",
   "execution_count": 20,
   "id": "f63d5f9d",
   "metadata": {},
   "outputs": [
    {
     "name": "stdout",
     "output_type": "stream",
     "text": [
      "{1: 1, 2: 4, 3: 9, 4: 16, 5: 25, 6: 36, 7: 49, 8: 64, 9: 81, 10: 100}\n"
     ]
    }
   ],
   "source": [
    "dic = { i : i*i for i in range (1,11)}\n",
    "print(dic)"
   ]
  },
  {
   "cell_type": "markdown",
   "metadata": {},
   "source": [
    "### Assignment 2: Accessing Dictionary Elements\n",
    "\n",
    "Print the value of the key 5 and the keys of the dictionary created in Assignment 1."
   ]
  },
  {
   "cell_type": "code",
   "execution_count": 21,
   "id": "163290d4",
   "metadata": {},
   "outputs": [
    {
     "name": "stdout",
     "output_type": "stream",
     "text": [
      "25\n",
      "1, 2, 3, 4, 5, 6, 7, 8, 9, 10, "
     ]
    }
   ],
   "source": [
    "print( dic[5])\n",
    "for i in range(1,11):\n",
    "    print(i , end=\", \")"
   ]
  },
  {
   "cell_type": "markdown",
   "metadata": {},
   "source": [
    "### Assignment 3: Dictionary Methods\n",
    "\n",
    "Add a new key-value pair (11, 121) to the dictionary created in Assignment 1 and then remove the key-value pair with key 1. Print the modified dictionary."
   ]
  },
  {
   "cell_type": "code",
   "execution_count": 22,
   "id": "3882e8b5",
   "metadata": {},
   "outputs": [
    {
     "name": "stdout",
     "output_type": "stream",
     "text": [
      "{2: 4, 3: 9, 4: 16, 5: 25, 6: 36, 7: 49, 8: 64, 9: 81, 10: 100, 11: 121}\n"
     ]
    }
   ],
   "source": [
    "dic[11]=121\n",
    "dic.pop(1,None)\n",
    "print(dic)"
   ]
  },
  {
   "cell_type": "markdown",
   "metadata": {},
   "source": [
    "### Assignment 4: Iterating Over Dictionaries\n",
    "\n",
    "Iterate over the dictionary created in Assignment 1 and print each key-value pair."
   ]
  },
  {
   "cell_type": "code",
   "execution_count": 23,
   "id": "16aa462f",
   "metadata": {},
   "outputs": [
    {
     "name": "stdout",
     "output_type": "stream",
     "text": [
      "2 : 4\n",
      "3 : 9\n",
      "4 : 16\n",
      "5 : 25\n",
      "6 : 36\n",
      "7 : 49\n",
      "8 : 64\n",
      "9 : 81\n",
      "10 : 100\n",
      "11 : 121\n"
     ]
    }
   ],
   "source": [
    "for i in range(2,12):\n",
    "    print(i , \":\",dic[i] )"
   ]
  },
  {
   "cell_type": "markdown",
   "metadata": {},
   "source": [
    "### Assignment 5: Dictionary Comprehensions\n",
    "\n",
    "Create a new dictionary containing the cubes of the first 10 positive integers using a dictionary comprehension. Print the new dictionary."
   ]
  },
  {
   "cell_type": "code",
   "execution_count": 24,
   "id": "a398837d",
   "metadata": {},
   "outputs": [
    {
     "name": "stdout",
     "output_type": "stream",
     "text": [
      "{1: 1, 2: 8, 3: 27, 4: 64, 5: 125, 6: 216, 7: 343, 8: 512, 9: 729, 10: 1000}\n"
     ]
    }
   ],
   "source": [
    "dic1 = { i : i**3 for i in range(1,11)}\n",
    "print(dic1)"
   ]
  },
  {
   "cell_type": "markdown",
   "metadata": {},
   "source": [
    "### Assignment 6: Merging Dictionaries\n",
    "\n",
    "Create two dictionaries: one with keys as the first 5 positive integers and values as their squares, and another with keys as the next 5 positive integers and values as their squares. Merge these dictionaries into a single dictionary and print it."
   ]
  },
  {
   "cell_type": "code",
   "execution_count": 25,
   "id": "0616ce11",
   "metadata": {},
   "outputs": [
    {
     "name": "stdout",
     "output_type": "stream",
     "text": [
      "{1: 1, 2: 4, 3: 9, 4: 16, 5: 25, 6: 216, 7: 343, 8: 512, 9: 729, 10: 1000}\n"
     ]
    }
   ],
   "source": [
    "dic1 = { i : i*i for i in range(1,6)}\n",
    "dic2 = { i : i**3 for i in range(6,11)}\n",
    "dic1.update(dic2)\n",
    "print(dic1)"
   ]
  },
  {
   "cell_type": "markdown",
   "metadata": {},
   "source": [
    "### Assignment 7: Nested Dictionaries\n",
    "\n",
    "Create a nested dictionary representing a student with keys 'name', 'age', 'grades', where 'grades' is another dictionary with keys 'math', 'science', and 'english'. Print the nested dictionary."
   ]
  },
  {
   "cell_type": "code",
   "execution_count": 26,
   "id": "e3305d44",
   "metadata": {},
   "outputs": [
    {
     "name": "stdout",
     "output_type": "stream",
     "text": [
      "{'name': 'ronak', 'age': 18, 'grades': {'maths': 50, 'science': 47, 'english': 43}}\n"
     ]
    }
   ],
   "source": [
    "stu = { \"name\" : \"ronak\" ,\"age\":18, \"grades\" : { \"maths\" : 50 ,\"science\" : 47, \"english\": 43}}\n",
    "print(stu)"
   ]
  },
  {
   "cell_type": "markdown",
   "metadata": {},
   "source": [
    "### Assignment 8: Dictionary of Lists\n",
    "\n",
    "Create a dictionary where the keys are the first 5 positive integers and the values are lists containing the first 5 multiples of the key. Print the dictionary."
   ]
  },
  {
   "cell_type": "code",
   "execution_count": 27,
   "id": "d8e9e8fa",
   "metadata": {},
   "outputs": [
    {
     "name": "stdout",
     "output_type": "stream",
     "text": [
      "{1: [1, 2, 3, 4, 5], 2: [2, 4, 6, 8, 10], 3: [3, 6, 9, 12, 15], 4: [4, 8, 12, 16, 20], 5: [5, 10, 15, 20, 25]}\n"
     ]
    }
   ],
   "source": [
    "dic = { i : [i*j  for j in range (1,6)] for i in range(1,6)}\n",
    "print(dic)"
   ]
  },
  {
   "cell_type": "markdown",
   "metadata": {},
   "source": [
    "### Assignment 9: Dictionary of Tuples\n",
    "\n",
    "Create a dictionary where the keys are the first 5 positive integers and the values are tuples containing the key and its square. Print the dictionary."
   ]
  },
  {
   "cell_type": "code",
   "execution_count": 28,
   "id": "f98c0c85",
   "metadata": {},
   "outputs": [
    {
     "name": "stdout",
     "output_type": "stream",
     "text": [
      "{1: (1, 1), 2: (2, 4), 3: (3, 9), 4: (4, 16), 5: (5, 25)}\n"
     ]
    }
   ],
   "source": [
    "dic = { i : ( i , i*i )  for i in range(1,6) }\n",
    "print(dic)"
   ]
  },
  {
   "cell_type": "markdown",
   "metadata": {},
   "source": [
    "### Assignment 10: Dictionary and List Conversion\n",
    "\n",
    "Create a dictionary with the first 5 positive integers as keys and their squares as values. Convert the dictionary to a list of tuples and print it."
   ]
  },
  {
   "cell_type": "code",
   "execution_count": 29,
   "id": "8dd43bf1",
   "metadata": {},
   "outputs": [
    {
     "name": "stdout",
     "output_type": "stream",
     "text": [
      "[(1, 1), (2, 4), (3, 9), (4, 16), (5, 25)]\n"
     ]
    }
   ],
   "source": [
    "dic = { i: i*i for i in range(1,6)}\n",
    "t = list(dic.items())\n",
    "print(t)"
   ]
  },
  {
   "cell_type": "markdown",
   "metadata": {},
   "source": [
    "### Assignment 11: Dictionary Filtering\n",
    "\n",
    "Create a dictionary with the first 10 positive integers as keys and their squares as values. Create a new dictionary containing only the key-value pairs where the key is even. Print the new dictionary."
   ]
  },
  {
   "cell_type": "code",
   "execution_count": 30,
   "id": "c70df4ba",
   "metadata": {},
   "outputs": [
    {
     "name": "stdout",
     "output_type": "stream",
     "text": [
      "{2: 4, 4: 16, 6: 36, 8: 64, 10: 100}\n"
     ]
    }
   ],
   "source": [
    "dic = { i : i*i for i in range(1,11)}\n",
    "dic_even = { i : dic[i] for i in dic if i%2==0 }\n",
    "print(dic_even)"
   ]
  },
  {
   "cell_type": "markdown",
   "metadata": {},
   "source": [
    "### Assignment 12: Dictionary Key and Value Transformation\n",
    "\n",
    "Create a dictionary with the first 5 positive integers as keys and their squares as values. Create a new dictionary with keys and values swapped. Print the new dictionary."
   ]
  },
  {
   "cell_type": "code",
   "execution_count": 31,
   "id": "eccfc91e",
   "metadata": {},
   "outputs": [
    {
     "name": "stdout",
     "output_type": "stream",
     "text": [
      "{1: 1, 4: 2, 9: 3, 16: 4, 25: 5}\n"
     ]
    }
   ],
   "source": [
    "dic = { i:i*i for i in range(1,6)}\n",
    "dic1 = { dic[i] : i for i in dic }\n",
    "print(dic1)"
   ]
  },
  {
   "cell_type": "markdown",
   "metadata": {},
   "source": [
    "### Assignment 13: Default Dictionary\n",
    "\n",
    "Create a default dictionary where each key has a default value of an empty list. Add some elements to the lists and print the dictionary."
   ]
  },
  {
   "cell_type": "code",
   "execution_count": 32,
   "id": "6e8b7251",
   "metadata": {},
   "outputs": [
    {
     "name": "stdout",
     "output_type": "stream",
     "text": [
      "defaultdict(<class 'list'>, {1: [1, 2, 3], 2: [1, 2, 3]})\n"
     ]
    }
   ],
   "source": [
    "from collections import defaultdict\n",
    "dic = defaultdict(list)\n",
    "dic[1]=[1,2,3]\n",
    "dic[2]=[1,2,3]\n",
    "print(dic)"
   ]
  },
  {
   "cell_type": "markdown",
   "metadata": {},
   "source": [
    "### Assignment 14: Counting with Dictionaries\n",
    "\n",
    "Write a function that takes a string and returns a dictionary with the count of each character in the string. Print the dictionary."
   ]
  },
  {
   "cell_type": "code",
   "execution_count": 36,
   "id": "7d21f949",
   "metadata": {},
   "outputs": [
    {
     "name": "stdout",
     "output_type": "stream",
     "text": [
      "{'s': 2, 'd': 3, 'f': 3, 'g': 3, 'h': 3, 'u': 1, 'j': 1}\n"
     ]
    }
   ],
   "source": [
    "def count_s(s):\n",
    "    d={}\n",
    "    for i in s:\n",
    "        if i in d:\n",
    "            d[i]+=1\n",
    "        else:\n",
    "            d[i]=1\n",
    "    return d\n",
    "\n",
    "s= input(\"enter a string : \")\n",
    "print(count_s(s))"
   ]
  },
  {
   "cell_type": "markdown",
   "metadata": {},
   "source": [
    "### Assignment 15: Dictionary and JSON\n",
    "\n",
    "Create a dictionary representing a book with keys 'title', 'author', 'year', and 'genre'. Convert the dictionary to a JSON string and print it."
   ]
  },
  {
   "cell_type": "code",
   "execution_count": 34,
   "id": "fde71368",
   "metadata": {},
   "outputs": [
    {
     "name": "stdout",
     "output_type": "stream",
     "text": [
      "{\n",
      "   \"title\": \"hi python\",\n",
      "   \"author\": \"xyz\",\n",
      "   \"year\": 2013,\n",
      "   \"genre\": \"coding\"\n",
      "}\n"
     ]
    }
   ],
   "source": [
    "import json\n",
    "book = { \"title\": \"hi python\" , \"author\" : \"xyz\" , \"year\": 2013 , \"genre\" : \"coding\" }\n",
    "j_dic = json.dumps(book , indent=3)\n",
    "print(j_dic)"
   ]
  },
  {
   "cell_type": "code",
   "execution_count": null,
   "id": "6b58cde7",
   "metadata": {},
   "outputs": [],
   "source": []
  }
 ],
 "metadata": {
  "kernelspec": {
   "display_name": "base",
   "language": "python",
   "name": "python3"
  },
  "language_info": {
   "codemirror_mode": {
    "name": "ipython",
    "version": 3
   },
   "file_extension": ".py",
   "mimetype": "text/x-python",
   "name": "python",
   "nbconvert_exporter": "python",
   "pygments_lexer": "ipython3",
   "version": "3.12.7"
  }
 },
 "nbformat": 4,
 "nbformat_minor": 5
}
